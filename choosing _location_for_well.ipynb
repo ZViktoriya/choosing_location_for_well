{
 "cells": [
  {
   "cell_type": "markdown",
   "metadata": {},
   "source": [
    "# **<p style=\"text-align: center;\">Выбор локации для скважины.</p>**"
   ]
  },
  {
   "cell_type": "markdown",
   "metadata": {},
   "source": [
    "Допустим, вы работаете в добывающей компании «ГлавРосГосНефть». Нужно решить, где бурить новую скважину.\n",
    "\n",
    "Вам предоставлены пробы нефти в трёх регионах: в каждом 10 000 месторождений, где измерили качество нефти и объём её запасов. Постройте модель машинного обучения, которая поможет определить регион, где добыча принесёт наибольшую прибыль. Проанализируйте возможную прибыль и риски техникой *Bootstrap.*\n",
    "\n",
    "Шаги для выбора локации:\n",
    "\n",
    "- В избранном регионе ищут месторождения, для каждого определяют значения признаков;\n",
    "- Строят модель и оценивают объём запасов;\n",
    "- Выбирают месторождения с самым высокими оценками значений. Количество месторождений зависит от бюджета компании и стоимости разработки одной скважины;\n",
    "- Прибыль равна суммарной прибыли отобранных месторождений."
   ]
  },
  {
   "cell_type": "markdown",
   "metadata": {},
   "source": [
    "<img src=\"https://media.istockphoto.com/id/1317076725/ru/%D1%84%D0%BE%D1%82%D0%BE/%D0%BD%D0%B5%D1%84%D1%82%D0%B5%D1%85%D0%B8%D0%BC%D0%B8%D1%87%D0%B5%D1%81%D0%BA%D0%B8%D0%B9-%D0%B7%D0%B0%D0%B2%D0%BE%D0%B4-%D1%81-%D0%B3%D0%BE%D0%BB%D1%83%D0%B1%D0%BE%D0%B9-%D1%82%D1%80%D1%83%D0%B1%D0%BE%D0%B9-%D0%BB%D0%B8%D0%BD%D0%B8%D0%B8-%D0%BA%D0%BB%D0%B0%D0%BF%D0%B0%D0%BD%D0%BE%D0%B2-%D0%BD%D0%B0-%D0%BF%D0%BE%D1%87%D0%B2%D0%B5-%D0%B8-%D0%BD%D0%B0%D1%81%D0%BE%D1%81%D0%B0%D1%85.jpg?s=612x612&w=0&k=20&c=NGMcNuVbo5P4YlVEE7fwXoO3y4VPfbnzJj1-zVd-akI=\" alt=\"Bank\" width=\"30%\" height=\"30%\">"
   ]
  },
  {
   "cell_type": "markdown",
   "metadata": {},
   "source": [
    "<h1>Содержание<span class=\"tocSkip\"></span></h1>\n",
    "<div class=\"toc\"><ul class=\"toc-item\"><li><span><a href=\"#Загрузка-и-подготовка-данных\" data-toc-modified-id=\"Загрузка-и-подготовка-данных-1\"><span class=\"toc-item-num\">1&nbsp;&nbsp;</span>Загрузка и подготовка данных</a></span><ul class=\"toc-item\"><li><span><a href=\"#Откроем-и-изучим-файлы\" data-toc-modified-id=\"Откроем-и-изучим-файлы-1.1\"><span class=\"toc-item-num\">1.1&nbsp;&nbsp;</span>Откроем и изучим файлы</a></span></li><li><span><a href=\"#Изучим-датафрейм-data_0\" data-toc-modified-id=\"Изучим-датафрейм-data_0-1.2\"><span class=\"toc-item-num\">1.2&nbsp;&nbsp;</span>Изучим датафрейм data_0</a></span></li><li><span><a href=\"#Изучим-датафрейм-data_1\" data-toc-modified-id=\"Изучим-датафрейм-data_1-1.3\"><span class=\"toc-item-num\">1.3&nbsp;&nbsp;</span>Изучим датафрейм data_1</a></span></li><li><span><a href=\"#Изучим-датафрейм-data_2\" data-toc-modified-id=\"Изучим-датафрейм-data_2-1.4\"><span class=\"toc-item-num\">1.4&nbsp;&nbsp;</span>Изучим датафрейм data_2</a></span></li></ul></li><li><span><a href=\"#Обучите-и-проверьте-модель-для-каждого-региона\" data-toc-modified-id=\"Обучите-и-проверьте-модель-для-каждого-региона-2\"><span class=\"toc-item-num\">2&nbsp;&nbsp;</span>Обучите и проверьте модель для каждого региона</a></span><ul class=\"toc-item\"><li><span><a href=\"#Разбейте-данные-на-обучающую-и-валидационную-выборки\" data-toc-modified-id=\"Разбейте-данные-на-обучающую-и-валидационную-выборки-2.1\"><span class=\"toc-item-num\">2.1&nbsp;&nbsp;</span>Разбейте данные на обучающую и валидационную выборки</a></span></li><li><span><a href=\"#Обучите-модель-и-сделайте-предсказания-на-валидационной-выборке\" data-toc-modified-id=\"Обучите-модель-и-сделайте-предсказания-на-валидационной-выборке-2.2\"><span class=\"toc-item-num\">2.2&nbsp;&nbsp;</span>Обучите модель и сделайте предсказания на валидационной выборке</a></span></li><li><span><a href=\"#Сохраните-предсказания-и-правильные-ответы-на-валидационной-выборке\" data-toc-modified-id=\"Сохраните-предсказания-и-правильные-ответы-на-валидационной-выборке-2.3\"><span class=\"toc-item-num\">2.3&nbsp;&nbsp;</span>Сохраните предсказания и правильные ответы на валидационной выборке</a></span></li><li><span><a href=\"#Напечатайте-на-экране-средний-запас-предсказанного-сырья-и-RMSE-модели\" data-toc-modified-id=\"Напечатайте-на-экране-средний-запас-предсказанного-сырья-и-RMSE-модели-2.4\"><span class=\"toc-item-num\">2.4&nbsp;&nbsp;</span>Напечатайте на экране средний запас предсказанного сырья и RMSE модели</a></span></li><li><span><a href=\"#Проанализируйте-результаты\" data-toc-modified-id=\"Проанализируйте-результаты-2.5\"><span class=\"toc-item-num\">2.5&nbsp;&nbsp;</span>Проанализируйте результаты</a></span></li></ul></li><li><span><a href=\"#Подготовка-к-расчёту-прибыли\" data-toc-modified-id=\"Подготовка-к-расчёту-прибыли-3\"><span class=\"toc-item-num\">3&nbsp;&nbsp;</span>Подготовка к расчёту прибыли</a></span><ul class=\"toc-item\"><span><a href=\"#Все-ключевые-значения-для-расчётов-сохраните-в-отдельных-переменных\" data-toc-modified-id=\"Все-ключевые-значения-для-расчётов-сохраните-в-отдельных-переменных-3.1\"><span class=\"toc-item-num\">3.1&nbsp;&nbsp;</span>Все ключевые значения для расчётов сохраните в отдельных переменных</a></span></li><li><span><a href=\"#Рассчитайте-достаточный-объём-сырья-для-безубыточной-разработки-новой-скважины.-Сравните-полученный-объём-сырья-со-средним-запасом-в-каждом-регионе\" data-toc-modified-id=\"Рассчитайте-достаточный-объём-сырья-для-безубыточной-разработки-новой-скважины.-Сравните-полученный-объём-сырья-со-средним-запасом-в-каждом-регионе-3.2\"><span class=\"toc-item-num\">3.2&nbsp;&nbsp;</span>Рассчитайте достаточный объём сырья для безубыточной разработки новой скважины. Сравните полученный объём сырья со средним запасом в каждом регионе</a></span></li><li><span><a href=\"#Напишите-выводы-по-этапу-подготовки-расчёта-прибыли\" data-toc-modified-id=\"Напишите-выводы-по-этапу-подготовки-расчёта-прибыли-3.3\"><span class=\"toc-item-num\">3.3&nbsp;&nbsp;</span>Напишите выводы по этапу подготовки расчёта прибыли</a></span></li><li><span><a href=\"#Напишите-функцию-для-расчёта-прибыли-по-выбранным-скважинам-и-предсказаниям-модели\" data-toc-modified-id=\"Напишите-функцию-для-расчёта-прибыли-по-выбранным-скважинам-и-предсказаниям-модели-4\"><span class=\"toc-item-num\">4&nbsp;&nbsp;</span>Напишите функцию для расчёта прибыли по выбранным скважинам и предсказаниям модели</a></span><ul class=\"toc-item\"><li><span><a href=\"#Выберите-скважины-с-максимальными-значениями-предсказаний\" data-toc-modified-id=\"Выберите-скважины-с-максимальными-значениями-предсказаний-4.1\"><span class=\"toc-item-num\">4.1&nbsp;&nbsp;</span>Выберите скважины с максимальными значениями предсказаний</a></span></li><li><span><a href=\"#Просуммируйте-целевое-значение-объёма-сырья,-соответствующее-этим-предсказаниям\" data-toc-modified-id=\"Просуммируйте-целевое-значение-объёма-сырья,-соответствующее-этим-предсказаниям-4.2\"><span class=\"toc-item-num\">4.2&nbsp;&nbsp;</span>Просуммируйте целевое значение объёма сырья, соответствующее этим предсказаниям</a></span></li><li><span><a href=\"#Рассчитайте-прибыль-для-полученного-объёма-сырья\" data-toc-modified-id=\"Рассчитайте-прибыль-для-полученного-объёма-сырья-4.3\"><span class=\"toc-item-num\">4.3&nbsp;&nbsp;</span>Рассчитайте прибыль для полученного объёма сырья</a></span></li></ul></li><li><span><a href=\"#Посчитайте-риски-и-прибыль-для-каждого-региона\" data-toc-modified-id=\"Посчитайте-риски-и-прибыль-для-каждого-региона-5\"><span class=\"toc-item-num\">5&nbsp;&nbsp;</span>Посчитайте риски и прибыль для каждого региона</a></span><ul class=\"toc-item\"><li><span><a href=\"#Примените-технику-Bootstrap-с-1000-выборок,-чтобы-найти-распределение-прибыли\" data-toc-modified-id=\"Примените-технику-Bootstrap-с-1000-выборок,-чтобы-найти-распределение-прибыли-5.1\"><span class=\"toc-item-num\">5.1&nbsp;&nbsp;</span>Примените технику Bootstrap с 1000 выборок, чтобы найти распределение прибыли</a></span></li><li><span><a href=\"#Найдите-среднюю-прибыль,-95%-й-доверительный-интервал-и-риск-убытков.-Убыток-—-это-отрицательная-прибыль\" data-toc-modified-id=\"Найдите-среднюю-прибыль,-95%-й-доверительный-интервал-и-риск-убытков.-Убыток-—-это-отрицательная-прибыль-5.2\"><span class=\"toc-item-num\">5.2&nbsp;&nbsp;</span>Найдите среднюю прибыль, 95%-й доверитель <li><span><a href=\"#Напишите-выводы:-предложите-регион-для-разработки-скважин-и-обоснуйте-выбор\" data-toc-modified-id=\"Напишите-выводы:-предложите-регион-для-разработки-скважин-и-обоснуйте-выбор-5.3\"><span class=\"toc-item-num\">5.3&nbsp;&nbsp;</span>Напишите выводы: предложите регион для разработки скважин и обоснуйте выбор</a></span></li></ul></div>"
   ]
  },
  {
   "cell_type": "code",
   "execution_count": 1,
   "metadata": {},
   "outputs": [],
   "source": [
    "import pandas as pd\n",
    "import numpy as np\n",
    "import matplotlib.pyplot as plt\n",
    "import seaborn as sns\n",
    "from sklearn.model_selection import train_test_split\n",
    "from sklearn.linear_model import LinearRegression, Lasso\n",
    "from sklearn.metrics import mean_squared_error"
   ]
  },
  {
   "cell_type": "markdown",
   "metadata": {},
   "source": [
    "## Загрузка и подготовка данных"
   ]
  },
  {
   "cell_type": "markdown",
   "metadata": {},
   "source": [
    "### Откроем и изучим файлы."
   ]
  },
  {
   "cell_type": "code",
   "execution_count": 2,
   "metadata": {},
   "outputs": [
    {
     "name": "stdout",
     "output_type": "stream",
     "text": [
      "Регион 0:\n",
      "      id        f0        f1        f2     product\n",
      "0  txEyH  0.705745 -0.497823  1.221170  105.280062\n",
      "1  2acmU  1.334711 -0.340164  4.365080   73.037750\n",
      "2  409Wp  1.022732  0.151990  1.419926   85.265647\n",
      "3  iJLyR -0.032172  0.139033  2.978566  168.620776\n",
      "4  Xdl7t  1.988431  0.155413  4.751769  154.036647\n",
      "\n",
      "Регион 1:\n",
      "      id         f0         f1        f2     product\n",
      "0  kBEdx -15.001348  -8.276000 -0.005876    3.179103\n",
      "1  62mP7  14.272088  -3.475083  0.999183   26.953261\n",
      "2  vyE1P   6.263187  -5.948386  5.001160  134.766305\n",
      "3  KcrkZ -13.081196 -11.506057  4.999415  137.945408\n",
      "4  AHL4O  12.702195  -8.147433  5.004363  134.766305\n",
      "\n",
      "Регион 2:\n",
      "      id        f0        f1        f2     product\n",
      "0  fwXo0 -1.146987  0.963328 -0.828965   27.758673\n",
      "1  WJtFt  0.262778  0.269839 -2.530187   56.069697\n",
      "2  ovLUW  0.194587  0.289035 -5.586433   62.871910\n",
      "3  q6cA6  2.236060 -0.553760  0.930038  114.572842\n",
      "4  WPMUX -0.515993  1.716266  5.899011  149.600746\n"
     ]
    }
   ],
   "source": [
    "data_0 = pd.read_csv('/datasets/geo_data_0.csv')\n",
    "data_1 = pd.read_csv('/datasets/geo_data_1.csv')\n",
    "data_2 = pd.read_csv('/datasets/geo_data_2.csv')\n",
    "\n",
    "print(\"Регион 0:\")\n",
    "print(data_0.head())\n",
    "print(\"\\nРегион 1:\")\n",
    "print(data_1.head())\n",
    "print(\"\\nРегион 2:\")\n",
    "print(data_2.head())"
   ]
  },
  {
   "cell_type": "markdown",
   "metadata": {},
   "source": [
    "***В каждом регионе присутствуют следующие столбцы:***\n",
    "\n",
    "- id: уникальный идентификатор скважины.\n",
    "- f0, f1, f2: три признака точек (неважно, что они означают, но сами признаки значимы).\n",
    "- product: объём запасов в скважине (тыс. баррелей)."
   ]
  },
  {
   "cell_type": "markdown",
   "metadata": {},
   "source": [
    "### Изучим датафрейм data_0."
   ]
  },
  {
   "cell_type": "code",
   "execution_count": 3,
   "metadata": {},
   "outputs": [
    {
     "name": "stdout",
     "output_type": "stream",
     "text": [
      "<class 'pandas.core.frame.DataFrame'>\n",
      "RangeIndex: 100000 entries, 0 to 99999\n",
      "Data columns (total 5 columns):\n",
      " #   Column   Non-Null Count   Dtype  \n",
      "---  ------   --------------   -----  \n",
      " 0   id       100000 non-null  object \n",
      " 1   f0       100000 non-null  float64\n",
      " 2   f1       100000 non-null  float64\n",
      " 3   f2       100000 non-null  float64\n",
      " 4   product  100000 non-null  float64\n",
      "dtypes: float64(4), object(1)\n",
      "memory usage: 3.8+ MB\n"
     ]
    }
   ],
   "source": [
    "data_0.info()"
   ]
  },
  {
   "cell_type": "markdown",
   "metadata": {},
   "source": [
    "***В data_0 содержится 100 000 записей (строк).***\n",
    "\n",
    "Все 5 столбцов имеют непустые значения (non-null count равно 100 000 для каждого столбца).\n",
    "Столбец id имеет тип данных object, что означает, что он содержит строковые значения.\n",
    "Столбцы f0, f1, f2 и product имеют тип данных float64, что означает, что они содержат числовые значения с плавающей точкой."
   ]
  },
  {
   "cell_type": "code",
   "execution_count": 4,
   "metadata": {},
   "outputs": [
    {
     "name": "stdout",
     "output_type": "stream",
     "text": [
      "Количество явных дубликатов в data_0: 0\n",
      "Количество неявных дубликатов в data_0: 0\n"
     ]
    }
   ],
   "source": [
    "print(\"Количество явных дубликатов в data_0:\", data_0.duplicated().sum())\n",
    "print(\"Количество неявных дубликатов в data_0:\", data_0.duplicated(subset=data_0.columns[1:]).sum())"
   ]
  },
  {
   "cell_type": "code",
   "execution_count": 5,
   "metadata": {},
   "outputs": [
    {
     "name": "stdout",
     "output_type": "stream",
     "text": [
      "Количество явных дубликатов в data_0: 0\n",
      "Количество неявных дубликатов в data_0 по столбцу 'id': 10\n"
     ]
    }
   ],
   "source": [
    "print(\"Количество явных дубликатов в data_0:\", data_0.duplicated().sum())\n",
    "print(\"Количество неявных дубликатов в data_0 по столбцу 'id':\", data_0.duplicated(subset='id').sum())"
   ]
  },
  {
   "cell_type": "code",
   "execution_count": 6,
   "metadata": {},
   "outputs": [],
   "source": [
    "data_0.drop_duplicates(subset='id', keep='first', inplace=True)"
   ]
  },
  {
   "cell_type": "markdown",
   "metadata": {},
   "source": [
    "***В датафрейме  data_0 отсутствуют как явные, так и неявные дубликаты.***\n",
    "\n",
    "Это положительное обстоятельство, поскольку отсутствие дубликатов позволяет нам работать с чистыми данными и избежать искажения результатов анализа."
   ]
  },
  {
   "cell_type": "code",
   "execution_count": 7,
   "metadata": {},
   "outputs": [],
   "source": [
    "data_0 = data_0.drop('id', axis=1)"
   ]
  },
  {
   "cell_type": "markdown",
   "metadata": {},
   "source": [
    "***Столбец \"id\" представляет собой уникальный идентификатор каждой скважины в регионе.***\n",
    "\n",
    "- Он не содержит полезной информации, которая может быть использована для обучения модели. Уникальный идентификатор не имеет никакого отношения к объему запасов в скважине, который является целевой переменной.\n",
    "\n",
    "- После проверки данных было обнаруженно, что столбец \"id\" не содержит явных или неявных дубликатов. Каждое значение \"id\" встречается только один раз в данных. Поэтому он не предоставляет никакой информации о возможных зависимостях.\n",
    "\n",
    "- Удаление столбца \"id\" не повлияет на способность модели предсказывать объемы запасов в скважинах. Модели машинного обучения обычно работают с числовыми и категориальными признаками, которые имеют корреляцию с целевой переменной. В данном случае, признаки \"f0\", \"f1\" и \"f2\" имеют большую значимость для предсказания объема запасов, чем уникальные идентификаторы скважин.\n",
    "\n",
    "Исходя из этих факторов было принято решение удалить столбец \"id\" из датафрейма data_0, чтобы упростить данные и избежать ненужного включения неинформативной информации в модель обучения."
   ]
  },
  {
   "cell_type": "code",
   "execution_count": 8,
   "metadata": {},
   "outputs": [
    {
     "data": {
      "text/html": [
       "<div>\n",
       "<style scoped>\n",
       "    .dataframe tbody tr th:only-of-type {\n",
       "        vertical-align: middle;\n",
       "    }\n",
       "\n",
       "    .dataframe tbody tr th {\n",
       "        vertical-align: top;\n",
       "    }\n",
       "\n",
       "    .dataframe thead th {\n",
       "        text-align: right;\n",
       "    }\n",
       "</style>\n",
       "<table border=\"1\" class=\"dataframe\">\n",
       "  <thead>\n",
       "    <tr style=\"text-align: right;\">\n",
       "      <th></th>\n",
       "      <th>f0</th>\n",
       "      <th>f1</th>\n",
       "      <th>f2</th>\n",
       "      <th>product</th>\n",
       "    </tr>\n",
       "  </thead>\n",
       "  <tbody>\n",
       "    <tr>\n",
       "      <th>count</th>\n",
       "      <td>99990.000000</td>\n",
       "      <td>99990.000000</td>\n",
       "      <td>99990.000000</td>\n",
       "      <td>99990.000000</td>\n",
       "    </tr>\n",
       "    <tr>\n",
       "      <th>mean</th>\n",
       "      <td>0.500454</td>\n",
       "      <td>0.250141</td>\n",
       "      <td>2.502629</td>\n",
       "      <td>92.499684</td>\n",
       "    </tr>\n",
       "    <tr>\n",
       "      <th>std</th>\n",
       "      <td>0.871844</td>\n",
       "      <td>0.504430</td>\n",
       "      <td>3.248149</td>\n",
       "      <td>44.288304</td>\n",
       "    </tr>\n",
       "    <tr>\n",
       "      <th>min</th>\n",
       "      <td>-1.408605</td>\n",
       "      <td>-0.848218</td>\n",
       "      <td>-12.088328</td>\n",
       "      <td>0.000000</td>\n",
       "    </tr>\n",
       "    <tr>\n",
       "      <th>25%</th>\n",
       "      <td>-0.072572</td>\n",
       "      <td>-0.200877</td>\n",
       "      <td>0.287784</td>\n",
       "      <td>56.497069</td>\n",
       "    </tr>\n",
       "    <tr>\n",
       "      <th>50%</th>\n",
       "      <td>0.502405</td>\n",
       "      <td>0.250252</td>\n",
       "      <td>2.515969</td>\n",
       "      <td>91.847928</td>\n",
       "    </tr>\n",
       "    <tr>\n",
       "      <th>75%</th>\n",
       "      <td>1.073626</td>\n",
       "      <td>0.700640</td>\n",
       "      <td>4.715035</td>\n",
       "      <td>128.563699</td>\n",
       "    </tr>\n",
       "    <tr>\n",
       "      <th>max</th>\n",
       "      <td>2.362331</td>\n",
       "      <td>1.343769</td>\n",
       "      <td>16.003790</td>\n",
       "      <td>185.364347</td>\n",
       "    </tr>\n",
       "  </tbody>\n",
       "</table>\n",
       "</div>"
      ],
      "text/plain": [
       "                 f0            f1            f2       product\n",
       "count  99990.000000  99990.000000  99990.000000  99990.000000\n",
       "mean       0.500454      0.250141      2.502629     92.499684\n",
       "std        0.871844      0.504430      3.248149     44.288304\n",
       "min       -1.408605     -0.848218    -12.088328      0.000000\n",
       "25%       -0.072572     -0.200877      0.287784     56.497069\n",
       "50%        0.502405      0.250252      2.515969     91.847928\n",
       "75%        1.073626      0.700640      4.715035    128.563699\n",
       "max        2.362331      1.343769     16.003790    185.364347"
      ]
     },
     "execution_count": 8,
     "metadata": {},
     "output_type": "execute_result"
    }
   ],
   "source": [
    "data_0.describe()"
   ]
  },
  {
   "cell_type": "code",
   "execution_count": 10,
   "metadata": {},
   "outputs": [
    {
     "data": {
      "image/png": "[encoded data removed]",
      "text/plain": [
       "<Figure size 1224x576 with 4 Axes>"
      ]
     },
     "metadata": {
      "needs_background": "light"
     },
     "output_type": "display_data"
    }
   ],
   "source": [
    "data_0.hist(figsize=(17, 8), bins=80)\n",
    "plt.show()"
   ]
  },
  {
   "cell_type": "markdown",
   "metadata": {},
   "source": [
    "Распределения признаков в датафрейме data_0 выглядят нормальными, это может означать, что данные соответствуют ожидаемому распределению и могут быть адекватно описаны нормальным распределением. Это может быть полезно при применении статистических методов, которые предполагают нормальность данных, например, при использовании некоторых моделей машинного обучения."
   ]
  },
  {
   "cell_type": "code",
   "execution_count": 11,
   "metadata": {},
   "outputs": [
    {
     "name": "stdout",
     "output_type": "stream",
     "text": [
      "               f0        f1        f2   product\n",
      "f0       1.000000 -0.440717 -0.003211  0.143504\n",
      "f1      -0.440717  1.000000  0.001764 -0.192351\n",
      "f2      -0.003211  0.001764  1.000000  0.483631\n",
      "product  0.143504 -0.192351  0.483631  1.000000\n"
     ]
    }
   ],
   "source": [
    "correlation_matrix = data_0.corr()\n",
    "print(correlation_matrix)"
   ]
  },
  {
   "cell_type": "markdown",
   "metadata": {},
   "source": [
    "Матрица корреляции показывает коэффициенты корреляции между всеми парами признаков в датафрейме data_0. Коэффициент корреляции варьируется от -1 до 1 и указывает на силу и направление линейной связи между двумя переменными.\n",
    "\n",
    "- Коэффициент корреляции между f0 и f1 составляет -0.440723, что указывает на умеренно отрицательную линейную связь между ними.\n",
    "- Коэффициент корреляции между f0 и f2 составляет -0.003153, что указывает на почти отсутствие линейной связи между ними.\n",
    "- Коэффициент корреляции между f0 и product составляет 0.143536, что указывает на слабую положительную линейную связь между ними.\n",
    "- Коэффициент корреляции между f1 и f2 составляет 0.001724, что указывает на практически отсутствие линейной связи между ними.\n",
    "- Коэффициент корреляции между f1 и product составляет -0.192356, что указывает на слабую отрицательную линейную связь между ними.\n",
    "- Коэффициент корреляции между f2 и product составляет 0.483663, что указывает на умеренно положительную линейную связь между ними.\n",
    "\n",
    "***Корреляция не обязательно означает причинно-следственную связь между переменными. Она показывает только степень линейной связи.***"
   ]
  },
  {
   "cell_type": "code",
   "execution_count": 12,
   "metadata": {},
   "outputs": [
    {
     "data": {
      "image/png": "[encoded data removed]",
      "text/plain": [
       "<Figure size 432x288 with 2 Axes>"
      ]
     },
     "metadata": {
      "needs_background": "light"
     },
     "output_type": "display_data"
    }
   ],
   "source": [
    "sns.heatmap(correlation_matrix, annot=True, cmap='RdYlBu')\n",
    "plt.show()"
   ]
  },
  {
   "cell_type": "code",
   "execution_count": 13,
   "metadata": {},
   "outputs": [
    {
     "data": {
      "image/png": "[encoded data removed]",
      "text/plain": [
       "<Figure size 432x288 with 1 Axes>"
      ]
     },
     "metadata": {
      "needs_background": "light"
     },
     "output_type": "display_data"
    },
    {
     "data": {
      "image/png": "[encoded data removed]",
      "text/plain": [
       "<Figure size 432x288 with 1 Axes>"
      ]
     },
     "metadata": {
      "needs_background": "light"
     },
     "output_type": "display_data"
    },
    {
     "data": {
      "image/png": "[encoded data removed]",
      "text/plain": [
       "<Figure size 432x288 with 1 Axes>"
      ]
     },
     "metadata": {
      "needs_background": "light"
     },
     "output_type": "display_data"
    }
   ],
   "source": [
    "plt.scatter(data_0['f0'], data_0['product'])\n",
    "plt.xlabel('f0')\n",
    "plt.ylabel('product')\n",
    "plt.title('Диаграмма рассеяния (f0 vs product)')\n",
    "plt.show()\n",
    "\n",
    "plt.scatter(data_0['f1'], data_0['product'])\n",
    "plt.xlabel('f1')\n",
    "plt.ylabel('product')\n",
    "plt.title('Диаграмма рассеяния (f1 vs product)')\n",
    "plt.show()\n",
    "\n",
    "plt.scatter(data_0['f2'], data_0['product'])\n",
    "plt.xlabel('f2')\n",
    "plt.ylabel('product')\n",
    "plt.title('Диаграмма рассеяния (f2 vs product)')\n",
    "plt.show()"
   ]
  },
  {
   "cell_type": "markdown",
   "metadata": {},
   "source": [
    "Диаграмма рассеяния указывает на отсутствие явной корреляции или зависимости между переменными. Такое распределение точек может означать, что значения переменных не связаны линейно."
   ]
  },
  {
   "cell_type": "markdown",
   "metadata": {},
   "source": [
    "### Изучим датафрейм data_1."
   ]
  },
  {
   "cell_type": "code",
   "execution_count": 14,
   "metadata": {},
   "outputs": [
    {
     "name": "stdout",
     "output_type": "stream",
     "text": [
      "<class 'pandas.core.frame.DataFrame'>\n",
      "RangeIndex: 100000 entries, 0 to 99999\n",
      "Data columns (total 5 columns):\n",
      " #   Column   Non-Null Count   Dtype  \n",
      "---  ------   --------------   -----  \n",
      " 0   id       100000 non-null  object \n",
      " 1   f0       100000 non-null  float64\n",
      " 2   f1       100000 non-null  float64\n",
      " 3   f2       100000 non-null  float64\n",
      " 4   product  100000 non-null  float64\n",
      "dtypes: float64(4), object(1)\n",
      "memory usage: 3.8+ MB\n"
     ]
    }
   ],
   "source": [
    "data_1.info()"
   ]
  },
  {
   "cell_type": "markdown",
   "metadata": {},
   "source": [
    "***В data_1 содержится 100 000 записей (строк).***\n",
    "\n",
    "Все 5 столбцов имеют непустые значения (non-null count равно 100 000 для каждого столбца).\n",
    "Столбец id имеет тип данных object, что означает, что он содержит строковые значения.\n",
    "Столбцы f0, f1, f2 и product имеют тип данных float64, что означает, что они содержат числовые значения с плавающей точкой."
   ]
  },
  {
   "cell_type": "code",
   "execution_count": 15,
   "metadata": {},
   "outputs": [
    {
     "name": "stdout",
     "output_type": "stream",
     "text": [
      "Количество явных дубликатов в data_0: 0\n",
      "Количество неявных дубликатов в data_0: 0\n"
     ]
    }
   ],
   "source": [
    "print(\"Количество явных дубликатов в data_0:\", data_1.duplicated().sum())\n",
    "print(\"Количество неявных дубликатов в data_0:\", data_1.duplicated(subset=data_0.columns[1:]).sum())"
   ]
  },
  {
   "cell_type": "code",
   "execution_count": 16,
   "metadata": {},
   "outputs": [
    {
     "name": "stdout",
     "output_type": "stream",
     "text": [
      "Количество неявных дубликатов в data_0 по столбцу 'id': 4\n"
     ]
    }
   ],
   "source": [
    "print(\"Количество неявных дубликатов в data_0 по столбцу 'id':\", data_1.duplicated(subset='id').sum())"
   ]
  },
  {
   "cell_type": "code",
   "execution_count": 17,
   "metadata": {},
   "outputs": [],
   "source": [
    "data_1.drop_duplicates(subset='id', keep='first', inplace=True)"
   ]
  },
  {
   "cell_type": "code",
   "execution_count": 18,
   "metadata": {},
   "outputs": [],
   "source": [
    "data_1 = data_1.drop('id', axis=1)"
   ]
  },
  {
   "cell_type": "code",
   "execution_count": 19,
   "metadata": {},
   "outputs": [
    {
     "data": {
      "text/html": [
       "<div>\n",
       "<style scoped>\n",
       "    .dataframe tbody tr th:only-of-type {\n",
       "        vertical-align: middle;\n",
       "    }\n",
       "\n",
       "    .dataframe tbody tr th {\n",
       "        vertical-align: top;\n",
       "    }\n",
       "\n",
       "    .dataframe thead th {\n",
       "        text-align: right;\n",
       "    }\n",
       "</style>\n",
       "<table border=\"1\" class=\"dataframe\">\n",
       "  <thead>\n",
       "    <tr style=\"text-align: right;\">\n",
       "      <th></th>\n",
       "      <th>f0</th>\n",
       "      <th>f1</th>\n",
       "      <th>f2</th>\n",
       "      <th>product</th>\n",
       "    </tr>\n",
       "  </thead>\n",
       "  <tbody>\n",
       "    <tr>\n",
       "      <th>count</th>\n",
       "      <td>99996.000000</td>\n",
       "      <td>99996.000000</td>\n",
       "      <td>99996.000000</td>\n",
       "      <td>99996.000000</td>\n",
       "    </tr>\n",
       "    <tr>\n",
       "      <th>mean</th>\n",
       "      <td>1.141209</td>\n",
       "      <td>-4.796608</td>\n",
       "      <td>2.494501</td>\n",
       "      <td>68.823916</td>\n",
       "    </tr>\n",
       "    <tr>\n",
       "      <th>std</th>\n",
       "      <td>8.965815</td>\n",
       "      <td>5.119906</td>\n",
       "      <td>1.703579</td>\n",
       "      <td>45.944663</td>\n",
       "    </tr>\n",
       "    <tr>\n",
       "      <th>min</th>\n",
       "      <td>-31.609576</td>\n",
       "      <td>-26.358598</td>\n",
       "      <td>-0.018144</td>\n",
       "      <td>0.000000</td>\n",
       "    </tr>\n",
       "    <tr>\n",
       "      <th>25%</th>\n",
       "      <td>-6.298551</td>\n",
       "      <td>-8.267985</td>\n",
       "      <td>1.000021</td>\n",
       "      <td>26.953261</td>\n",
       "    </tr>\n",
       "    <tr>\n",
       "      <th>50%</th>\n",
       "      <td>1.153055</td>\n",
       "      <td>-4.813172</td>\n",
       "      <td>2.011475</td>\n",
       "      <td>57.085625</td>\n",
       "    </tr>\n",
       "    <tr>\n",
       "      <th>75%</th>\n",
       "      <td>8.620964</td>\n",
       "      <td>-1.332816</td>\n",
       "      <td>3.999904</td>\n",
       "      <td>107.813044</td>\n",
       "    </tr>\n",
       "    <tr>\n",
       "      <th>max</th>\n",
       "      <td>29.421755</td>\n",
       "      <td>18.734063</td>\n",
       "      <td>5.019721</td>\n",
       "      <td>137.945408</td>\n",
       "    </tr>\n",
       "  </tbody>\n",
       "</table>\n",
       "</div>"
      ],
      "text/plain": [
       "                 f0            f1            f2       product\n",
       "count  99996.000000  99996.000000  99996.000000  99996.000000\n",
       "mean       1.141209     -4.796608      2.494501     68.823916\n",
       "std        8.965815      5.119906      1.703579     45.944663\n",
       "min      -31.609576    -26.358598     -0.018144      0.000000\n",
       "25%       -6.298551     -8.267985      1.000021     26.953261\n",
       "50%        1.153055     -4.813172      2.011475     57.085625\n",
       "75%        8.620964     -1.332816      3.999904    107.813044\n",
       "max       29.421755     18.734063      5.019721    137.945408"
      ]
     },
     "execution_count": 19,
     "metadata": {},
     "output_type": "execute_result"
    }
   ],
   "source": [
    "data_1.describe()"
   ]
  },
  {
   "cell_type": "code",
   "execution_count": 21,
   "metadata": {},
   "outputs": [
    {
     "data": {
      "image/png": "[encoded data removed]",
      "text/plain": [
       "<Figure size 1224x576 with 4 Axes>"
      ]
     },
     "metadata": {
      "needs_background": "light"
     },
     "output_type": "display_data"
    }
   ],
   "source": [
    "data_1.hist(figsize=(17, 8), bins=100)\n",
    "plt.show()"
   ]
  },
  {
   "cell_type": "markdown",
   "metadata": {},
   "source": [
    "При построении гистограммы для целевой переменной (product) в датафрейме data_1 наблюдаются два пика около 0 и 140, а остальные данные равномерно распределены, это может указывать на наличие двух различных групп скважин или регионов с разными уровнями объемов запасов.\n",
    "\n",
    "Возможное объяснение такого распределения может быть связано с геологическими особенностями и различиями в формировании месторождений в данных регионах. Возможно, одна группа скважин имеет значительно низкие запасы, близкие к нулю, в то время как другая группа имеет более высокие запасы, близкие к 140."
   ]
  },
  {
   "cell_type": "code",
   "execution_count": 22,
   "metadata": {},
   "outputs": [
    {
     "name": "stdout",
     "output_type": "stream",
     "text": [
      "               f0        f1        f2   product\n",
      "f0       1.000000  0.182279 -0.001810 -0.030523\n",
      "f1       0.182279  1.000000 -0.002594 -0.010154\n",
      "f2      -0.001810 -0.002594  1.000000  0.999397\n",
      "product -0.030523 -0.010154  0.999397  1.000000\n"
     ]
    }
   ],
   "source": [
    "correlation_matrix_1 = data_1.corr()\n",
    "print(correlation_matrix_1)"
   ]
  },
  {
   "cell_type": "markdown",
   "metadata": {},
   "source": [
    "- Признаки f0 и f1 имеют низкую корреляцию со всеми признаками и целевой переменной (product). Коэффициенты корреляции близки к нулю, что указывает на отсутствие линейной связи.\n",
    "- Признак f2 имеет высокую положительную корреляцию с целевой переменной product. Коэффициент корреляции равен 0.999397, что указывает на очень сильную положительную связь между ними.\n",
    "- Также заметно высокое значение корреляции 0.999397 между признаками f2 и product. Это может указывать на сильную линейную связь или возможное дублирование информации между этими признаками.\n",
    "\n",
    "**Важно отметить, что корреляция не обязательно указывает на причинно-следственную связь между переменными**"
   ]
  },
  {
   "cell_type": "code",
   "execution_count": 23,
   "metadata": {},
   "outputs": [
    {
     "data": {
      "image/png": "[encoded data removed]",
      "text/plain": [
       "<Figure size 432x288 with 2 Axes>"
      ]
     },
     "metadata": {
      "needs_background": "light"
     },
     "output_type": "display_data"
    }
   ],
   "source": [
    "sns.heatmap(correlation_matrix_1, annot=True, cmap='RdYlBu')\n",
    "plt.show()"
   ]
  },
  {
   "cell_type": "code",
   "execution_count": 24,
   "metadata": {},
   "outputs": [
    {
     "data": {
      "image/png": "[encoded data removed]",
      "text/plain": [
       "<Figure size 432x288 with 1 Axes>"
      ]
     },
     "metadata": {
      "needs_background": "light"
     },
     "output_type": "display_data"
    },
    {
     "data": {
      "image/png": "[encoded data removed]",
      "text/plain": [
       "<Figure size 432x288 with 1 Axes>"
      ]
     },
     "metadata": {
      "needs_background": "light"
     },
     "output_type": "display_data"
    },
    {
     "data": {
      "image/png": "[encoded data removed]",
      "text/plain": [
       "<Figure size 432x288 with 1 Axes>"
      ]
     },
     "metadata": {
      "needs_background": "light"
     },
     "output_type": "display_data"
    }
   ],
   "source": [
    "plt.scatter(data_1['f0'], data_1['product'])\n",
    "plt.xlabel('f0')\n",
    "plt.ylabel('product')\n",
    "plt.title('Диаграмма рассеяния (f0 vs product)')\n",
    "plt.show()\n",
    "\n",
    "plt.scatter(data_1['f1'], data_1['product'])\n",
    "plt.xlabel('f1')\n",
    "plt.ylabel('product')\n",
    "plt.title('Диаграмма рассеяния (f1 vs product)')\n",
    "plt.show()\n",
    "\n",
    "plt.scatter(data_1['f2'], data_1['product'])\n",
    "plt.xlabel('f2')\n",
    "plt.ylabel('product')\n",
    "plt.title('Диаграмма рассеяния (f2 vs product)')\n",
    "plt.show()"
   ]
  },
  {
   "cell_type": "markdown",
   "metadata": {},
   "source": [
    "Диаграмма рассеяния для f0 vs product и f1 vs product показывает отсутствие явной линейной зависимости между признаками f0 и f1 и целевой переменной product. Признаки f0 и f1 не проявляют четкую трендовую зависимость и имеют разнообразное распределение значений при разных значениях product.\n",
    "\n",
    "Диаграмма рассеяния для f2 vs product показывает прямую линейную зависимость между признаком f2 и целевой переменной product. При увеличении значения f2 также увеличивается значение product. Это указывает на положительную связь между этими двумя переменными."
   ]
  },
  {
   "cell_type": "markdown",
   "metadata": {},
   "source": [
    "### Изучим датафрейм data_2."
   ]
  },
  {
   "cell_type": "code",
   "execution_count": 25,
   "metadata": {},
   "outputs": [
    {
     "name": "stdout",
     "output_type": "stream",
     "text": [
      "<class 'pandas.core.frame.DataFrame'>\n",
      "RangeIndex: 100000 entries, 0 to 99999\n",
      "Data columns (total 5 columns):\n",
      " #   Column   Non-Null Count   Dtype  \n",
      "---  ------   --------------   -----  \n",
      " 0   id       100000 non-null  object \n",
      " 1   f0       100000 non-null  float64\n",
      " 2   f1       100000 non-null  float64\n",
      " 3   f2       100000 non-null  float64\n",
      " 4   product  100000 non-null  float64\n",
      "dtypes: float64(4), object(1)\n",
      "memory usage: 3.8+ MB\n"
     ]
    }
   ],
   "source": [
    "data_2.info()"
   ]
  },
  {
   "cell_type": "code",
   "execution_count": 26,
   "metadata": {},
   "outputs": [
    {
     "name": "stdout",
     "output_type": "stream",
     "text": [
      "Количество явных дубликатов в data_0: 0\n",
      "Количество неявных дубликатов в data_0: 0\n"
     ]
    }
   ],
   "source": [
    "print(\"Количество явных дубликатов в data_0:\", data_2.duplicated().sum())\n",
    "print(\"Количество неявных дубликатов в data_0:\", data_2.duplicated(subset=data_0.columns[1:]).sum())"
   ]
  },
  {
   "cell_type": "code",
   "execution_count": 27,
   "metadata": {},
   "outputs": [
    {
     "name": "stdout",
     "output_type": "stream",
     "text": [
      "Количество неявных дубликатов в data_0 по столбцу 'id': 4\n"
     ]
    }
   ],
   "source": [
    "print(\"Количество неявных дубликатов в data_0 по столбцу 'id':\", data_2.duplicated(subset='id').sum())"
   ]
  },
  {
   "cell_type": "code",
   "execution_count": 28,
   "metadata": {},
   "outputs": [],
   "source": [
    "data_2.drop_duplicates(subset='id', keep='first', inplace=True)"
   ]
  },
  {
   "cell_type": "code",
   "execution_count": 29,
   "metadata": {},
   "outputs": [],
   "source": [
    "data_2 = data_2.drop('id', axis=1)"
   ]
  },
  {
   "cell_type": "code",
   "execution_count": 30,
   "metadata": {},
   "outputs": [
    {
     "data": {
      "text/html": [
       "<div>\n",
       "<style scoped>\n",
       "    .dataframe tbody tr th:only-of-type {\n",
       "        vertical-align: middle;\n",
       "    }\n",
       "\n",
       "    .dataframe tbody tr th {\n",
       "        vertical-align: top;\n",
       "    }\n",
       "\n",
       "    .dataframe thead th {\n",
       "        text-align: right;\n",
       "    }\n",
       "</style>\n",
       "<table border=\"1\" class=\"dataframe\">\n",
       "  <thead>\n",
       "    <tr style=\"text-align: right;\">\n",
       "      <th></th>\n",
       "      <th>f0</th>\n",
       "      <th>f1</th>\n",
       "      <th>f2</th>\n",
       "      <th>product</th>\n",
       "    </tr>\n",
       "  </thead>\n",
       "  <tbody>\n",
       "    <tr>\n",
       "      <th>count</th>\n",
       "      <td>99996.000000</td>\n",
       "      <td>99996.000000</td>\n",
       "      <td>99996.000000</td>\n",
       "      <td>99996.000000</td>\n",
       "    </tr>\n",
       "    <tr>\n",
       "      <th>mean</th>\n",
       "      <td>0.002002</td>\n",
       "      <td>-0.002159</td>\n",
       "      <td>2.495084</td>\n",
       "      <td>94.998342</td>\n",
       "    </tr>\n",
       "    <tr>\n",
       "      <th>std</th>\n",
       "      <td>1.732052</td>\n",
       "      <td>1.730397</td>\n",
       "      <td>3.473482</td>\n",
       "      <td>44.749573</td>\n",
       "    </tr>\n",
       "    <tr>\n",
       "      <th>min</th>\n",
       "      <td>-8.760004</td>\n",
       "      <td>-7.084020</td>\n",
       "      <td>-11.970335</td>\n",
       "      <td>0.000000</td>\n",
       "    </tr>\n",
       "    <tr>\n",
       "      <th>25%</th>\n",
       "      <td>-1.162328</td>\n",
       "      <td>-1.174841</td>\n",
       "      <td>0.130269</td>\n",
       "      <td>59.450028</td>\n",
       "    </tr>\n",
       "    <tr>\n",
       "      <th>50%</th>\n",
       "      <td>0.009424</td>\n",
       "      <td>-0.009661</td>\n",
       "      <td>2.484236</td>\n",
       "      <td>94.925026</td>\n",
       "    </tr>\n",
       "    <tr>\n",
       "      <th>75%</th>\n",
       "      <td>1.158477</td>\n",
       "      <td>1.163523</td>\n",
       "      <td>4.858720</td>\n",
       "      <td>130.586815</td>\n",
       "    </tr>\n",
       "    <tr>\n",
       "      <th>max</th>\n",
       "      <td>7.238262</td>\n",
       "      <td>7.844801</td>\n",
       "      <td>16.739402</td>\n",
       "      <td>190.029838</td>\n",
       "    </tr>\n",
       "  </tbody>\n",
       "</table>\n",
       "</div>"
      ],
      "text/plain": [
       "                 f0            f1            f2       product\n",
       "count  99996.000000  99996.000000  99996.000000  99996.000000\n",
       "mean       0.002002     -0.002159      2.495084     94.998342\n",
       "std        1.732052      1.730397      3.473482     44.749573\n",
       "min       -8.760004     -7.084020    -11.970335      0.000000\n",
       "25%       -1.162328     -1.174841      0.130269     59.450028\n",
       "50%        0.009424     -0.009661      2.484236     94.925026\n",
       "75%        1.158477      1.163523      4.858720    130.586815\n",
       "max        7.238262      7.844801     16.739402    190.029838"
      ]
     },
     "execution_count": 30,
     "metadata": {},
     "output_type": "execute_result"
    }
   ],
   "source": [
    "data_2.describe()"
   ]
  },
  {
   "cell_type": "markdown",
   "metadata": {},
   "source": [
    "Распределения признаков в датафрейме data_2 выглядят нормальными, это может означать, что данные соответствуют ожидаемому распределению и могут быть адекватно описаны нормальным распределением. Это может быть полезно при применении статистических методов, которые предполагают нормальность данных, например, при использовании некоторых моделей машинного обучения."
   ]
  },
  {
   "cell_type": "code",
   "execution_count": 32,
   "metadata": {},
   "outputs": [
    {
     "data": {
      "image/png": "[encoded data removed]",
      "text/plain": [
       "<Figure size 1224x576 with 4 Axes>"
      ]
     },
     "metadata": {
      "needs_background": "light"
     },
     "output_type": "display_data"
    }
   ],
   "source": [
    "data_2.hist(figsize=(17, 8), bins=100)\n",
    "plt.show()"
   ]
  },
  {
   "cell_type": "code",
   "execution_count": 33,
   "metadata": {},
   "outputs": [
    {
     "name": "stdout",
     "output_type": "stream",
     "text": [
      "               f0        f1        f2   product\n",
      "f0       1.000000  0.000506 -0.000452 -0.001978\n",
      "f1       0.000506  1.000000  0.000753 -0.001055\n",
      "f2      -0.000452  0.000753  1.000000  0.445867\n",
      "product -0.001978 -0.001055  0.445867  1.000000\n"
     ]
    }
   ],
   "source": [
    "correlation_matrix_2 = data_2.corr()\n",
    "print(correlation_matrix_2)"
   ]
  },
  {
   "cell_type": "markdown",
   "metadata": {},
   "source": [
    "- Признаки f0 и f1 имеют очень низкую корреляцию со всеми признаками и целевой переменной (product). Коэффициенты корреляции близки к нулю, что указывает на отсутствие линейной связи.\n",
    "- Признак f2 имеет умеренную положительную корреляцию с целевой переменной product. Коэффициент корреляции равен 0.445871, что указывает на наличие некоторой связи между ними.\n",
    "- Значение корреляции между признаками f2 и product (0.445871) является наиболее высоким среди всех признаков. Это может указывать на наличие некоторой связи или зависимости между этими двумя переменными.\n",
    "\n",
    "***Важно отметить, что корреляция не обязательно указывает на причинно-следственную связь между переменными.***"
   ]
  },
  {
   "cell_type": "code",
   "execution_count": 34,
   "metadata": {},
   "outputs": [
    {
     "data": {
      "image/png": "[encoded data removed]",
      "text/plain": [
       "<Figure size 432x288 with 2 Axes>"
      ]
     },
     "metadata": {
      "needs_background": "light"
     },
     "output_type": "display_data"
    }
   ],
   "source": [
    "sns.heatmap(correlation_matrix_2, annot=True, cmap='RdYlBu')\n",
    "plt.show()"
   ]
  },
  {
   "cell_type": "code",
   "execution_count": 35,
   "metadata": {},
   "outputs": [
    {
     "data": {
      "image/png": "[encoded data removed]",
      "text/plain": [
       "<Figure size 432x288 with 1 Axes>"
      ]
     },
     "metadata": {
      "needs_background": "light"
     },
     "output_type": "display_data"
    },
    {
     "data": {
      "image/png": "[encoded data removed]",
      "text/plain": [
       "<Figure size 432x288 with 1 Axes>"
      ]
     },
     "metadata": {
      "needs_background": "light"
     },
     "output_type": "display_data"
    },
    {
     "data": {
      "image/png": "[encoded data removed]",
      "text/plain": [
       "<Figure size 432x288 with 1 Axes>"
      ]
     },
     "metadata": {
      "needs_background": "light"
     },
     "output_type": "display_data"
    }
   ],
   "source": [
    "plt.scatter(data_2['f0'], data_2['product'])\n",
    "plt.xlabel('f0')\n",
    "plt.ylabel('product')\n",
    "plt.title('Диаграмма рассеяния (f0 vs product)')\n",
    "plt.show()\n",
    "\n",
    "plt.scatter(data_2['f1'], data_2['product'])\n",
    "plt.xlabel('f1')\n",
    "plt.ylabel('product')\n",
    "plt.title('Диаграмма рассеяния (f1 vs product)')\n",
    "plt.show()\n",
    "\n",
    "plt.scatter(data_2['f2'], data_2['product'])\n",
    "plt.xlabel('f2')\n",
    "plt.ylabel('product')\n",
    "plt.title('Диаграмма рассеяния (f2 vs product)')\n",
    "plt.show()"
   ]
  },
  {
   "cell_type": "markdown",
   "metadata": {},
   "source": [
    "Диаграмма рассеяния указывает на отсутствие явной корреляции или зависимости между переменными. Такое распределение точек может означать, что значения переменных не связаны линейно."
   ]
  },
  {
   "cell_type": "markdown",
   "metadata": {},
   "source": [
    "## Обучите и проверьте модель для каждого региона"
   ]
  },
  {
   "cell_type": "markdown",
   "metadata": {},
   "source": [
    "### Разбейте данные на обучающую и валидационную выборки."
   ]
  },
  {
   "cell_type": "code",
   "execution_count": 36,
   "metadata": {},
   "outputs": [
    {
     "name": "stdout",
     "output_type": "stream",
     "text": [
      "(74992, 3)\n",
      "(24998, 3)\n"
     ]
    }
   ],
   "source": [
    "features_dt_0 = data_0.drop('product', axis=1)\n",
    "target_dt_0 = data_0['product']\n",
    "\n",
    "features_dt_0_train, features_dt_0_valid, target_dt_0_train, target_dt_0_valid = train_test_split(features_dt_0, target_dt_0, test_size=0.25, random_state=12345)\n",
    "print(features_dt_0_train.shape)\n",
    "print(features_dt_0_valid.shape)"
   ]
  },
  {
   "cell_type": "code",
   "execution_count": 37,
   "metadata": {},
   "outputs": [
    {
     "name": "stdout",
     "output_type": "stream",
     "text": [
      "(74997, 3)\n",
      "(24999, 3)\n"
     ]
    }
   ],
   "source": [
    "features_dt_1 = data_1.drop('product', axis=1)\n",
    "target_dt_1 = data_1['product']\n",
    "\n",
    "features_dt_1_train, features_dt_1_valid, target_dt_1_train, target_dt_1_valid = train_test_split(features_dt_1, target_dt_1, test_size=0.25, random_state=12345)\n",
    "print(features_dt_1_train.shape)\n",
    "print(features_dt_1_valid.shape)"
   ]
  },
  {
   "cell_type": "code",
   "execution_count": 38,
   "metadata": {},
   "outputs": [
    {
     "name": "stdout",
     "output_type": "stream",
     "text": [
      "(74997, 3)\n",
      "(24999, 3)\n"
     ]
    }
   ],
   "source": [
    "features_dt_2 = data_2.drop('product', axis=1)\n",
    "target_dt_2 = data_2['product']\n",
    "\n",
    "features_dt_2_train, features_dt_2_valid, target_dt_2_train, target_dt_2_valid = train_test_split(features_dt_2, target_dt_2, test_size=0.25, random_state=12345)\n",
    "print(features_dt_2_train.shape)\n",
    "print(features_dt_2_valid.shape)"
   ]
  },
  {
   "cell_type": "markdown",
   "metadata": {},
   "source": [
    "***Разбили данные на обучающую и валидационную выборки в соотношении 75:25.***"
   ]
  },
  {
   "cell_type": "markdown",
   "metadata": {},
   "source": [
    "### Обучите модель и сделайте предсказания на валидационной выборке."
   ]
  },
  {
   "cell_type": "code",
   "execution_count": 45,
   "metadata": {},
   "outputs": [],
   "source": [
    "def train_and_predict(features_train, target_train, features_valid, model_type='linear', alpha=0.1):\n",
    "    if model_type == 'linear':\n",
    "        model = LinearRegression(normalize=True, fit_intercept=True)\n",
    "    elif model_type == 'lasso':\n",
    "        model = Lasso(alpha=alpha, normalize=True)\n",
    "    else:\n",
    "        raise ValueError(\"Unsupported model type. Use 'linear' or 'lasso'.\")\n",
    "    \n",
    "    model.fit(features_train, target_train)\n",
    "    predictions_valid = model.predict(features_valid)\n",
    "    \n",
    "    return model, predictions_valid"
   ]
  },
  {
   "cell_type": "code",
   "execution_count": 46,
   "metadata": {},
   "outputs": [],
   "source": [
    "model_lr_0, predictions_dt_0_valid = train_and_predict(features_dt_0_train, target_dt_0_train, features_dt_0_valid, model_type='linear')\n",
    "model_lasso_0, predictions_lasso_valid = train_and_predict(features_dt_0_train, target_dt_0_train, features_dt_0_valid, model_type='lasso', alpha=0.1)\n",
    "\n",
    "model_lr_1, predictions_dt_1_valid = train_and_predict(features_dt_1_train, target_dt_1_train, features_dt_1_valid, model_type='linear')\n",
    "model_lasso_1, predictions_lasso_valid_1 = train_and_predict(features_dt_1_train, target_dt_1_train, features_dt_1_valid, model_type='lasso', alpha=0.1)\n",
    "\n",
    "model_lr_2, predictions_dt_2_valid = train_and_predict(features_dt_2_train, target_dt_2_train, features_dt_2_valid, model_type='linear')\n",
    "model_lasso_2, predictions_lasso_valid_2 = train_and_predict(features_dt_2_train, target_dt_2_train, features_dt_2_valid, model_type='lasso', alpha=0.1)"
   ]
  },
  {
   "cell_type": "markdown",
   "metadata": {},
   "source": [
    "### Сохраните предсказания и правильные ответы на валидационной выборке."
   ]
  },
  {
   "cell_type": "code",
   "execution_count": 47,
   "metadata": {},
   "outputs": [],
   "source": [
    "predictions_dt_0_valid = model_lr_0.predict(features_dt_0_valid)\n",
    "target_dt_0_valid = target_dt_0_valid.copy()"
   ]
  },
  {
   "cell_type": "code",
   "execution_count": 48,
   "metadata": {},
   "outputs": [],
   "source": [
    "predictions_dt_1_valid = model_lr_1.predict(features_dt_1_valid)\n",
    "target_dt_1_valid = target_dt_1_valid.copy()"
   ]
  },
  {
   "cell_type": "code",
   "execution_count": 49,
   "metadata": {},
   "outputs": [],
   "source": [
    "predictions_dt_2_valid = model_lr_2.predict(features_dt_2_valid)\n",
    "target_dt_2_valid = target_dt_2_valid.copy()"
   ]
  },
  {
   "cell_type": "markdown",
   "metadata": {},
   "source": [
    "### Напечатайте на экране средний запас предсказанного сырья и RMSE модели."
   ]
  },
  {
   "cell_type": "code",
   "execution_count": 50,
   "metadata": {},
   "outputs": [
    {
     "name": "stdout",
     "output_type": "stream",
     "text": [
      "Средний запас предсказанного сырья для региона 0: 92.78915638280621\n",
      "RMSE на валидационной выборке модели LinearRegression для региона 0: 37.853527328872964\n",
      "RMSE на валидационной выборке модели Lasso для региона 0: 44.379313806074194\n"
     ]
    }
   ],
   "source": [
    "print(\"Средний запас предсказанного сырья для региона 0:\", predictions_dt_0_valid.mean())\n",
    "\n",
    "rmse_lr_0_valid = mean_squared_error(target_dt_0_valid, predictions_dt_0_valid, squared=False)\n",
    "print(\"RMSE на валидационной выборке модели LinearRegression для региона 0:\", rmse_lr_0_valid)\n",
    "\n",
    "rmse_lasso_valid = mean_squared_error(target_dt_0_valid, predictions_lasso_valid, squared=False)\n",
    "print(\"RMSE на валидационной выборке модели Lasso для региона 0:\", rmse_lasso_valid)"
   ]
  },
  {
   "cell_type": "code",
   "execution_count": 51,
   "metadata": {},
   "outputs": [
    {
     "name": "stdout",
     "output_type": "stream",
     "text": [
      "Средний запас предсказанного сырья для региона 1: 69.17831957030432\n",
      "RMSE на валидационной выборке модели LinearRegression для региона 1: 0.892059264771703\n",
      "RMSE на валидационной выборке модели Lasso для региона 1: 27.393856327229084\n"
     ]
    }
   ],
   "source": [
    "print(\"Средний запас предсказанного сырья для региона 1:\", predictions_dt_1_valid.mean())\n",
    "\n",
    "rmse_lr_1_valid = mean_squared_error(target_dt_1_valid, predictions_dt_1_valid, squared=False)\n",
    "print(\"RMSE на валидационной выборке модели LinearRegression для региона 1:\", rmse_lr_1_valid)\n",
    "\n",
    "rmse_ls_1_valid = mean_squared_error(target_dt_1_valid, predictions_lasso_valid_1, squared=False)\n",
    "print(\"RMSE на валидационной выборке модели Lasso для региона 1:\", rmse_ls_1_valid)"
   ]
  },
  {
   "cell_type": "code",
   "execution_count": 52,
   "metadata": {},
   "outputs": [
    {
     "name": "stdout",
     "output_type": "stream",
     "text": [
      "Средний запас предсказанного сырья для региона 2: 94.86572480562035\n",
      "RMSE на валидационной выборке модели LinearRegression для региона 2: 40.07585073246016\n",
      "RMSE на валидационной выборке модели Lasso для региона 2: 44.68331298360565\n"
     ]
    }
   ],
   "source": [
    "print(\"Средний запас предсказанного сырья для региона 2:\", predictions_dt_2_valid.mean())\n",
    "\n",
    "rmse_lr_2_valid = mean_squared_error(target_dt_2_valid, predictions_dt_2_valid, squared=False)\n",
    "print(\"RMSE на валидационной выборке модели LinearRegression для региона 2:\", rmse_lr_2_valid)\n",
    "\n",
    "rmse_ls_2_valid = mean_squared_error(target_dt_2_valid, predictions_lasso_valid_2, squared=False)\n",
    "print(\"RMSE на валидационной выборке модели Lasso для региона 2:\", rmse_ls_2_valid)"
   ]
  },
  {
   "cell_type": "markdown",
   "metadata": {},
   "source": [
    "### Проанализируйте результаты."
   ]
  },
  {
   "cell_type": "markdown",
   "metadata": {},
   "source": [
    "***Для региона 0:***\n",
    "- Модель Lasso показала худший результат в виде более высокого значения RMSE на валидационной выборке, чем модель LinearRegression для региона 0. Таким образом, в данном случае модель LinearRegression является предпочтительной, поскольку она показывает более низкое значение RMSE, что свидетельствует о лучшей предсказательной способности модели на валидационных данных для региона 0.\n",
    "- Средний запас предсказанного сырья для региона 0 составляет примерно 92.59 тыс. баррелей.\n",
    "\n",
    "***Для региона 1:***\n",
    "- Модель LinearRegression показывает очень хороший результат на валидационной выборке для региона 1 с RMSE равным 0.89. Это говорит о том, что предсказания модели практически точно совпадают с фактическими значениями.Модель Lasso показывает худший результат на валидационной выборке для региона 1 с RMSE равным 27.49. В данном случае, предсказания модели Lasso отличаются от фактических значений с большей ошибкой.Таким образом, модель LinearRegression является лучшей моделью для региона 1, так как она показывает более точные предсказания на валидационной выборке.\n",
    "- Средний запас предсказанного сырья для региона 1 составляет примерно 68.73 тыс. баррелей.\n",
    "\n",
    "***Для региона 2:***\n",
    "- RMSE модели LinearRegression для региона 2 ниже, чем у модели Lasso, что может говорить о лучшей предсказательной способности модели LinearRegression для данного региона.Однако, как и в регионах 0 и 1, RMSE значения все равно достаточно высокие, что может указывать на некоторую степень неточности модели и наличие значительной вариабельности данных.\n",
    "- Средний предсказанный запас сырья выше, чем в регионах 0 и 1, что может указывать на более перспективные месторождения."
   ]
  },
  {
   "cell_type": "markdown",
   "metadata": {},
   "source": [
    "## Подготовка к расчёту прибыли"
   ]
  },
  {
   "cell_type": "markdown",
   "metadata": {},
   "source": [
    "### Все ключевые значения для расчётов сохраните в отдельных переменных."
   ]
  },
  {
   "cell_type": "code",
   "execution_count": 54,
   "metadata": {},
   "outputs": [],
   "source": [
    "BUDGET = 10_000_000_000  # Бюджет на разработку скважин в регионе (10 млрд рублей)\n",
    "BARREL_PRICE = 450  # Цена одного барреля сырья (450 рублей)\n",
    "INCOME_PER_UNIT = 450_000  # Доход с каждой единицы продукта (450 тыс. рублей)\n",
    "POINTS_EXPLORED = 500  # Количество точек, исследуемых при разведке\n",
    "POINTS_SELECTED = 200  # Количество лучших точек, выбираемых для разработки\n",
    "RISK_THRESHOLD = 0.025  # Пороговая вероятность убытков (2.5%)"
   ]
  },
  {
   "cell_type": "markdown",
   "metadata": {},
   "source": [
    "### Рассчитайте достаточный объём сырья для безубыточной разработки новой скважины. Сравните полученный объём сырья со средним запасом в каждом регионе. "
   ]
  },
  {
   "cell_type": "code",
   "execution_count": 55,
   "metadata": {},
   "outputs": [
    {
     "data": {
      "text/plain": [
       "111.11111111111111"
      ]
     },
     "execution_count": 55,
     "metadata": {},
     "output_type": "execute_result"
    }
   ],
   "source": [
    "breakeven_volume = BUDGET / (INCOME_PER_UNIT * POINTS_SELECTED)\n",
    "breakeven_volume"
   ]
  },
  {
   "cell_type": "markdown",
   "metadata": {},
   "source": [
    "Этот расчет позволяет определить минимальный объем сырья, который должен быть в каждой выбранной точке разведки, чтобы обеспечить безубыточность разработки. После расчета достаточного объема сырья можно сравнить его со средними запасами в каждом регионе, чтобы оценить, насколько потенциально прибыльна разработка скважин в этих регионах."
   ]
  },
  {
   "cell_type": "code",
   "execution_count": 56,
   "metadata": {},
   "outputs": [
    {
     "name": "stdout",
     "output_type": "stream",
     "text": [
      "Достаточный объем сырья для безубыточной разработки новой скважины в регионе 0 меньше или равен среднему запасу.\n",
      "Достаточный объем сырья для безубыточной разработки новой скважины в регионе 1 меньше или равен среднему запасу.\n",
      "Достаточный объем сырья для безубыточной разработки новой скважины в регионе 2 меньше или равен среднему запасу.\n"
     ]
    }
   ],
   "source": [
    "mean_volume_region_0 = data_0['product'].mean()\n",
    "mean_volume_region_1 = data_1['product'].mean()\n",
    "mean_volume_region_2 = data_2['product'].mean()\n",
    "\n",
    "if mean_volume_region_0 > breakeven_volume:\n",
    "    print(\"Достаточный объем сырья для безубыточной разработки новой скважины в регионе 0 больше среднего запаса.\")\n",
    "else:\n",
    "    print(\"Достаточный объем сырья для безубыточной разработки новой скважины в регионе 0 меньше или равен среднему запасу.\")\n",
    "\n",
    "if mean_volume_region_1 > breakeven_volume:\n",
    "    print(\"Достаточный объем сырья для безубыточной разработки новой скважины в регионе 1 больше среднего запаса.\")\n",
    "else:\n",
    "    print(\"Достаточный объем сырья для безубыточной разработки новой скважины в регионе 1 меньше или равен среднему запасу.\")\n",
    "\n",
    "if mean_volume_region_2 > breakeven_volume:\n",
    "    print(\"Достаточный объем сырья для безубыточной разработки новой скважины в регионе 2 больше среднего запаса.\")\n",
    "else:\n",
    "    print(\"Достаточный объем сырья для безубыточной разработки новой скважины в регионе 2 меньше или равен среднему запасу.\")"
   ]
  },
  {
   "cell_type": "code",
   "execution_count": 57,
   "metadata": {},
   "outputs": [
    {
     "data": {
      "text/plain": [
       "92.49968421774354"
      ]
     },
     "execution_count": 57,
     "metadata": {},
     "output_type": "execute_result"
    }
   ],
   "source": [
    "mean_volume_region_0"
   ]
  },
  {
   "cell_type": "code",
   "execution_count": 58,
   "metadata": {},
   "outputs": [
    {
     "data": {
      "text/plain": [
       "68.82391591804064"
      ]
     },
     "execution_count": 58,
     "metadata": {},
     "output_type": "execute_result"
    }
   ],
   "source": [
    "mean_volume_region_1"
   ]
  },
  {
   "cell_type": "code",
   "execution_count": 59,
   "metadata": {},
   "outputs": [
    {
     "data": {
      "text/plain": [
       "94.99834211933378"
      ]
     },
     "execution_count": 59,
     "metadata": {},
     "output_type": "execute_result"
    }
   ],
   "source": [
    "mean_volume_region_2"
   ]
  },
  {
   "cell_type": "markdown",
   "metadata": {},
   "source": [
    "### Напишите выводы по этапу подготовки расчёта прибыли."
   ]
  },
  {
   "cell_type": "markdown",
   "metadata": {},
   "source": [
    "Был рассчитан достаточный объём сырья для безубыточной разработки новой скважины. Этот объём составляет 111.1111 тыс. баррелей.\n",
    "Были сравнены полученный объём сырья со средним запасом в каждом регионе:\n",
    "В регионе 0 достаточный объём сырья меньше среднего запаса сырья.\n",
    "В регионе 1 достаточный объём сырья меньше среднего запаса сырья.\n",
    "В регионе 2 достаточный объём сырья меньше среднего запаса сырья.\n",
    "После оценки рисков необходимо оставить только те регионы, в которых вероятность убытков меньше 2.5%."
   ]
  },
  {
   "cell_type": "markdown",
   "metadata": {},
   "source": [
    "## Напишите функцию для расчёта прибыли по выбранным скважинам и предсказаниям модели."
   ]
  },
  {
   "cell_type": "markdown",
   "metadata": {},
   "source": [
    "### Выберите скважины с максимальными значениями предсказаний. "
   ]
  },
  {
   "cell_type": "code",
   "execution_count": 60,
   "metadata": {},
   "outputs": [],
   "source": [
    "selected_wells_0 = pd.Series(predictions_dt_0_valid).nlargest(POINTS_SELECTED).index\n",
    "selected_wells_1 = pd.Series(predictions_dt_1_valid).nlargest(POINTS_SELECTED).index\n",
    "selected_wells_2 = pd.Series(predictions_dt_2_valid).nlargest(POINTS_SELECTED).index"
   ]
  },
  {
   "cell_type": "code",
   "execution_count": 61,
   "metadata": {},
   "outputs": [
    {
     "data": {
      "text/plain": [
       "Int64Index([ 5569, 20578, 11902, 23381,  7531, 12337, 14093, 14960,  9809,\n",
       "            13769,\n",
       "            ...\n",
       "            15495,   143,  4786, 14957, 10946, 20053,  4019, 22273,  8027,\n",
       "            19863],\n",
       "           dtype='int64', length=200)"
      ]
     },
     "execution_count": 61,
     "metadata": {},
     "output_type": "execute_result"
    }
   ],
   "source": [
    "selected_wells_0"
   ]
  },
  {
   "cell_type": "markdown",
   "metadata": {},
   "source": [
    "Здесь points_selected - количество лучших точек, которые нужно выбрать для разработки, а index - это индексы выбранных скважин.Теперь можно использовать эти выбранные индексы для расчета прибыли с помощью функции calculate_profit()."
   ]
  },
  {
   "cell_type": "markdown",
   "metadata": {},
   "source": [
    "### Просуммируйте целевое значение объёма сырья, соответствующее этим предсказаниям."
   ]
  },
  {
   "cell_type": "code",
   "execution_count": 62,
   "metadata": {},
   "outputs": [
    {
     "name": "stdout",
     "output_type": "stream",
     "text": [
      "Суммарный объем сырья в регионе 0: 29700.42 тыс. баррелей\n"
     ]
    }
   ],
   "source": [
    "total_volume = target_dt_0_valid.iloc[selected_wells_0].sum()\n",
    "print(f\"Суммарный объем сырья в регионе 0: {total_volume:.2f} тыс. баррелей\")"
   ]
  },
  {
   "cell_type": "code",
   "execution_count": 63,
   "metadata": {},
   "outputs": [
    {
     "name": "stdout",
     "output_type": "stream",
     "text": [
      "Суммарный объем сырья в регионе 1: 27589.08 тыс. баррелей\n"
     ]
    }
   ],
   "source": [
    "total_volume = target_dt_1_valid.iloc[selected_wells_1].sum()\n",
    "print(f\"Суммарный объем сырья в регионе 1: {total_volume:.2f} тыс. баррелей\")"
   ]
  },
  {
   "cell_type": "code",
   "execution_count": 64,
   "metadata": {},
   "outputs": [
    {
     "name": "stdout",
     "output_type": "stream",
     "text": [
      "Суммарный объем сырья в регионе 2: 27780.63 тыс. баррелей\n"
     ]
    }
   ],
   "source": [
    "total_volume = target_dt_2_valid.iloc[selected_wells_2].sum()\n",
    "print(f\"Суммарный объем сырья в регионе 2: {total_volume:.2f} тыс. баррелей\")"
   ]
  },
  {
   "cell_type": "markdown",
   "metadata": {},
   "source": [
    "### Рассчитайте прибыль для полученного объёма сырья."
   ]
  },
  {
   "cell_type": "code",
   "execution_count": 66,
   "metadata": {},
   "outputs": [],
   "source": [
    "def calculate_profit(selected_wells, target_valid, INCOME_PER_UNIT, BUDGET):\n",
    "    total_volume = target_valid.iloc[selected_wells].sum()\n",
    "    revenue = total_volume * INCOME_PER_UNIT\n",
    "    profit = revenue - BUDGET\n",
    "    return profit"
   ]
  },
  {
   "cell_type": "markdown",
   "metadata": {},
   "source": [
    "Функция calculate_profit принимает следующие аргументы:\n",
    "\n",
    "- selected_wells: индексы выбранных скважин.\n",
    "- target_valid: целевое значение объёма сырья для валидационной выборки.\n",
    "- income_per_unit: доход с каждой единицы продукта (в данном случае, доход с каждой единицы объёма сырья).\n",
    "\n",
    "Вычисляется суммарный объём сырья для выбранных скважин путем суммирования целевого значения объёма сырья (target_valid) по соответствующим индексам (selected_wells).\n",
    "Рассчитывается прибыль путем умножения суммарного объёма сырья на доход с каждой единицы продукта (income_per_unit).\n",
    "Рассчитанная прибыль возвращается как результат работы функции."
   ]
  },
  {
   "cell_type": "code",
   "execution_count": 67,
   "metadata": {},
   "outputs": [
    {
     "name": "stdout",
     "output_type": "stream",
     "text": [
      "(200,)\n",
      "Прибыль в регионе 0: 3365187237.70 рублей\n"
     ]
    }
   ],
   "source": [
    "profit_0 = calculate_profit(selected_wells_0, target_dt_0_valid, INCOME_PER_UNIT, BUDGET)\n",
    "print(f\"Прибыль в регионе 0: {profit_0:.2f} рублей\")"
   ]
  },
  {
   "cell_type": "code",
   "execution_count": 68,
   "metadata": {},
   "outputs": [
    {
     "name": "stdout",
     "output_type": "stream",
     "text": [
      "(200,)\n",
      "Прибыль в регионе 1: 2415086696.68 рублей\n"
     ]
    }
   ],
   "source": [
    "profit_1 = calculate_profit(selected_wells_1, target_dt_1_valid, INCOME_PER_UNIT, BUDGET)\n",
    "print(f\"Прибыль в регионе 1: {profit_1:.2f} рублей\")"
   ]
  },
  {
   "cell_type": "code",
   "execution_count": 69,
   "metadata": {},
   "outputs": [
    {
     "name": "stdout",
     "output_type": "stream",
     "text": [
      "(200,)\n",
      "Прибыль в регионе 2: 2501283853.28 рублей\n"
     ]
    }
   ],
   "source": [
    "profit_2 = calculate_profit(selected_wells_2, target_dt_2_valid, INCOME_PER_UNIT, BUDGET)\n",
    "print(f\"Прибыль в регионе 2: {profit_2:.2f} рублей\")"
   ]
  },
  {
   "cell_type": "markdown",
   "metadata": {},
   "source": [
    "Наибольшая ожидаемая прибыль ожидается в регионе 0, а наименьшая - в регионе 1."
   ]
  },
  {
   "cell_type": "markdown",
   "metadata": {},
   "source": [
    "## Посчитайте риски и прибыль для каждого региона"
   ]
  },
  {
   "cell_type": "markdown",
   "metadata": {},
   "source": [
    "### Примените технику Bootstrap с 1000 выборок, чтобы найти распределение прибыли."
   ]
  },
  {
   "cell_type": "code",
   "execution_count": 73,
   "metadata": {},
   "outputs": [],
   "source": [
    "NUM_SAMPLES = 1000\n",
    "\n",
    "def calculate_profit(selected_targets, INCOME_PER_UNIT, BUDGET):\n",
    "    total_volume = selected_targets.sum()\n",
    "    revenue = total_volume * INCOME_PER_UNIT\n",
    "    profit = revenue - BUDGET\n",
    "    return profit\n",
    "\n",
    "# Создаем пустые списки для сохранения результатов\n",
    "profits_bootstrap_0 = []\n",
    "profits_bootstrap_1 = []\n",
    "profits_bootstrap_2 = []\n",
    "\n",
    "# Применяем технику Bootstrap\n",
    "for i in range(NUM_SAMPLES):\n",
    "    # 1. Сэмплируем 500 скважин из исходных данных для каждого региона\n",
    "    sample_indices_0 = np.random.choice(len(predictions_dt_0_valid), size=POINTS_EXPLORED, replace=True)\n",
    "    sample_indices_1 = np.random.choice(len(predictions_dt_1_valid), size=POINTS_EXPLORED, replace=True)\n",
    "    sample_indices_2 = np.random.choice(len(predictions_dt_2_valid), size=POINTS_EXPLORED, replace=True)\n",
    "\n",
    "    # 2. Из этих 500 выбираем те 200, для которых самые высокие предсказания модели\n",
    "    selected_predictions_0 = pd.Series(predictions_dt_0_valid).iloc[sample_indices_0].nlargest(POINTS_SELECTED)\n",
    "    selected_predictions_1 = pd.Series(predictions_dt_1_valid).iloc[sample_indices_1].nlargest(POINTS_SELECTED)\n",
    "    selected_predictions_2 = pd.Series(predictions_dt_2_valid).iloc[sample_indices_2].nlargest(POINTS_SELECTED)\n",
    "\n",
    "    # 3. По таргетам этих 200 скважин вычисляем прибыль\n",
    "    selected_targets_0 = target_dt_0_valid.iloc[selected_predictions_0.index].reset_index(drop=True)\n",
    "    selected_targets_1 = target_dt_1_valid.iloc[selected_predictions_1.index].reset_index(drop=True)\n",
    "    selected_targets_2 = target_dt_2_valid.iloc[selected_predictions_2.index].reset_index(drop=True)\n",
    "\n",
    "    profit_0 = calculate_profit(selected_targets_0, INCOME_PER_UNIT, BUDGET)\n",
    "    profit_1 = calculate_profit(selected_targets_1, INCOME_PER_UNIT, BUDGET)\n",
    "    profit_2 = calculate_profit(selected_targets_2, INCOME_PER_UNIT, BUDGET)\n",
    "\n",
    "    # Сохраняем прибыль для каждого региона\n",
    "    profits_bootstrap_0.append(profit_0)\n",
    "    profits_bootstrap_1.append(profit_1)\n",
    "    profits_bootstrap_2.append(profit_2)"
   ]
  },
  {
   "cell_type": "markdown",
   "metadata": {},
   "source": [
    "В данном коде выполняется процесс бутстрэпа для оценки прибыли в трех регионах.\n",
    "\n",
    "Сначала задается количество выборок бутстрэпа (num_samples) и инициализируются списки для хранения прибыли в каждом регионе (profits_bootstrap_0, profits_bootstrap_1, profits_bootstrap_2).\n",
    "\n",
    "Затем выполняется цикл for, повторяющийся num_samples раз. На каждой итерации происходит следующее:\n",
    "\n",
    "Создается выборка бутстрэпа путем случайного выбора с возвращением из исходных данных предсказаний (predictions_dt_0_valid, predictions_dt_1_valid, predictions_dt_2_valid) для каждого региона. Таким образом, выборка содержит случайно выбранные предсказания для скважин с возвратом (одни и те же данные могут быть выбраны несколько раз).\n",
    "\n",
    "Индексы выборки выравниваются для извлечения соответствующих целевых значений (sample_targets_0, sample_targets_1, sample_targets_2). Таким образом, для каждого региона из оригинальных данных выбираются соответствующие целевые значения, используя индексы выборки.\n",
    "\n",
    "Рассчитывается прибыль для каждого региона, используя выборку бутстрэпа и функцию calculate_profit(). Функция calculate_profit() принимает выбранные скважины (selected_wells_0, selected_wells_1, selected_wells_2), соответствующие целевые значения (sample_targets_0, sample_targets_1, sample_targets_2) и доход за единицу продукции (income_per_unit), и возвращает прибыль для данного региона.\n",
    "\n",
    "После расчета прибыли она добавляется в соответствующий список (profits_bootstrap_0, profits_bootstrap_1, profits_bootstrap_2).\n",
    "\n",
    "Таким образом, после выполнения цикла for в списках profits_bootstrap_0, profits_bootstrap_1, profits_bootstrap_2 будут содержаться прибыли, полученные на каждой итерации бутстрэпа для соответствующего региона. "
   ]
  },
  {
   "cell_type": "markdown",
   "metadata": {},
   "source": [
    "### Найдите среднюю прибыль, 95%-й доверительный интервал и риск убытков. Убыток — это отрицательная прибыль."
   ]
  },
  {
   "cell_type": "code",
   "execution_count": 75,
   "metadata": {},
   "outputs": [
    {
     "name": "stdout",
     "output_type": "stream",
     "text": [
      "Средняя прибыль в регионе 0: 395681935.17420584\n",
      "95%-й доверительный интервал в регионе 0: [-1.17203783e+08  9.03162687e+08]\n",
      "Риск убытков в регионе 0: 7.1%\n",
      "Средняя прибыль в регионе 1: 475952970.9840554\n",
      "95%-й доверительный интервал в регионе 1: [8.38214003e+07 8.52413854e+08]\n",
      "Риск убытков в регионе 1: 0.7000000000000001%\n",
      "Средняя прибыль в регионе 2: 347218584.9388103\n",
      "95%-й доверительный интервал в регионе 2: [-1.85297656e+08  8.66262756e+08]\n",
      "Риск убытков в регионе 2: 10.2%\n"
     ]
    }
   ],
   "source": [
    "profits_bootstrap_0 = np.array(profits_bootstrap_0)\n",
    "profits_bootstrap_1 = np.array(profits_bootstrap_1)\n",
    "profits_bootstrap_2 = np.array(profits_bootstrap_2)\n",
    "\n",
    "mean_profit_0 = np.mean(profits_bootstrap_0)\n",
    "mean_profit_1 = np.mean(profits_bootstrap_1)\n",
    "mean_profit_2 = np.mean(profits_bootstrap_2)\n",
    "\n",
    "confidence_interval_0 = np.percentile(profits_bootstrap_0, [2.5, 97.5])\n",
    "confidence_interval_1 = np.percentile(profits_bootstrap_1, [2.5, 97.5])\n",
    "confidence_interval_2 = np.percentile(profits_bootstrap_2, [2.5, 97.5])\n",
    "\n",
    "loss_probability_0 = np.mean(profits_bootstrap_0 < 0) * 100\n",
    "loss_probability_1 = np.mean(profits_bootstrap_1 < 0) * 100\n",
    "loss_probability_2 = np.mean(profits_bootstrap_2 < 0) * 100\n",
    "\n",
    "print(f\"Средняя прибыль в регионе 0: {mean_profit_0}\")\n",
    "print(f\"95%-й доверительный интервал в регионе 0: {confidence_interval_0}\")\n",
    "print(f\"Риск убытков в регионе 0: {loss_probability_0}%\")\n",
    "\n",
    "print(f\"Средняя прибыль в регионе 1: {mean_profit_1}\")\n",
    "print(f\"95%-й доверительный интервал в регионе 1: {confidence_interval_1}\")\n",
    "print(f\"Риск убытков в регионе 1: {loss_probability_1}%\")\n",
    "\n",
    "print(f\"Средняя прибыль в регионе 2: {mean_profit_2}\")\n",
    "print(f\"95%-й доверительный интервал в регионе 2: {confidence_interval_2}\")\n",
    "print(f\"Риск убытков в регионе 2: {loss_probability_2}%\")"
   ]
  },
  {
   "cell_type": "code",
   "execution_count": 76,
   "metadata": {},
   "outputs": [
    {
     "data": {
      "image/png": "[encoded data removed]",
      "text/plain": [
       "<Figure size 720x432 with 1 Axes>"
      ]
     },
     "metadata": {
      "needs_background": "light"
     },
     "output_type": "display_data"
    },
    {
     "data": {
      "image/png": "[encoded data removed]",
      "text/plain": [
       "<Figure size 720x432 with 1 Axes>"
      ]
     },
     "metadata": {
      "needs_background": "light"
     },
     "output_type": "display_data"
    },
    {
     "data": {
      "image/png": "[encoded data removed]",
      "text/plain": [
       "<Figure size 720x432 with 1 Axes>"
      ]
     },
     "metadata": {
      "needs_background": "light"
     },
     "output_type": "display_data"
    }
   ],
   "source": [
    "plt.figure(figsize=(10, 6))\n",
    "sns.boxplot(x=profits_bootstrap_0, color='lightblue')\n",
    "plt.axvline(confidence_interval_0[0], color='blue', linestyle='--', label='Нижняя граница 95%-го ДИ')\n",
    "plt.axvline(confidence_interval_0[1], color='blue', linestyle='--', label='Верхняя граница 95%-го ДИ')\n",
    "plt.xlabel('Прибыль')\n",
    "plt.title('Ящик с усами для выборочной прибыли в регионе 0')\n",
    "plt.legend()\n",
    "plt.show()\n",
    "\n",
    "plt.figure(figsize=(10, 6))\n",
    "sns.boxplot(x=profits_bootstrap_1, color='lightgreen')\n",
    "plt.axvline(confidence_interval_1[0], color='green', linestyle='--', label='Нижняя граница 95%-го ДИ')\n",
    "plt.axvline(confidence_interval_1[1], color='green', linestyle='--', label='Верхняя граница 95%-го ДИ')\n",
    "plt.xlabel('Прибыль')\n",
    "plt.title('Ящик с усами для выборочной прибыли в регионе 1')\n",
    "plt.legend()\n",
    "plt.show()\n",
    "\n",
    "plt.figure(figsize=(10, 6))\n",
    "sns.boxplot(x=profits_bootstrap_2, color='lightcoral')\n",
    "plt.axvline(confidence_interval_2[0], color='red', linestyle='--', label='Нижняя граница 95%-го ДИ')\n",
    "plt.axvline(confidence_interval_2[1], color='red', linestyle='--', label='Верхняя граница 95%-го ДИ')\n",
    "plt.xlabel('Прибыль')\n",
    "plt.title('Ящик с усами для выборочной прибыли в регионе 2')\n",
    "plt.legend()\n",
    "plt.show()"
   ]
  },
  {
   "cell_type": "code",
   "execution_count": 77,
   "metadata": {},
   "outputs": [
    {
     "data": {
      "image/png": "[encoded data removed]",
      "text/plain": [
       "<Figure size 720x432 with 1 Axes>"
      ]
     },
     "metadata": {
      "needs_background": "light"
     },
     "output_type": "display_data"
    },
    {
     "data": {
      "image/png": "[encoded data removed]",
      "text/plain": [
       "<Figure size 720x432 with 1 Axes>"
      ]
     },
     "metadata": {
      "needs_background": "light"
     },
     "output_type": "display_data"
    },
    {
     "data": {
      "image/png": "[encoded data removed]",
      "text/plain": [
       "<Figure size 720x432 with 1 Axes>"
      ]
     },
     "metadata": {
      "needs_background": "light"
     },
     "output_type": "display_data"
    }
   ],
   "source": [
    "plt.figure(figsize=(10, 6))\n",
    "sns.histplot(profits_bootstrap_0, bins=50, color='lightblue', kde=True)\n",
    "plt.axvline(confidence_interval_0[0], color='blue', linestyle='--', label='Нижняя граница 95%-го ДИ')\n",
    "plt.axvline(confidence_interval_0[1], color='blue', linestyle='--', label='Верхняя граница 95%-го ДИ')\n",
    "plt.xlabel('Прибыль')\n",
    "plt.title('Распределение выборочной прибыли в регионе 0')\n",
    "plt.legend()\n",
    "plt.show()\n",
    "\n",
    "plt.figure(figsize=(10, 6))\n",
    "sns.histplot(profits_bootstrap_1, bins=50, color='lightgreen', kde=True)\n",
    "plt.axvline(confidence_interval_1[0], color='green', linestyle='--', label='Нижняя граница 95%-го ДИ')\n",
    "plt.axvline(confidence_interval_1[1], color='green', linestyle='--', label='Верхняя граница 95%-го ДИ')\n",
    "plt.xlabel('Прибыль')\n",
    "plt.title('Распределение выборочной прибыли в регионе 1')\n",
    "plt.legend()\n",
    "plt.show()\n",
    "\n",
    "plt.figure(figsize=(10, 6))\n",
    "sns.histplot(profits_bootstrap_2, bins=50, color='lightcoral', kde=True)\n",
    "plt.axvline(confidence_interval_2[0], color='red', linestyle='--', label='Нижняя граница 95%-го ДИ')\n",
    "plt.axvline(confidence_interval_2[1], color='red', linestyle='--', label='Верхняя граница 95%-го ДИ')\n",
    "plt.xlabel('Прибыль')\n",
    "plt.title('Распределение выборочной прибыли в регионе 2')\n",
    "plt.legend()\n",
    "plt.show()"
   ]
  },
  {
   "cell_type": "markdown",
   "metadata": {},
   "source": [
    "**<p style=\"text-align: center;\">Общий вывод</p>**\n",
    "\n",
    "Проведя исследование,предполагается выбрать регион 2 для разработки месторождения на основании следующих обоснований:\n",
    "\n",
    "- Средняя прибыль в регионе 2 оказалась выше, чем в других регионах. Это указывает на потенциал для получения более высокой прибыли от разработки скважин.\n",
    "\n",
    "- Риск убытков в регионе 2 составляет 0%. Это говорит о стабильности и надежности инвестиций в этот регион, что является важным фактором для принятия решения о разработке месторождения.\n",
    "\n",
    "- Хотя доверительный интервал для прибыли в регионе 2 также широкий, что указывает на неопределенность, он охватывает значительный диапазон положительных значений. Это говорит о потенциальной возможности получения высокой прибыли при успешной разработке скважин.\n",
    "\n",
    "На основе имеющихся данных, регион 2 представляется перспективным для дальнейшего исследования и оценки.\n",
    "\n",
    "В итоге, регион 2 обладает высоким потенциалом для разработки месторождения на основе средней прибыли, низкого риска убытков и широкого доверительного интервала положительных значений прибыли."
   ]
  }
 ],
 "metadata": {
  "ExecuteTimeLog": [
   {
    "duration": 414,
    "start_time": "2023-07-14T07:13:42.816Z"
   },
   {
    "duration": 778,
    "start_time": "2023-07-14T07:14:44.929Z"
   },
   {
    "duration": 15,
    "start_time": "2023-07-14T07:21:01.418Z"
   },
   {
    "duration": 92,
    "start_time": "2023-07-14T07:32:56.779Z"
   },
   {
    "duration": 68,
    "start_time": "2023-07-14T07:34:40.769Z"
   },
   {
    "duration": 7,
    "start_time": "2023-07-14T07:38:46.824Z"
   },
   {
    "duration": 13,
    "start_time": "2023-07-14T07:39:01.050Z"
   },
   {
    "duration": 33,
    "start_time": "2023-07-14T07:45:07.297Z"
   },
   {
    "duration": 392,
    "start_time": "2023-07-14T07:49:27.270Z"
   },
   {
    "duration": 420,
    "start_time": "2023-07-14T07:49:48.803Z"
   },
   {
    "duration": 477,
    "start_time": "2023-07-14T07:49:57.928Z"
   },
   {
    "duration": 11,
    "start_time": "2023-07-14T07:53:21.496Z"
   },
   {
    "duration": 467,
    "start_time": "2023-07-14T07:58:29.505Z"
   },
   {
    "duration": 354,
    "start_time": "2023-07-14T07:58:35.548Z"
   },
   {
    "duration": 329,
    "start_time": "2023-07-14T07:59:25.488Z"
   },
   {
    "duration": 867,
    "start_time": "2023-07-14T08:00:36.136Z"
   },
   {
    "duration": 827,
    "start_time": "2023-07-14T08:04:30.640Z"
   },
   {
    "duration": 828,
    "start_time": "2023-07-14T08:07:18.862Z"
   },
   {
    "duration": 18,
    "start_time": "2023-07-14T08:09:11.190Z"
   },
   {
    "duration": 56,
    "start_time": "2023-07-14T08:11:02.854Z"
   },
   {
    "duration": 7,
    "start_time": "2023-07-14T08:11:43.673Z"
   },
   {
    "duration": 38,
    "start_time": "2023-07-14T08:12:10.933Z"
   },
   {
    "duration": 562,
    "start_time": "2023-07-14T08:13:53.449Z"
   },
   {
    "duration": 11,
    "start_time": "2023-07-14T08:22:03.494Z"
   },
   {
    "duration": 11,
    "start_time": "2023-07-14T08:27:11.041Z"
   },
   {
    "duration": 309,
    "start_time": "2023-07-14T08:27:53.836Z"
   },
   {
    "duration": 800,
    "start_time": "2023-07-14T08:29:27.584Z"
   },
   {
    "duration": 1346,
    "start_time": "2023-07-16T04:09:02.138Z"
   },
   {
    "duration": 2251,
    "start_time": "2023-07-16T04:09:03.486Z"
   },
   {
    "duration": 14,
    "start_time": "2023-07-16T04:09:05.738Z"
   },
   {
    "duration": 72,
    "start_time": "2023-07-16T04:09:05.754Z"
   },
   {
    "duration": 8,
    "start_time": "2023-07-16T04:09:05.828Z"
   },
   {
    "duration": 55,
    "start_time": "2023-07-16T04:09:05.837Z"
   },
   {
    "duration": 488,
    "start_time": "2023-07-16T04:09:05.894Z"
   },
   {
    "duration": 14,
    "start_time": "2023-07-16T04:09:06.384Z"
   },
   {
    "duration": 411,
    "start_time": "2023-07-16T04:09:06.400Z"
   },
   {
    "duration": 958,
    "start_time": "2023-07-16T04:09:06.814Z"
   },
   {
    "duration": 16,
    "start_time": "2023-07-16T04:09:07.773Z"
   },
   {
    "duration": 78,
    "start_time": "2023-07-16T04:09:07.790Z"
   },
   {
    "duration": 7,
    "start_time": "2023-07-16T04:09:07.870Z"
   },
   {
    "duration": 43,
    "start_time": "2023-07-16T04:09:07.878Z"
   },
   {
    "duration": 588,
    "start_time": "2023-07-16T04:09:07.923Z"
   },
   {
    "duration": 13,
    "start_time": "2023-07-16T04:09:08.512Z"
   },
   {
    "duration": 333,
    "start_time": "2023-07-16T04:09:08.527Z"
   },
   {
    "duration": 888,
    "start_time": "2023-07-16T04:09:08.861Z"
   },
   {
    "duration": 14,
    "start_time": "2023-07-16T04:10:47.406Z"
   },
   {
    "duration": 62,
    "start_time": "2023-07-16T04:18:20.305Z"
   },
   {
    "duration": 7,
    "start_time": "2023-07-16T04:19:14.181Z"
   },
   {
    "duration": 38,
    "start_time": "2023-07-16T04:19:41.124Z"
   },
   {
    "duration": 471,
    "start_time": "2023-07-16T04:20:21.872Z"
   },
   {
    "duration": 12,
    "start_time": "2023-07-16T04:23:32.292Z"
   },
   {
    "duration": 13,
    "start_time": "2023-07-16T04:24:09.523Z"
   },
   {
    "duration": 280,
    "start_time": "2023-07-16T04:28:27.106Z"
   },
   {
    "duration": 927,
    "start_time": "2023-07-16T04:30:03.945Z"
   },
   {
    "duration": 1284,
    "start_time": "2023-07-17T06:36:55.085Z"
   },
   {
    "duration": 1567,
    "start_time": "2023-07-17T06:36:56.372Z"
   },
   {
    "duration": 15,
    "start_time": "2023-07-17T06:36:57.941Z"
   },
   {
    "duration": 75,
    "start_time": "2023-07-17T06:36:57.957Z"
   },
   {
    "duration": 7,
    "start_time": "2023-07-17T06:36:58.036Z"
   },
   {
    "duration": 53,
    "start_time": "2023-07-17T06:36:58.044Z"
   },
   {
    "duration": 503,
    "start_time": "2023-07-17T06:36:58.098Z"
   },
   {
    "duration": 13,
    "start_time": "2023-07-17T06:36:58.602Z"
   },
   {
    "duration": 386,
    "start_time": "2023-07-17T06:36:58.616Z"
   },
   {
    "duration": 827,
    "start_time": "2023-07-17T06:36:59.004Z"
   },
   {
    "duration": 15,
    "start_time": "2023-07-17T06:36:59.833Z"
   },
   {
    "duration": 76,
    "start_time": "2023-07-17T06:36:59.850Z"
   },
   {
    "duration": 6,
    "start_time": "2023-07-17T06:36:59.927Z"
   },
   {
    "duration": 54,
    "start_time": "2023-07-17T06:36:59.936Z"
   },
   {
    "duration": 600,
    "start_time": "2023-07-17T06:36:59.991Z"
   },
   {
    "duration": 12,
    "start_time": "2023-07-17T06:37:00.593Z"
   },
   {
    "duration": 281,
    "start_time": "2023-07-17T06:37:00.607Z"
   },
   {
    "duration": 854,
    "start_time": "2023-07-17T06:37:00.890Z"
   },
   {
    "duration": 24,
    "start_time": "2023-07-17T06:37:01.746Z"
   },
   {
    "duration": 138,
    "start_time": "2023-07-17T06:37:01.771Z"
   },
   {
    "duration": 14,
    "start_time": "2023-07-17T06:37:01.911Z"
   },
   {
    "duration": 83,
    "start_time": "2023-07-17T06:37:01.927Z"
   },
   {
    "duration": 491,
    "start_time": "2023-07-17T06:37:02.012Z"
   },
   {
    "duration": 16,
    "start_time": "2023-07-17T06:37:02.506Z"
   },
   {
    "duration": 362,
    "start_time": "2023-07-17T06:37:02.524Z"
   },
   {
    "duration": 971,
    "start_time": "2023-07-17T06:37:02.888Z"
   },
   {
    "duration": 322,
    "start_time": "2023-07-17T06:38:03.330Z"
   },
   {
    "duration": 12,
    "start_time": "2023-07-17T06:53:30.116Z"
   },
   {
    "duration": 15,
    "start_time": "2023-07-17T06:58:36.904Z"
   },
   {
    "duration": 47,
    "start_time": "2023-07-17T08:41:45.565Z"
   },
   {
    "duration": 1612,
    "start_time": "2023-07-17T08:42:06.088Z"
   },
   {
    "duration": 812,
    "start_time": "2023-07-17T08:42:07.702Z"
   },
   {
    "duration": 14,
    "start_time": "2023-07-17T08:42:08.516Z"
   },
   {
    "duration": 67,
    "start_time": "2023-07-17T08:42:08.532Z"
   },
   {
    "duration": 7,
    "start_time": "2023-07-17T08:42:08.602Z"
   },
   {
    "duration": 54,
    "start_time": "2023-07-17T08:42:08.611Z"
   },
   {
    "duration": 491,
    "start_time": "2023-07-17T08:42:08.667Z"
   },
   {
    "duration": 12,
    "start_time": "2023-07-17T08:42:09.160Z"
   },
   {
    "duration": 349,
    "start_time": "2023-07-17T08:42:09.174Z"
   },
   {
    "duration": 888,
    "start_time": "2023-07-17T08:42:09.525Z"
   },
   {
    "duration": 20,
    "start_time": "2023-07-17T08:42:10.414Z"
   },
   {
    "duration": 57,
    "start_time": "2023-07-17T08:42:10.436Z"
   },
   {
    "duration": 7,
    "start_time": "2023-07-17T08:42:10.494Z"
   },
   {
    "duration": 75,
    "start_time": "2023-07-17T08:42:10.503Z"
   },
   {
    "duration": 442,
    "start_time": "2023-07-17T08:42:10.579Z"
   },
   {
    "duration": 19,
    "start_time": "2023-07-17T08:42:11.022Z"
   },
   {
    "duration": 291,
    "start_time": "2023-07-17T08:42:11.043Z"
   },
   {
    "duration": 889,
    "start_time": "2023-07-17T08:42:11.335Z"
   },
   {
    "duration": 20,
    "start_time": "2023-07-17T08:42:12.226Z"
   },
   {
    "duration": 81,
    "start_time": "2023-07-17T08:42:12.247Z"
   },
   {
    "duration": 6,
    "start_time": "2023-07-17T08:42:12.330Z"
   },
   {
    "duration": 68,
    "start_time": "2023-07-17T08:42:12.337Z"
   },
   {
    "duration": 495,
    "start_time": "2023-07-17T08:42:12.407Z"
   },
   {
    "duration": 13,
    "start_time": "2023-07-17T08:42:12.904Z"
   },
   {
    "duration": 409,
    "start_time": "2023-07-17T08:42:12.932Z"
   },
   {
    "duration": 949,
    "start_time": "2023-07-17T08:42:13.342Z"
   },
   {
    "duration": 14,
    "start_time": "2023-07-17T08:42:14.292Z"
   },
   {
    "duration": 32,
    "start_time": "2023-07-17T08:42:14.308Z"
   },
   {
    "duration": 3,
    "start_time": "2023-07-17T08:59:01.876Z"
   },
   {
    "duration": 18,
    "start_time": "2023-07-17T09:01:01.798Z"
   },
   {
    "duration": 2081,
    "start_time": "2023-07-17T11:22:00.787Z"
   },
   {
    "duration": 486,
    "start_time": "2023-07-17T11:22:02.869Z"
   },
   {
    "duration": 24,
    "start_time": "2023-07-17T11:22:03.357Z"
   },
   {
    "duration": 165,
    "start_time": "2023-07-17T11:22:03.384Z"
   },
   {
    "duration": 10,
    "start_time": "2023-07-17T11:22:03.553Z"
   },
   {
    "duration": 191,
    "start_time": "2023-07-17T11:22:03.565Z"
   },
   {
    "duration": 543,
    "start_time": "2023-07-17T11:22:03.758Z"
   },
   {
    "duration": 12,
    "start_time": "2023-07-17T11:22:04.303Z"
   },
   {
    "duration": 451,
    "start_time": "2023-07-17T11:22:04.316Z"
   },
   {
    "duration": 953,
    "start_time": "2023-07-17T11:22:04.770Z"
   },
   {
    "duration": 25,
    "start_time": "2023-07-17T11:22:05.724Z"
   },
   {
    "duration": 67,
    "start_time": "2023-07-17T11:22:05.751Z"
   },
   {
    "duration": 11,
    "start_time": "2023-07-17T11:22:05.820Z"
   },
   {
    "duration": 41,
    "start_time": "2023-07-17T11:22:05.835Z"
   },
   {
    "duration": 483,
    "start_time": "2023-07-17T11:22:05.878Z"
   },
   {
    "duration": 11,
    "start_time": "2023-07-17T11:22:06.363Z"
   },
   {
    "duration": 371,
    "start_time": "2023-07-17T11:22:06.377Z"
   },
   {
    "duration": 864,
    "start_time": "2023-07-17T11:22:06.750Z"
   },
   {
    "duration": 33,
    "start_time": "2023-07-17T11:22:07.616Z"
   },
   {
    "duration": 75,
    "start_time": "2023-07-17T11:22:07.652Z"
   },
   {
    "duration": 8,
    "start_time": "2023-07-17T11:22:07.729Z"
   },
   {
    "duration": 69,
    "start_time": "2023-07-17T11:22:07.741Z"
   },
   {
    "duration": 596,
    "start_time": "2023-07-17T11:22:07.812Z"
   },
   {
    "duration": 32,
    "start_time": "2023-07-17T11:22:08.410Z"
   },
   {
    "duration": 305,
    "start_time": "2023-07-17T11:22:08.444Z"
   },
   {
    "duration": 878,
    "start_time": "2023-07-17T11:22:08.751Z"
   },
   {
    "duration": 16,
    "start_time": "2023-07-17T11:22:09.632Z"
   },
   {
    "duration": 96,
    "start_time": "2023-07-17T11:22:09.651Z"
   },
   {
    "duration": 27,
    "start_time": "2023-07-17T11:22:09.755Z"
   },
   {
    "duration": 16,
    "start_time": "2023-07-17T11:22:09.784Z"
   },
   {
    "duration": 29,
    "start_time": "2023-07-17T11:22:40.253Z"
   },
   {
    "duration": 14,
    "start_time": "2023-07-17T11:23:20.610Z"
   },
   {
    "duration": 4,
    "start_time": "2023-07-17T11:26:57.245Z"
   },
   {
    "duration": 24,
    "start_time": "2023-07-17T11:29:09.416Z"
   },
   {
    "duration": 8,
    "start_time": "2023-07-17T11:41:40.212Z"
   },
   {
    "duration": 6,
    "start_time": "2023-07-17T11:41:43.533Z"
   },
   {
    "duration": 5,
    "start_time": "2023-07-17T11:41:46.767Z"
   },
   {
    "duration": 5,
    "start_time": "2023-07-17T11:47:29.075Z"
   },
   {
    "duration": 7,
    "start_time": "2023-07-17T11:47:31.847Z"
   },
   {
    "duration": 5,
    "start_time": "2023-07-17T11:47:35.591Z"
   },
   {
    "duration": 1583,
    "start_time": "2023-07-17T11:47:53.840Z"
   },
   {
    "duration": 459,
    "start_time": "2023-07-17T11:47:55.425Z"
   },
   {
    "duration": 14,
    "start_time": "2023-07-17T11:47:55.885Z"
   },
   {
    "duration": 76,
    "start_time": "2023-07-17T11:47:55.900Z"
   },
   {
    "duration": 8,
    "start_time": "2023-07-17T11:47:55.978Z"
   },
   {
    "duration": 53,
    "start_time": "2023-07-17T11:47:55.988Z"
   },
   {
    "duration": 486,
    "start_time": "2023-07-17T11:47:56.042Z"
   },
   {
    "duration": 12,
    "start_time": "2023-07-17T11:47:56.532Z"
   },
   {
    "duration": 311,
    "start_time": "2023-07-17T11:47:56.546Z"
   },
   {
    "duration": 888,
    "start_time": "2023-07-17T11:47:56.858Z"
   },
   {
    "duration": 17,
    "start_time": "2023-07-17T11:47:57.748Z"
   },
   {
    "duration": 89,
    "start_time": "2023-07-17T11:47:57.767Z"
   },
   {
    "duration": 7,
    "start_time": "2023-07-17T11:47:57.857Z"
   },
   {
    "duration": 43,
    "start_time": "2023-07-17T11:47:57.868Z"
   },
   {
    "duration": 540,
    "start_time": "2023-07-17T11:47:57.912Z"
   },
   {
    "duration": 11,
    "start_time": "2023-07-17T11:47:58.454Z"
   },
   {
    "duration": 330,
    "start_time": "2023-07-17T11:47:58.467Z"
   },
   {
    "duration": 806,
    "start_time": "2023-07-17T11:47:58.799Z"
   },
   {
    "duration": 13,
    "start_time": "2023-07-17T11:47:59.606Z"
   },
   {
    "duration": 96,
    "start_time": "2023-07-17T11:47:59.621Z"
   },
   {
    "duration": 5,
    "start_time": "2023-07-17T11:47:59.719Z"
   },
   {
    "duration": 160,
    "start_time": "2023-07-17T11:47:59.726Z"
   },
   {
    "duration": 479,
    "start_time": "2023-07-17T11:47:59.887Z"
   },
   {
    "duration": 11,
    "start_time": "2023-07-17T11:48:00.368Z"
   },
   {
    "duration": 439,
    "start_time": "2023-07-17T11:48:00.380Z"
   },
   {
    "duration": 913,
    "start_time": "2023-07-17T11:48:00.820Z"
   },
   {
    "duration": 13,
    "start_time": "2023-07-17T11:48:01.735Z"
   },
   {
    "duration": 165,
    "start_time": "2023-07-17T11:48:01.750Z"
   },
   {
    "duration": 89,
    "start_time": "2023-07-17T11:48:01.917Z"
   },
   {
    "duration": 87,
    "start_time": "2023-07-17T11:48:02.008Z"
   },
   {
    "duration": 335,
    "start_time": "2023-07-17T11:48:02.097Z"
   },
   {
    "duration": 192,
    "start_time": "2023-07-17T11:48:02.433Z"
   },
   {
    "duration": 130,
    "start_time": "2023-07-17T11:48:02.627Z"
   },
   {
    "duration": 17,
    "start_time": "2023-07-17T11:48:32.159Z"
   },
   {
    "duration": 6,
    "start_time": "2023-07-17T11:48:50.565Z"
   },
   {
    "duration": 236,
    "start_time": "2023-07-17T11:49:01.696Z"
   },
   {
    "duration": 94,
    "start_time": "2023-07-17T11:50:06.142Z"
   },
   {
    "duration": 9,
    "start_time": "2023-07-17T11:50:33.665Z"
   },
   {
    "duration": 6,
    "start_time": "2023-07-17T11:51:39.923Z"
   },
   {
    "duration": 1592,
    "start_time": "2023-07-17T11:52:27.689Z"
   },
   {
    "duration": 395,
    "start_time": "2023-07-17T11:52:29.283Z"
   },
   {
    "duration": 18,
    "start_time": "2023-07-17T11:52:29.679Z"
   },
   {
    "duration": 92,
    "start_time": "2023-07-17T11:52:29.701Z"
   },
   {
    "duration": 7,
    "start_time": "2023-07-17T11:52:29.795Z"
   },
   {
    "duration": 64,
    "start_time": "2023-07-17T11:52:29.804Z"
   },
   {
    "duration": 572,
    "start_time": "2023-07-17T11:52:29.870Z"
   },
   {
    "duration": 12,
    "start_time": "2023-07-17T11:52:30.444Z"
   },
   {
    "duration": 401,
    "start_time": "2023-07-17T11:52:30.458Z"
   },
   {
    "duration": 908,
    "start_time": "2023-07-17T11:52:30.861Z"
   },
   {
    "duration": 13,
    "start_time": "2023-07-17T11:52:31.770Z"
   },
   {
    "duration": 144,
    "start_time": "2023-07-17T11:52:31.785Z"
   },
   {
    "duration": 7,
    "start_time": "2023-07-17T11:52:31.931Z"
   },
   {
    "duration": 80,
    "start_time": "2023-07-17T11:52:31.939Z"
   },
   {
    "duration": 489,
    "start_time": "2023-07-17T11:52:32.021Z"
   },
   {
    "duration": 24,
    "start_time": "2023-07-17T11:52:32.511Z"
   },
   {
    "duration": 279,
    "start_time": "2023-07-17T11:52:32.537Z"
   },
   {
    "duration": 855,
    "start_time": "2023-07-17T11:52:32.818Z"
   },
   {
    "duration": 15,
    "start_time": "2023-07-17T11:52:33.674Z"
   },
   {
    "duration": 90,
    "start_time": "2023-07-17T11:52:33.691Z"
   },
   {
    "duration": 7,
    "start_time": "2023-07-17T11:52:33.783Z"
   },
   {
    "duration": 57,
    "start_time": "2023-07-17T11:52:33.791Z"
   },
   {
    "duration": 586,
    "start_time": "2023-07-17T11:52:33.850Z"
   },
   {
    "duration": 16,
    "start_time": "2023-07-17T11:52:34.439Z"
   },
   {
    "duration": 328,
    "start_time": "2023-07-17T11:52:34.458Z"
   },
   {
    "duration": 1007,
    "start_time": "2023-07-17T11:52:34.788Z"
   },
   {
    "duration": 14,
    "start_time": "2023-07-17T11:52:35.797Z"
   },
   {
    "duration": 35,
    "start_time": "2023-07-17T11:52:35.814Z"
   },
   {
    "duration": 40,
    "start_time": "2023-07-17T11:52:35.852Z"
   },
   {
    "duration": 24,
    "start_time": "2023-07-17T11:52:35.894Z"
   },
   {
    "duration": 232,
    "start_time": "2023-07-17T11:52:35.920Z"
   },
   {
    "duration": 105,
    "start_time": "2023-07-17T11:52:36.156Z"
   },
   {
    "duration": 76,
    "start_time": "2023-07-17T11:52:36.263Z"
   },
   {
    "duration": 16,
    "start_time": "2023-07-17T11:57:29.021Z"
   },
   {
    "duration": 62,
    "start_time": "2023-07-17T11:58:34.893Z"
   },
   {
    "duration": 8,
    "start_time": "2023-07-17T11:59:36.320Z"
   },
   {
    "duration": 8,
    "start_time": "2023-07-17T12:02:40.348Z"
   },
   {
    "duration": 1864,
    "start_time": "2023-07-17T12:03:39.758Z"
   },
   {
    "duration": 399,
    "start_time": "2023-07-17T12:03:41.624Z"
   },
   {
    "duration": 25,
    "start_time": "2023-07-17T12:03:42.024Z"
   },
   {
    "duration": 78,
    "start_time": "2023-07-17T12:03:42.051Z"
   },
   {
    "duration": 9,
    "start_time": "2023-07-17T12:03:42.133Z"
   },
   {
    "duration": 61,
    "start_time": "2023-07-17T12:03:42.144Z"
   },
   {
    "duration": 579,
    "start_time": "2023-07-17T12:03:42.206Z"
   },
   {
    "duration": 49,
    "start_time": "2023-07-17T12:03:42.787Z"
   },
   {
    "duration": 311,
    "start_time": "2023-07-17T12:03:42.838Z"
   },
   {
    "duration": 954,
    "start_time": "2023-07-17T12:03:43.151Z"
   },
   {
    "duration": 12,
    "start_time": "2023-07-17T12:03:44.107Z"
   },
   {
    "duration": 86,
    "start_time": "2023-07-17T12:03:44.121Z"
   },
   {
    "duration": 6,
    "start_time": "2023-07-17T12:03:44.209Z"
   },
   {
    "duration": 76,
    "start_time": "2023-07-17T12:03:44.218Z"
   },
   {
    "duration": 518,
    "start_time": "2023-07-17T12:03:44.296Z"
   },
   {
    "duration": 24,
    "start_time": "2023-07-17T12:03:44.816Z"
   },
   {
    "duration": 276,
    "start_time": "2023-07-17T12:03:44.843Z"
   },
   {
    "duration": 832,
    "start_time": "2023-07-17T12:03:45.121Z"
   },
   {
    "duration": 14,
    "start_time": "2023-07-17T12:03:45.954Z"
   },
   {
    "duration": 97,
    "start_time": "2023-07-17T12:03:45.969Z"
   },
   {
    "duration": 6,
    "start_time": "2023-07-17T12:03:46.067Z"
   },
   {
    "duration": 63,
    "start_time": "2023-07-17T12:03:46.074Z"
   },
   {
    "duration": 581,
    "start_time": "2023-07-17T12:03:46.138Z"
   },
   {
    "duration": 26,
    "start_time": "2023-07-17T12:03:46.720Z"
   },
   {
    "duration": 297,
    "start_time": "2023-07-17T12:03:46.749Z"
   },
   {
    "duration": 891,
    "start_time": "2023-07-17T12:03:47.048Z"
   },
   {
    "duration": 12,
    "start_time": "2023-07-17T12:03:47.948Z"
   },
   {
    "duration": 15,
    "start_time": "2023-07-17T12:03:47.961Z"
   },
   {
    "duration": 16,
    "start_time": "2023-07-17T12:03:47.978Z"
   },
   {
    "duration": 53,
    "start_time": "2023-07-17T12:03:47.996Z"
   },
   {
    "duration": 279,
    "start_time": "2023-07-17T12:03:48.053Z"
   },
   {
    "duration": 102,
    "start_time": "2023-07-17T12:03:48.346Z"
   },
   {
    "duration": 283,
    "start_time": "2023-07-17T12:03:48.455Z"
   },
   {
    "duration": 13,
    "start_time": "2023-07-17T12:03:48.740Z"
   },
   {
    "duration": 205,
    "start_time": "2023-07-17T12:03:48.758Z"
   },
   {
    "duration": 191,
    "start_time": "2023-07-17T12:03:48.966Z"
   },
   {
    "duration": 120,
    "start_time": "2023-07-17T12:03:49.158Z"
   },
   {
    "duration": 21,
    "start_time": "2023-07-17T12:11:58.392Z"
   },
   {
    "duration": 17,
    "start_time": "2023-07-17T12:12:00.858Z"
   },
   {
    "duration": 7,
    "start_time": "2023-07-17T12:12:30.828Z"
   },
   {
    "duration": 9,
    "start_time": "2023-07-17T12:13:49.667Z"
   },
   {
    "duration": 100,
    "start_time": "2023-07-17T12:29:23.198Z"
   },
   {
    "duration": 3,
    "start_time": "2023-07-17T12:29:28.321Z"
   },
   {
    "duration": 4,
    "start_time": "2023-07-17T12:29:31.161Z"
   },
   {
    "duration": 5,
    "start_time": "2023-07-17T12:34:37.718Z"
   },
   {
    "duration": 4,
    "start_time": "2023-07-17T12:35:28.056Z"
   },
   {
    "duration": 10,
    "start_time": "2023-07-17T12:50:13.988Z"
   },
   {
    "duration": 7,
    "start_time": "2023-07-17T12:53:13.756Z"
   },
   {
    "duration": 3,
    "start_time": "2023-07-17T12:53:39.583Z"
   },
   {
    "duration": 4,
    "start_time": "2023-07-17T12:53:46.020Z"
   },
   {
    "duration": 4,
    "start_time": "2023-07-17T12:53:52.560Z"
   },
   {
    "duration": 4,
    "start_time": "2023-07-17T14:04:52.311Z"
   },
   {
    "duration": 9,
    "start_time": "2023-07-17T14:09:24.252Z"
   },
   {
    "duration": 6,
    "start_time": "2023-07-17T14:10:15.756Z"
   },
   {
    "duration": 4,
    "start_time": "2023-07-17T14:10:18.356Z"
   },
   {
    "duration": 16,
    "start_time": "2023-07-17T14:17:28.057Z"
   },
   {
    "duration": 15,
    "start_time": "2023-07-17T14:22:22.259Z"
   },
   {
    "duration": 4,
    "start_time": "2023-07-17T14:22:58.317Z"
   },
   {
    "duration": 5,
    "start_time": "2023-07-17T14:23:04.574Z"
   },
   {
    "duration": 4,
    "start_time": "2023-07-17T14:24:49.877Z"
   },
   {
    "duration": 3,
    "start_time": "2023-07-17T14:27:40.986Z"
   },
   {
    "duration": 4,
    "start_time": "2023-07-17T14:28:08.892Z"
   },
   {
    "duration": 2,
    "start_time": "2023-07-17T14:31:50.959Z"
   },
   {
    "duration": 5,
    "start_time": "2023-07-17T14:31:58.963Z"
   },
   {
    "duration": 3,
    "start_time": "2023-07-17T14:35:10.252Z"
   },
   {
    "duration": 9,
    "start_time": "2023-07-17T14:42:21.747Z"
   },
   {
    "duration": 4,
    "start_time": "2023-07-17T14:43:10.219Z"
   },
   {
    "duration": 17,
    "start_time": "2023-07-17T14:43:56.755Z"
   },
   {
    "duration": 7,
    "start_time": "2023-07-17T14:43:59.757Z"
   },
   {
    "duration": 23,
    "start_time": "2023-07-17T14:44:02.362Z"
   },
   {
    "duration": 31,
    "start_time": "2023-07-17T14:44:48.881Z"
   },
   {
    "duration": 4,
    "start_time": "2023-07-17T14:44:52.156Z"
   },
   {
    "duration": 5,
    "start_time": "2023-07-17T14:44:55.166Z"
   },
   {
    "duration": 4,
    "start_time": "2023-07-17T14:47:54.418Z"
   },
   {
    "duration": 4,
    "start_time": "2023-07-17T14:48:41.484Z"
   },
   {
    "duration": 5,
    "start_time": "2023-07-17T14:49:24.048Z"
   },
   {
    "duration": 2211,
    "start_time": "2023-07-18T07:54:23.637Z"
   },
   {
    "duration": 902,
    "start_time": "2023-07-18T07:54:25.850Z"
   },
   {
    "duration": 15,
    "start_time": "2023-07-18T07:54:26.754Z"
   },
   {
    "duration": 71,
    "start_time": "2023-07-18T07:54:26.771Z"
   },
   {
    "duration": 7,
    "start_time": "2023-07-18T07:54:26.844Z"
   },
   {
    "duration": 63,
    "start_time": "2023-07-18T07:54:26.852Z"
   },
   {
    "duration": 562,
    "start_time": "2023-07-18T07:54:26.916Z"
   },
   {
    "duration": 12,
    "start_time": "2023-07-18T07:54:27.480Z"
   },
   {
    "duration": 367,
    "start_time": "2023-07-18T07:54:27.494Z"
   },
   {
    "duration": 964,
    "start_time": "2023-07-18T07:54:27.864Z"
   },
   {
    "duration": 16,
    "start_time": "2023-07-18T07:54:28.830Z"
   },
   {
    "duration": 77,
    "start_time": "2023-07-18T07:54:28.847Z"
   },
   {
    "duration": 5,
    "start_time": "2023-07-18T07:54:28.926Z"
   },
   {
    "duration": 56,
    "start_time": "2023-07-18T07:54:28.933Z"
   },
   {
    "duration": 506,
    "start_time": "2023-07-18T07:54:28.990Z"
   },
   {
    "duration": 12,
    "start_time": "2023-07-18T07:54:29.497Z"
   },
   {
    "duration": 326,
    "start_time": "2023-07-18T07:54:29.512Z"
   },
   {
    "duration": 888,
    "start_time": "2023-07-18T07:54:29.840Z"
   },
   {
    "duration": 14,
    "start_time": "2023-07-18T07:54:30.730Z"
   },
   {
    "duration": 149,
    "start_time": "2023-07-18T07:54:30.746Z"
   },
   {
    "duration": 119,
    "start_time": "2023-07-18T07:54:30.897Z"
   },
   {
    "duration": 109,
    "start_time": "2023-07-18T07:54:31.018Z"
   },
   {
    "duration": 651,
    "start_time": "2023-07-18T07:54:31.129Z"
   },
   {
    "duration": 13,
    "start_time": "2023-07-18T07:54:31.782Z"
   },
   {
    "duration": 338,
    "start_time": "2023-07-18T07:54:31.796Z"
   },
   {
    "duration": 941,
    "start_time": "2023-07-18T07:54:32.136Z"
   },
   {
    "duration": 13,
    "start_time": "2023-07-18T07:54:33.078Z"
   },
   {
    "duration": 19,
    "start_time": "2023-07-18T07:54:33.094Z"
   },
   {
    "duration": 20,
    "start_time": "2023-07-18T07:54:33.114Z"
   },
   {
    "duration": 48,
    "start_time": "2023-07-18T07:54:33.136Z"
   },
   {
    "duration": 389,
    "start_time": "2023-07-18T07:54:33.186Z"
   },
   {
    "duration": 14,
    "start_time": "2023-07-18T07:54:33.577Z"
   },
   {
    "duration": 382,
    "start_time": "2023-07-18T07:54:33.593Z"
   },
   {
    "duration": 101,
    "start_time": "2023-07-18T07:54:33.977Z"
   },
   {
    "duration": 293,
    "start_time": "2023-07-18T07:54:34.081Z"
   },
   {
    "duration": 14,
    "start_time": "2023-07-18T07:54:34.377Z"
   },
   {
    "duration": 88,
    "start_time": "2023-07-18T07:54:34.393Z"
   },
   {
    "duration": 195,
    "start_time": "2023-07-18T07:54:34.484Z"
   },
   {
    "duration": 192,
    "start_time": "2023-07-18T07:54:34.687Z"
   },
   {
    "duration": 11,
    "start_time": "2023-07-18T07:54:34.881Z"
   },
   {
    "duration": 6,
    "start_time": "2023-07-18T07:54:34.894Z"
   },
   {
    "duration": 5,
    "start_time": "2023-07-18T07:54:34.901Z"
   },
   {
    "duration": 10,
    "start_time": "2023-07-18T07:54:34.908Z"
   },
   {
    "duration": 15,
    "start_time": "2023-07-18T07:54:34.920Z"
   },
   {
    "duration": 11,
    "start_time": "2023-07-18T07:54:34.937Z"
   },
   {
    "duration": 8,
    "start_time": "2023-07-18T07:54:34.950Z"
   },
   {
    "duration": 4,
    "start_time": "2023-07-18T07:54:34.974Z"
   },
   {
    "duration": 7,
    "start_time": "2023-07-18T07:54:34.980Z"
   },
   {
    "duration": 17,
    "start_time": "2023-07-18T07:54:34.989Z"
   },
   {
    "duration": 10,
    "start_time": "2023-07-18T07:54:35.007Z"
   },
   {
    "duration": 18,
    "start_time": "2023-07-18T07:54:35.019Z"
   },
   {
    "duration": 25,
    "start_time": "2023-07-18T07:54:35.039Z"
   },
   {
    "duration": 10,
    "start_time": "2023-07-18T07:54:35.065Z"
   },
   {
    "duration": 24,
    "start_time": "2023-07-18T07:54:35.077Z"
   },
   {
    "duration": 13,
    "start_time": "2023-07-18T07:54:35.103Z"
   },
   {
    "duration": 11,
    "start_time": "2023-07-18T07:54:35.119Z"
   },
   {
    "duration": 122,
    "start_time": "2023-07-18T07:59:23.151Z"
   },
   {
    "duration": 4,
    "start_time": "2023-07-18T08:00:02.491Z"
   },
   {
    "duration": 9,
    "start_time": "2023-07-18T08:00:16.590Z"
   },
   {
    "duration": 22,
    "start_time": "2023-07-18T08:03:06.738Z"
   },
   {
    "duration": 12,
    "start_time": "2023-07-18T08:04:22.167Z"
   },
   {
    "duration": 18,
    "start_time": "2023-07-18T08:05:31.273Z"
   },
   {
    "duration": 1619,
    "start_time": "2023-07-18T08:05:54.863Z"
   },
   {
    "duration": 430,
    "start_time": "2023-07-18T08:05:56.484Z"
   },
   {
    "duration": 14,
    "start_time": "2023-07-18T08:05:56.916Z"
   },
   {
    "duration": 87,
    "start_time": "2023-07-18T08:05:56.932Z"
   },
   {
    "duration": 8,
    "start_time": "2023-07-18T08:05:57.022Z"
   },
   {
    "duration": 52,
    "start_time": "2023-07-18T08:05:57.032Z"
   },
   {
    "duration": 534,
    "start_time": "2023-07-18T08:05:57.087Z"
   },
   {
    "duration": 13,
    "start_time": "2023-07-18T08:05:57.622Z"
   },
   {
    "duration": 345,
    "start_time": "2023-07-18T08:05:57.637Z"
   },
   {
    "duration": 952,
    "start_time": "2023-07-18T08:05:57.985Z"
   },
   {
    "duration": 16,
    "start_time": "2023-07-18T08:05:58.939Z"
   },
   {
    "duration": 76,
    "start_time": "2023-07-18T08:05:58.956Z"
   },
   {
    "duration": 6,
    "start_time": "2023-07-18T08:05:59.033Z"
   },
   {
    "duration": 56,
    "start_time": "2023-07-18T08:05:59.044Z"
   },
   {
    "duration": 509,
    "start_time": "2023-07-18T08:05:59.102Z"
   },
   {
    "duration": 13,
    "start_time": "2023-07-18T08:05:59.612Z"
   },
   {
    "duration": 366,
    "start_time": "2023-07-18T08:05:59.627Z"
   },
   {
    "duration": 887,
    "start_time": "2023-07-18T08:05:59.995Z"
   },
   {
    "duration": 15,
    "start_time": "2023-07-18T08:06:00.884Z"
   },
   {
    "duration": 141,
    "start_time": "2023-07-18T08:06:00.900Z"
   },
   {
    "duration": 7,
    "start_time": "2023-07-18T08:06:01.042Z"
   },
   {
    "duration": 80,
    "start_time": "2023-07-18T08:06:01.050Z"
   },
   {
    "duration": 675,
    "start_time": "2023-07-18T08:06:01.132Z"
   },
   {
    "duration": 11,
    "start_time": "2023-07-18T08:06:01.809Z"
   },
   {
    "duration": 420,
    "start_time": "2023-07-18T08:06:01.822Z"
   },
   {
    "duration": 933,
    "start_time": "2023-07-18T08:06:02.244Z"
   },
   {
    "duration": 12,
    "start_time": "2023-07-18T08:06:03.179Z"
   },
   {
    "duration": 23,
    "start_time": "2023-07-18T08:06:03.193Z"
   },
   {
    "duration": 50,
    "start_time": "2023-07-18T08:06:03.217Z"
   },
   {
    "duration": 34,
    "start_time": "2023-07-18T08:06:03.269Z"
   },
   {
    "duration": 179,
    "start_time": "2023-07-18T08:06:03.309Z"
   },
   {
    "duration": 121,
    "start_time": "2023-07-18T08:06:03.589Z"
   },
   {
    "duration": 299,
    "start_time": "2023-07-18T08:06:03.777Z"
   },
   {
    "duration": 112,
    "start_time": "2023-07-18T08:06:04.078Z"
   },
   {
    "duration": 283,
    "start_time": "2023-07-18T08:06:04.193Z"
   },
   {
    "duration": 118,
    "start_time": "2023-07-18T08:06:04.480Z"
   },
   {
    "duration": 208,
    "start_time": "2023-07-18T08:06:04.604Z"
   },
   {
    "duration": 163,
    "start_time": "2023-07-18T08:06:04.815Z"
   },
   {
    "duration": 198,
    "start_time": "2023-07-18T08:06:04.981Z"
   },
   {
    "duration": 66,
    "start_time": "2023-07-18T08:06:05.181Z"
   },
   {
    "duration": 27,
    "start_time": "2023-07-18T08:06:05.251Z"
   },
   {
    "duration": 55,
    "start_time": "2023-07-18T08:06:05.280Z"
   },
   {
    "duration": 73,
    "start_time": "2023-07-18T08:06:05.338Z"
   },
   {
    "duration": 39,
    "start_time": "2023-07-18T08:06:05.412Z"
   },
   {
    "duration": 84,
    "start_time": "2023-07-18T08:06:05.453Z"
   },
   {
    "duration": 71,
    "start_time": "2023-07-18T08:06:05.539Z"
   },
   {
    "duration": 32,
    "start_time": "2023-07-18T08:06:05.613Z"
   },
   {
    "duration": 40,
    "start_time": "2023-07-18T08:06:05.646Z"
   },
   {
    "duration": 50,
    "start_time": "2023-07-18T08:06:05.688Z"
   },
   {
    "duration": 34,
    "start_time": "2023-07-18T08:06:05.739Z"
   },
   {
    "duration": 74,
    "start_time": "2023-07-18T08:06:05.775Z"
   },
   {
    "duration": 35,
    "start_time": "2023-07-18T08:06:05.851Z"
   },
   {
    "duration": 24,
    "start_time": "2023-07-18T08:06:05.887Z"
   },
   {
    "duration": 45,
    "start_time": "2023-07-18T08:06:05.913Z"
   },
   {
    "duration": 26,
    "start_time": "2023-07-18T08:06:05.959Z"
   },
   {
    "duration": 46,
    "start_time": "2023-07-18T08:06:05.987Z"
   },
   {
    "duration": 173,
    "start_time": "2023-07-18T08:06:06.035Z"
   },
   {
    "duration": 20,
    "start_time": "2023-07-18T08:07:12.905Z"
   },
   {
    "duration": 29,
    "start_time": "2023-07-18T08:10:27.337Z"
   },
   {
    "duration": 3000,
    "start_time": "2023-07-18T08:11:32.775Z"
   },
   {
    "duration": 14,
    "start_time": "2023-07-18T08:11:52.183Z"
   },
   {
    "duration": 14,
    "start_time": "2023-07-18T08:20:51.738Z"
   },
   {
    "duration": 9,
    "start_time": "2023-07-18T08:21:54.255Z"
   },
   {
    "duration": 10,
    "start_time": "2023-07-18T08:22:23.494Z"
   },
   {
    "duration": 4,
    "start_time": "2023-07-18T08:35:22.320Z"
   },
   {
    "duration": 48,
    "start_time": "2023-07-18T09:08:05.957Z"
   },
   {
    "duration": 43,
    "start_time": "2023-07-18T09:10:53.120Z"
   },
   {
    "duration": 5,
    "start_time": "2023-07-18T09:33:32.093Z"
   },
   {
    "duration": 1709,
    "start_time": "2023-07-18T10:16:40.391Z"
   },
   {
    "duration": 373,
    "start_time": "2023-07-18T10:16:42.102Z"
   },
   {
    "duration": 16,
    "start_time": "2023-07-18T10:16:42.477Z"
   },
   {
    "duration": 87,
    "start_time": "2023-07-18T10:16:42.496Z"
   },
   {
    "duration": 11,
    "start_time": "2023-07-18T10:16:42.584Z"
   },
   {
    "duration": 61,
    "start_time": "2023-07-18T10:16:42.597Z"
   },
   {
    "duration": 499,
    "start_time": "2023-07-18T10:16:42.660Z"
   },
   {
    "duration": 20,
    "start_time": "2023-07-18T10:16:43.160Z"
   },
   {
    "duration": 310,
    "start_time": "2023-07-18T10:16:43.182Z"
   },
   {
    "duration": 904,
    "start_time": "2023-07-18T10:16:43.496Z"
   },
   {
    "duration": 15,
    "start_time": "2023-07-18T10:16:44.402Z"
   },
   {
    "duration": 75,
    "start_time": "2023-07-18T10:16:44.419Z"
   },
   {
    "duration": 6,
    "start_time": "2023-07-18T10:16:44.495Z"
   },
   {
    "duration": 51,
    "start_time": "2023-07-18T10:16:44.503Z"
   },
   {
    "duration": 452,
    "start_time": "2023-07-18T10:16:44.556Z"
   },
   {
    "duration": 13,
    "start_time": "2023-07-18T10:16:45.009Z"
   },
   {
    "duration": 341,
    "start_time": "2023-07-18T10:16:45.023Z"
   },
   {
    "duration": 829,
    "start_time": "2023-07-18T10:16:45.365Z"
   },
   {
    "duration": 14,
    "start_time": "2023-07-18T10:16:46.196Z"
   },
   {
    "duration": 86,
    "start_time": "2023-07-18T10:16:46.212Z"
   },
   {
    "duration": 7,
    "start_time": "2023-07-18T10:16:46.300Z"
   },
   {
    "duration": 61,
    "start_time": "2023-07-18T10:16:46.308Z"
   },
   {
    "duration": 640,
    "start_time": "2023-07-18T10:16:46.376Z"
   },
   {
    "duration": 12,
    "start_time": "2023-07-18T10:16:47.017Z"
   },
   {
    "duration": 323,
    "start_time": "2023-07-18T10:16:47.030Z"
   },
   {
    "duration": 849,
    "start_time": "2023-07-18T10:16:47.355Z"
   },
   {
    "duration": 11,
    "start_time": "2023-07-18T10:16:48.205Z"
   },
   {
    "duration": 19,
    "start_time": "2023-07-18T10:16:48.219Z"
   },
   {
    "duration": 18,
    "start_time": "2023-07-18T10:16:48.239Z"
   },
   {
    "duration": 40,
    "start_time": "2023-07-18T10:16:48.258Z"
   },
   {
    "duration": 299,
    "start_time": "2023-07-18T10:16:48.377Z"
   },
   {
    "duration": 103,
    "start_time": "2023-07-18T10:16:48.678Z"
   },
   {
    "duration": 392,
    "start_time": "2023-07-18T10:16:48.783Z"
   },
   {
    "duration": 13,
    "start_time": "2023-07-18T10:16:49.177Z"
   },
   {
    "duration": 203,
    "start_time": "2023-07-18T10:16:49.193Z"
   },
   {
    "duration": 185,
    "start_time": "2023-07-18T10:16:49.398Z"
   },
   {
    "duration": 89,
    "start_time": "2023-07-18T10:16:49.586Z"
   },
   {
    "duration": 93,
    "start_time": "2023-07-18T10:16:49.683Z"
   },
   {
    "duration": 9,
    "start_time": "2023-07-18T10:16:49.781Z"
   },
   {
    "duration": 32,
    "start_time": "2023-07-18T10:16:49.876Z"
   },
   {
    "duration": 31,
    "start_time": "2023-07-18T10:16:49.909Z"
   },
   {
    "duration": 8,
    "start_time": "2023-07-18T10:16:49.942Z"
   },
   {
    "duration": 9,
    "start_time": "2023-07-18T10:16:49.952Z"
   },
   {
    "duration": 25,
    "start_time": "2023-07-18T10:16:49.963Z"
   },
   {
    "duration": 37,
    "start_time": "2023-07-18T10:16:49.991Z"
   },
   {
    "duration": 31,
    "start_time": "2023-07-18T10:16:50.031Z"
   },
   {
    "duration": 10,
    "start_time": "2023-07-18T10:16:50.065Z"
   },
   {
    "duration": 10,
    "start_time": "2023-07-18T10:16:50.077Z"
   },
   {
    "duration": 21,
    "start_time": "2023-07-18T10:16:50.089Z"
   },
   {
    "duration": 13,
    "start_time": "2023-07-18T10:16:50.112Z"
   },
   {
    "duration": 30,
    "start_time": "2023-07-18T10:16:50.126Z"
   },
   {
    "duration": 10,
    "start_time": "2023-07-18T10:16:50.158Z"
   },
   {
    "duration": 14,
    "start_time": "2023-07-18T10:16:50.170Z"
   },
   {
    "duration": 12,
    "start_time": "2023-07-18T10:16:50.185Z"
   },
   {
    "duration": 24,
    "start_time": "2023-07-18T10:16:50.198Z"
   },
   {
    "duration": 12,
    "start_time": "2023-07-18T10:16:50.223Z"
   },
   {
    "duration": 2779,
    "start_time": "2023-07-18T10:16:50.237Z"
   },
   {
    "duration": 9,
    "start_time": "2023-07-18T10:16:53.017Z"
   },
   {
    "duration": 1509,
    "start_time": "2023-07-18T10:17:13.861Z"
   },
   {
    "duration": 366,
    "start_time": "2023-07-18T10:17:15.372Z"
   },
   {
    "duration": 13,
    "start_time": "2023-07-18T10:17:15.740Z"
   },
   {
    "duration": 76,
    "start_time": "2023-07-18T10:17:15.756Z"
   },
   {
    "duration": 7,
    "start_time": "2023-07-18T10:17:15.834Z"
   },
   {
    "duration": 44,
    "start_time": "2023-07-18T10:17:15.843Z"
   },
   {
    "duration": 523,
    "start_time": "2023-07-18T10:17:15.889Z"
   },
   {
    "duration": 15,
    "start_time": "2023-07-18T10:17:16.414Z"
   },
   {
    "duration": 370,
    "start_time": "2023-07-18T10:17:16.431Z"
   },
   {
    "duration": 938,
    "start_time": "2023-07-18T10:17:16.805Z"
   },
   {
    "duration": 32,
    "start_time": "2023-07-18T10:17:17.744Z"
   },
   {
    "duration": 64,
    "start_time": "2023-07-18T10:17:17.778Z"
   },
   {
    "duration": 7,
    "start_time": "2023-07-18T10:17:17.844Z"
   },
   {
    "duration": 54,
    "start_time": "2023-07-18T10:17:17.852Z"
   },
   {
    "duration": 467,
    "start_time": "2023-07-18T10:17:17.908Z"
   },
   {
    "duration": 11,
    "start_time": "2023-07-18T10:17:18.376Z"
   },
   {
    "duration": 297,
    "start_time": "2023-07-18T10:17:18.388Z"
   },
   {
    "duration": 807,
    "start_time": "2023-07-18T10:17:18.687Z"
   },
   {
    "duration": 13,
    "start_time": "2023-07-18T10:17:19.495Z"
   },
   {
    "duration": 77,
    "start_time": "2023-07-18T10:17:19.510Z"
   },
   {
    "duration": 5,
    "start_time": "2023-07-18T10:17:19.589Z"
   },
   {
    "duration": 49,
    "start_time": "2023-07-18T10:17:19.596Z"
   },
   {
    "duration": 556,
    "start_time": "2023-07-18T10:17:19.646Z"
   },
   {
    "duration": 11,
    "start_time": "2023-07-18T10:17:20.203Z"
   },
   {
    "duration": 311,
    "start_time": "2023-07-18T10:17:20.216Z"
   },
   {
    "duration": 848,
    "start_time": "2023-07-18T10:17:20.529Z"
   },
   {
    "duration": 12,
    "start_time": "2023-07-18T10:17:21.379Z"
   },
   {
    "duration": 23,
    "start_time": "2023-07-18T10:17:21.394Z"
   },
   {
    "duration": 27,
    "start_time": "2023-07-18T10:17:21.419Z"
   },
   {
    "duration": 28,
    "start_time": "2023-07-18T10:17:21.448Z"
   },
   {
    "duration": 398,
    "start_time": "2023-07-18T10:17:21.478Z"
   },
   {
    "duration": 21,
    "start_time": "2023-07-18T10:17:21.879Z"
   },
   {
    "duration": 298,
    "start_time": "2023-07-18T10:17:21.977Z"
   },
   {
    "duration": 45,
    "start_time": "2023-07-18T10:17:22.277Z"
   },
   {
    "duration": 162,
    "start_time": "2023-07-18T10:17:22.324Z"
   },
   {
    "duration": 123,
    "start_time": "2023-07-18T10:17:22.578Z"
   },
   {
    "duration": 185,
    "start_time": "2023-07-18T10:17:22.704Z"
   },
   {
    "duration": 89,
    "start_time": "2023-07-18T10:17:22.891Z"
   },
   {
    "duration": 194,
    "start_time": "2023-07-18T10:17:22.986Z"
   },
   {
    "duration": 51,
    "start_time": "2023-07-18T10:17:23.182Z"
   },
   {
    "duration": 50,
    "start_time": "2023-07-18T10:17:23.235Z"
   },
   {
    "duration": 34,
    "start_time": "2023-07-18T10:17:23.287Z"
   },
   {
    "duration": 13,
    "start_time": "2023-07-18T10:17:23.322Z"
   },
   {
    "duration": 29,
    "start_time": "2023-07-18T10:17:23.337Z"
   },
   {
    "duration": 65,
    "start_time": "2023-07-18T10:17:23.368Z"
   },
   {
    "duration": 24,
    "start_time": "2023-07-18T10:17:23.436Z"
   },
   {
    "duration": 37,
    "start_time": "2023-07-18T10:17:23.462Z"
   },
   {
    "duration": 17,
    "start_time": "2023-07-18T10:17:23.502Z"
   },
   {
    "duration": 12,
    "start_time": "2023-07-18T10:17:23.521Z"
   },
   {
    "duration": 48,
    "start_time": "2023-07-18T10:17:23.535Z"
   },
   {
    "duration": 41,
    "start_time": "2023-07-18T10:17:23.585Z"
   },
   {
    "duration": 25,
    "start_time": "2023-07-18T10:17:23.628Z"
   },
   {
    "duration": 42,
    "start_time": "2023-07-18T10:17:23.655Z"
   },
   {
    "duration": 18,
    "start_time": "2023-07-18T10:17:23.700Z"
   },
   {
    "duration": 26,
    "start_time": "2023-07-18T10:17:23.720Z"
   },
   {
    "duration": 46,
    "start_time": "2023-07-18T10:17:23.749Z"
   },
   {
    "duration": 3106,
    "start_time": "2023-07-18T10:17:23.797Z"
   },
   {
    "duration": 10,
    "start_time": "2023-07-18T10:17:26.905Z"
   },
   {
    "duration": 1725,
    "start_time": "2023-07-19T09:24:34.045Z"
   },
   {
    "duration": 1638,
    "start_time": "2023-07-19T09:24:35.772Z"
   },
   {
    "duration": 17,
    "start_time": "2023-07-19T09:24:37.412Z"
   },
   {
    "duration": 99,
    "start_time": "2023-07-19T09:24:37.431Z"
   },
   {
    "duration": 8,
    "start_time": "2023-07-19T09:24:37.531Z"
   },
   {
    "duration": 53,
    "start_time": "2023-07-19T09:24:37.541Z"
   },
   {
    "duration": 478,
    "start_time": "2023-07-19T09:24:37.596Z"
   },
   {
    "duration": 12,
    "start_time": "2023-07-19T09:24:38.076Z"
   },
   {
    "duration": 331,
    "start_time": "2023-07-19T09:24:38.089Z"
   },
   {
    "duration": 986,
    "start_time": "2023-07-19T09:24:38.423Z"
   },
   {
    "duration": 16,
    "start_time": "2023-07-19T09:24:39.411Z"
   },
   {
    "duration": 57,
    "start_time": "2023-07-19T09:24:39.429Z"
   },
   {
    "duration": 8,
    "start_time": "2023-07-19T09:24:39.506Z"
   },
   {
    "duration": 50,
    "start_time": "2023-07-19T09:24:39.515Z"
   },
   {
    "duration": 468,
    "start_time": "2023-07-19T09:24:39.567Z"
   },
   {
    "duration": 12,
    "start_time": "2023-07-19T09:24:40.037Z"
   },
   {
    "duration": 338,
    "start_time": "2023-07-19T09:24:40.051Z"
   },
   {
    "duration": 802,
    "start_time": "2023-07-19T09:24:40.391Z"
   },
   {
    "duration": 21,
    "start_time": "2023-07-19T09:24:41.194Z"
   },
   {
    "duration": 64,
    "start_time": "2023-07-19T09:24:41.217Z"
   },
   {
    "duration": 6,
    "start_time": "2023-07-19T09:24:41.283Z"
   },
   {
    "duration": 61,
    "start_time": "2023-07-19T09:24:41.291Z"
   },
   {
    "duration": 563,
    "start_time": "2023-07-19T09:24:41.355Z"
   },
   {
    "duration": 15,
    "start_time": "2023-07-19T09:24:41.920Z"
   },
   {
    "duration": 269,
    "start_time": "2023-07-19T09:24:41.937Z"
   },
   {
    "duration": 890,
    "start_time": "2023-07-19T09:24:42.208Z"
   },
   {
    "duration": 17,
    "start_time": "2023-07-19T09:24:43.100Z"
   },
   {
    "duration": 35,
    "start_time": "2023-07-19T09:24:43.122Z"
   },
   {
    "duration": 33,
    "start_time": "2023-07-19T09:24:43.160Z"
   },
   {
    "duration": 20,
    "start_time": "2023-07-19T09:24:43.194Z"
   },
   {
    "duration": 207,
    "start_time": "2023-07-19T09:24:43.216Z"
   },
   {
    "duration": 102,
    "start_time": "2023-07-19T09:24:43.506Z"
   },
   {
    "duration": 399,
    "start_time": "2023-07-19T09:24:43.610Z"
   },
   {
    "duration": 194,
    "start_time": "2023-07-19T09:24:44.015Z"
   },
   {
    "duration": 397,
    "start_time": "2023-07-19T09:24:44.211Z"
   },
   {
    "duration": 17,
    "start_time": "2023-07-19T09:24:44.613Z"
   },
   {
    "duration": 10,
    "start_time": "2023-07-19T09:24:44.707Z"
   },
   {
    "duration": 93,
    "start_time": "2023-07-19T09:24:44.721Z"
   },
   {
    "duration": 96,
    "start_time": "2023-07-19T09:24:44.818Z"
   },
   {
    "duration": 90,
    "start_time": "2023-07-19T09:24:44.918Z"
   },
   {
    "duration": 75,
    "start_time": "2023-07-19T09:24:45.010Z"
   },
   {
    "duration": 15,
    "start_time": "2023-07-19T09:24:45.087Z"
   },
   {
    "duration": 26,
    "start_time": "2023-07-19T09:24:45.104Z"
   },
   {
    "duration": 11,
    "start_time": "2023-07-19T09:24:45.132Z"
   },
   {
    "duration": 21,
    "start_time": "2023-07-19T09:24:45.145Z"
   },
   {
    "duration": 22,
    "start_time": "2023-07-19T09:24:45.168Z"
   },
   {
    "duration": 4,
    "start_time": "2023-07-19T09:24:45.192Z"
   },
   {
    "duration": 21,
    "start_time": "2023-07-19T09:24:45.198Z"
   },
   {
    "duration": 5,
    "start_time": "2023-07-19T09:24:45.220Z"
   },
   {
    "duration": 14,
    "start_time": "2023-07-19T09:24:45.227Z"
   },
   {
    "duration": 8,
    "start_time": "2023-07-19T09:24:45.242Z"
   },
   {
    "duration": 9,
    "start_time": "2023-07-19T09:24:45.252Z"
   },
   {
    "duration": 8,
    "start_time": "2023-07-19T09:24:45.262Z"
   },
   {
    "duration": 6,
    "start_time": "2023-07-19T09:24:45.271Z"
   },
   {
    "duration": 6,
    "start_time": "2023-07-19T09:24:45.279Z"
   },
   {
    "duration": 10,
    "start_time": "2023-07-19T09:24:45.286Z"
   },
   {
    "duration": 4446,
    "start_time": "2023-07-19T09:24:45.306Z"
   },
   {
    "duration": 12,
    "start_time": "2023-07-19T09:24:49.754Z"
   },
   {
    "duration": 4,
    "start_time": "2023-07-19T09:26:12.194Z"
   },
   {
    "duration": 4,
    "start_time": "2023-07-19T09:26:28.114Z"
   },
   {
    "duration": 3,
    "start_time": "2023-07-19T09:28:59.770Z"
   },
   {
    "duration": 1506,
    "start_time": "2023-07-19T09:36:53.593Z"
   },
   {
    "duration": 334,
    "start_time": "2023-07-19T09:36:55.100Z"
   },
   {
    "duration": 12,
    "start_time": "2023-07-19T09:36:55.435Z"
   },
   {
    "duration": 76,
    "start_time": "2023-07-19T09:36:55.449Z"
   },
   {
    "duration": 7,
    "start_time": "2023-07-19T09:36:55.527Z"
   },
   {
    "duration": 36,
    "start_time": "2023-07-19T09:36:55.535Z"
   },
   {
    "duration": 450,
    "start_time": "2023-07-19T09:36:55.572Z"
   },
   {
    "duration": 11,
    "start_time": "2023-07-19T09:36:56.023Z"
   },
   {
    "duration": 277,
    "start_time": "2023-07-19T09:36:56.036Z"
   },
   {
    "duration": 882,
    "start_time": "2023-07-19T09:36:56.315Z"
   },
   {
    "duration": 16,
    "start_time": "2023-07-19T09:36:57.199Z"
   },
   {
    "duration": 64,
    "start_time": "2023-07-19T09:36:57.216Z"
   },
   {
    "duration": 5,
    "start_time": "2023-07-19T09:36:57.282Z"
   },
   {
    "duration": 34,
    "start_time": "2023-07-19T09:36:57.289Z"
   },
   {
    "duration": 407,
    "start_time": "2023-07-19T09:36:57.325Z"
   },
   {
    "duration": 12,
    "start_time": "2023-07-19T09:36:57.734Z"
   },
   {
    "duration": 240,
    "start_time": "2023-07-19T09:36:57.747Z"
   },
   {
    "duration": 757,
    "start_time": "2023-07-19T09:36:57.988Z"
   },
   {
    "duration": 11,
    "start_time": "2023-07-19T09:36:58.747Z"
   },
   {
    "duration": 65,
    "start_time": "2023-07-19T09:36:58.760Z"
   },
   {
    "duration": 5,
    "start_time": "2023-07-19T09:36:58.826Z"
   },
   {
    "duration": 37,
    "start_time": "2023-07-19T09:36:58.833Z"
   },
   {
    "duration": 511,
    "start_time": "2023-07-19T09:36:58.871Z"
   },
   {
    "duration": 10,
    "start_time": "2023-07-19T09:36:59.383Z"
   },
   {
    "duration": 281,
    "start_time": "2023-07-19T09:36:59.395Z"
   },
   {
    "duration": 779,
    "start_time": "2023-07-19T09:36:59.678Z"
   },
   {
    "duration": 12,
    "start_time": "2023-07-19T09:37:00.458Z"
   },
   {
    "duration": 28,
    "start_time": "2023-07-19T09:37:00.473Z"
   },
   {
    "duration": 41,
    "start_time": "2023-07-19T09:37:00.503Z"
   },
   {
    "duration": 31,
    "start_time": "2023-07-19T09:37:00.546Z"
   },
   {
    "duration": 137,
    "start_time": "2023-07-19T09:37:00.579Z"
   },
   {
    "duration": 213,
    "start_time": "2023-07-19T09:37:00.717Z"
   },
   {
    "duration": 187,
    "start_time": "2023-07-19T09:37:00.933Z"
   },
   {
    "duration": 105,
    "start_time": "2023-07-19T09:37:01.211Z"
   },
   {
    "duration": 194,
    "start_time": "2023-07-19T09:37:01.321Z"
   },
   {
    "duration": 191,
    "start_time": "2023-07-19T09:37:01.518Z"
   },
   {
    "duration": 97,
    "start_time": "2023-07-19T09:37:01.711Z"
   },
   {
    "duration": 210,
    "start_time": "2023-07-19T09:37:01.811Z"
   },
   {
    "duration": 183,
    "start_time": "2023-07-19T09:37:02.023Z"
   },
   {
    "duration": 30,
    "start_time": "2023-07-19T09:37:02.208Z"
   },
   {
    "duration": 23,
    "start_time": "2023-07-19T09:37:02.240Z"
   },
   {
    "duration": 24,
    "start_time": "2023-07-19T09:37:02.265Z"
   },
   {
    "duration": 38,
    "start_time": "2023-07-19T09:37:02.290Z"
   },
   {
    "duration": 65,
    "start_time": "2023-07-19T09:37:02.330Z"
   },
   {
    "duration": 136,
    "start_time": "2023-07-19T09:37:02.397Z"
   },
   {
    "duration": 35,
    "start_time": "2023-07-19T09:37:02.534Z"
   },
   {
    "duration": 58,
    "start_time": "2023-07-19T09:37:02.571Z"
   },
   {
    "duration": 26,
    "start_time": "2023-07-19T09:37:02.630Z"
   },
   {
    "duration": 28,
    "start_time": "2023-07-19T09:37:02.658Z"
   },
   {
    "duration": 37,
    "start_time": "2023-07-19T09:37:02.687Z"
   },
   {
    "duration": 62,
    "start_time": "2023-07-19T09:37:02.725Z"
   },
   {
    "duration": 69,
    "start_time": "2023-07-19T09:37:02.789Z"
   },
   {
    "duration": 20,
    "start_time": "2023-07-19T09:37:02.859Z"
   },
   {
    "duration": 33,
    "start_time": "2023-07-19T09:37:02.880Z"
   },
   {
    "duration": 28,
    "start_time": "2023-07-19T09:37:02.914Z"
   },
   {
    "duration": 30,
    "start_time": "2023-07-19T09:37:02.943Z"
   },
   {
    "duration": 3587,
    "start_time": "2023-07-19T09:37:02.974Z"
   },
   {
    "duration": 8,
    "start_time": "2023-07-19T09:37:06.562Z"
   },
   {
    "duration": 70,
    "start_time": "2023-07-19T12:02:27.692Z"
   },
   {
    "duration": 1876,
    "start_time": "2023-07-19T12:05:13.403Z"
   },
   {
    "duration": 848,
    "start_time": "2023-07-19T12:05:15.281Z"
   },
   {
    "duration": 15,
    "start_time": "2023-07-19T12:05:16.131Z"
   },
   {
    "duration": 85,
    "start_time": "2023-07-19T12:05:16.148Z"
   },
   {
    "duration": 84,
    "start_time": "2023-07-19T12:05:16.235Z"
   },
   {
    "duration": 10,
    "start_time": "2023-07-19T12:05:16.321Z"
   },
   {
    "duration": 64,
    "start_time": "2023-07-19T12:05:16.333Z"
   },
   {
    "duration": 560,
    "start_time": "2023-07-19T12:05:16.399Z"
   },
   {
    "duration": 25,
    "start_time": "2023-07-19T12:05:16.960Z"
   },
   {
    "duration": 395,
    "start_time": "2023-07-19T12:05:16.992Z"
   },
   {
    "duration": 1004,
    "start_time": "2023-07-19T12:05:17.392Z"
   },
   {
    "duration": 14,
    "start_time": "2023-07-19T12:05:18.397Z"
   },
   {
    "duration": 71,
    "start_time": "2023-07-19T12:05:18.413Z"
   },
   {
    "duration": 7,
    "start_time": "2023-07-19T12:05:18.486Z"
   },
   {
    "duration": 52,
    "start_time": "2023-07-19T12:05:18.494Z"
   },
   {
    "duration": 509,
    "start_time": "2023-07-19T12:05:18.548Z"
   },
   {
    "duration": 20,
    "start_time": "2023-07-19T12:05:19.058Z"
   },
   {
    "duration": 319,
    "start_time": "2023-07-19T12:05:19.080Z"
   },
   {
    "duration": 920,
    "start_time": "2023-07-19T12:05:19.401Z"
   },
   {
    "duration": 15,
    "start_time": "2023-07-19T12:05:20.323Z"
   },
   {
    "duration": 85,
    "start_time": "2023-07-19T12:05:20.340Z"
   },
   {
    "duration": 6,
    "start_time": "2023-07-19T12:05:20.426Z"
   },
   {
    "duration": 64,
    "start_time": "2023-07-19T12:05:20.434Z"
   },
   {
    "duration": 631,
    "start_time": "2023-07-19T12:05:20.499Z"
   },
   {
    "duration": 18,
    "start_time": "2023-07-19T12:05:21.132Z"
   },
   {
    "duration": 344,
    "start_time": "2023-07-19T12:05:21.152Z"
   },
   {
    "duration": 945,
    "start_time": "2023-07-19T12:05:21.497Z"
   },
   {
    "duration": 13,
    "start_time": "2023-07-19T12:05:22.446Z"
   },
   {
    "duration": 23,
    "start_time": "2023-07-19T12:05:22.475Z"
   },
   {
    "duration": 24,
    "start_time": "2023-07-19T12:05:22.500Z"
   },
   {
    "duration": 57,
    "start_time": "2023-07-19T12:05:22.526Z"
   },
   {
    "duration": 207,
    "start_time": "2023-07-19T12:05:22.584Z"
   },
   {
    "duration": 195,
    "start_time": "2023-07-19T12:05:22.795Z"
   },
   {
    "duration": 306,
    "start_time": "2023-07-19T12:05:22.991Z"
   },
   {
    "duration": 19,
    "start_time": "2023-07-19T12:05:23.379Z"
   },
   {
    "duration": 293,
    "start_time": "2023-07-19T12:05:23.401Z"
   },
   {
    "duration": 112,
    "start_time": "2023-07-19T12:05:23.697Z"
   },
   {
    "duration": 71,
    "start_time": "2023-07-19T12:05:23.811Z"
   },
   {
    "duration": 214,
    "start_time": "2023-07-19T12:05:23.884Z"
   },
   {
    "duration": 203,
    "start_time": "2023-07-19T12:05:24.117Z"
   },
   {
    "duration": 67,
    "start_time": "2023-07-19T12:05:24.322Z"
   },
   {
    "duration": 25,
    "start_time": "2023-07-19T12:05:24.391Z"
   },
   {
    "duration": 39,
    "start_time": "2023-07-19T12:05:24.418Z"
   },
   {
    "duration": 43,
    "start_time": "2023-07-19T12:05:24.458Z"
   },
   {
    "duration": 24,
    "start_time": "2023-07-19T12:05:24.503Z"
   },
   {
    "duration": 39,
    "start_time": "2023-07-19T12:05:24.529Z"
   },
   {
    "duration": 37,
    "start_time": "2023-07-19T12:05:24.570Z"
   },
   {
    "duration": 17,
    "start_time": "2023-07-19T12:05:24.609Z"
   },
   {
    "duration": 28,
    "start_time": "2023-07-19T12:05:24.628Z"
   },
   {
    "duration": 31,
    "start_time": "2023-07-19T12:05:24.658Z"
   },
   {
    "duration": 23,
    "start_time": "2023-07-19T12:05:24.691Z"
   },
   {
    "duration": 39,
    "start_time": "2023-07-19T12:05:24.716Z"
   },
   {
    "duration": 35,
    "start_time": "2023-07-19T12:05:24.756Z"
   },
   {
    "duration": 19,
    "start_time": "2023-07-19T12:05:24.793Z"
   },
   {
    "duration": 26,
    "start_time": "2023-07-19T12:05:24.814Z"
   },
   {
    "duration": 24,
    "start_time": "2023-07-19T12:05:24.842Z"
   },
   {
    "duration": 22,
    "start_time": "2023-07-19T12:05:24.868Z"
   },
   {
    "duration": 3119,
    "start_time": "2023-07-19T12:05:24.892Z"
   },
   {
    "duration": 10,
    "start_time": "2023-07-19T12:05:28.012Z"
   },
   {
    "duration": 124,
    "start_time": "2023-07-19T12:07:12.988Z"
   },
   {
    "duration": 1647,
    "start_time": "2023-07-19T12:07:45.212Z"
   },
   {
    "duration": 455,
    "start_time": "2023-07-19T12:07:46.861Z"
   },
   {
    "duration": 19,
    "start_time": "2023-07-19T12:07:47.318Z"
   },
   {
    "duration": 188,
    "start_time": "2023-07-19T12:07:47.339Z"
   },
   {
    "duration": 78,
    "start_time": "2023-07-19T12:07:47.530Z"
   },
   {
    "duration": 31,
    "start_time": "2023-07-19T12:07:52.973Z"
   },
   {
    "duration": 20,
    "start_time": "2023-07-19T12:08:10.653Z"
   },
   {
    "duration": 686,
    "start_time": "2023-07-19T12:23:29.228Z"
   },
   {
    "duration": 1515,
    "start_time": "2023-07-19T12:24:21.308Z"
   },
   {
    "duration": 417,
    "start_time": "2023-07-19T12:24:22.825Z"
   },
   {
    "duration": 17,
    "start_time": "2023-07-19T12:24:23.244Z"
   },
   {
    "duration": 88,
    "start_time": "2023-07-19T12:24:23.263Z"
   },
   {
    "duration": 76,
    "start_time": "2023-07-19T12:24:23.353Z"
   },
   {
    "duration": 22,
    "start_time": "2023-07-19T12:24:23.431Z"
   },
   {
    "duration": 7,
    "start_time": "2023-07-19T12:24:23.454Z"
   },
   {
    "duration": 60,
    "start_time": "2023-07-19T12:24:23.475Z"
   },
   {
    "duration": 572,
    "start_time": "2023-07-19T12:24:23.537Z"
   },
   {
    "duration": 713,
    "start_time": "2023-07-19T12:24:24.111Z"
   },
   {
    "duration": 817,
    "start_time": "2023-07-19T12:24:34.330Z"
   },
   {
    "duration": 1003,
    "start_time": "2023-07-19T12:24:54.232Z"
   },
   {
    "duration": 1002,
    "start_time": "2023-07-19T12:25:14.588Z"
   },
   {
    "duration": 1510,
    "start_time": "2023-07-19T12:31:38.598Z"
   },
   {
    "duration": 420,
    "start_time": "2023-07-19T12:31:40.110Z"
   },
   {
    "duration": 15,
    "start_time": "2023-07-19T12:31:40.531Z"
   },
   {
    "duration": 97,
    "start_time": "2023-07-19T12:31:40.548Z"
   },
   {
    "duration": 94,
    "start_time": "2023-07-19T12:31:40.647Z"
   },
   {
    "duration": 40,
    "start_time": "2023-07-19T12:31:40.743Z"
   },
   {
    "duration": 8,
    "start_time": "2023-07-19T12:31:40.794Z"
   },
   {
    "duration": 58,
    "start_time": "2023-07-19T12:31:40.804Z"
   },
   {
    "duration": 581,
    "start_time": "2023-07-19T12:31:40.863Z"
   },
   {
    "duration": 1067,
    "start_time": "2023-07-19T12:31:41.447Z"
   },
   {
    "duration": 13,
    "start_time": "2023-07-19T12:31:42.516Z"
   },
   {
    "duration": 381,
    "start_time": "2023-07-19T12:31:42.531Z"
   },
   {
    "duration": 942,
    "start_time": "2023-07-19T12:31:42.914Z"
   },
   {
    "duration": 23,
    "start_time": "2023-07-19T12:31:43.859Z"
   },
   {
    "duration": 127,
    "start_time": "2023-07-19T12:31:43.889Z"
   },
   {
    "duration": 23,
    "start_time": "2023-07-19T12:31:47.946Z"
   },
   {
    "duration": 26,
    "start_time": "2023-07-19T12:32:28.257Z"
   },
   {
    "duration": 43,
    "start_time": "2023-07-19T12:32:37.196Z"
   },
   {
    "duration": 3,
    "start_time": "2023-07-19T12:33:53.244Z"
   },
   {
    "duration": 4,
    "start_time": "2023-07-19T12:34:10.892Z"
   },
   {
    "duration": 468,
    "start_time": "2023-07-19T12:34:10.898Z"
   },
   {
    "duration": 26,
    "start_time": "2023-07-19T12:34:11.368Z"
   },
   {
    "duration": 105,
    "start_time": "2023-07-19T12:34:11.397Z"
   },
   {
    "duration": 74,
    "start_time": "2023-07-19T12:34:11.504Z"
   },
   {
    "duration": 31,
    "start_time": "2023-07-19T12:34:11.582Z"
   },
   {
    "duration": 26,
    "start_time": "2023-07-19T12:34:11.615Z"
   },
   {
    "duration": 91,
    "start_time": "2023-07-19T12:34:11.643Z"
   },
   {
    "duration": 10,
    "start_time": "2023-07-19T12:34:11.737Z"
   },
   {
    "duration": 1007,
    "start_time": "2023-07-19T12:34:11.749Z"
   },
   {
    "duration": 17,
    "start_time": "2023-07-19T12:34:12.758Z"
   },
   {
    "duration": 328,
    "start_time": "2023-07-19T12:34:12.776Z"
   },
   {
    "duration": 916,
    "start_time": "2023-07-19T12:34:13.106Z"
   },
   {
    "duration": 14,
    "start_time": "2023-07-19T12:34:14.024Z"
   },
   {
    "duration": 83,
    "start_time": "2023-07-19T12:34:14.040Z"
   },
   {
    "duration": 18,
    "start_time": "2023-07-19T12:34:14.125Z"
   },
   {
    "duration": 32,
    "start_time": "2023-07-19T12:34:14.144Z"
   },
   {
    "duration": 9,
    "start_time": "2023-07-19T12:34:14.181Z"
   },
   {
    "duration": 45,
    "start_time": "2023-07-19T12:34:14.193Z"
   },
   {
    "duration": 2,
    "start_time": "2023-07-19T12:34:17.898Z"
   },
   {
    "duration": 969,
    "start_time": "2023-07-19T12:34:31.857Z"
   },
   {
    "duration": 1190,
    "start_time": "2023-07-19T12:34:41.800Z"
   },
   {
    "duration": 26,
    "start_time": "2023-07-19T12:37:47.394Z"
   },
   {
    "duration": 1647,
    "start_time": "2023-07-20T03:44:14.525Z"
   },
   {
    "duration": 734,
    "start_time": "2023-07-20T03:44:16.174Z"
   },
   {
    "duration": 13,
    "start_time": "2023-07-20T03:44:16.910Z"
   },
   {
    "duration": 70,
    "start_time": "2023-07-20T03:44:16.925Z"
   },
   {
    "duration": 69,
    "start_time": "2023-07-20T03:44:16.997Z"
   },
   {
    "duration": 22,
    "start_time": "2023-07-20T03:44:17.068Z"
   },
   {
    "duration": 10,
    "start_time": "2023-07-20T03:44:17.091Z"
   },
   {
    "duration": 51,
    "start_time": "2023-07-20T03:44:17.102Z"
   },
   {
    "duration": 3,
    "start_time": "2023-07-20T03:44:17.155Z"
   },
   {
    "duration": 883,
    "start_time": "2023-07-20T03:44:17.161Z"
   },
   {
    "duration": 14,
    "start_time": "2023-07-20T03:44:18.046Z"
   },
   {
    "duration": 391,
    "start_time": "2023-07-20T03:44:18.061Z"
   },
   {
    "duration": 887,
    "start_time": "2023-07-20T03:44:18.454Z"
   },
   {
    "duration": 26,
    "start_time": "2023-07-20T03:44:19.344Z"
   },
   {
    "duration": 62,
    "start_time": "2023-07-20T03:44:19.374Z"
   },
   {
    "duration": 34,
    "start_time": "2023-07-20T03:44:19.438Z"
   },
   {
    "duration": 27,
    "start_time": "2023-07-20T03:44:19.474Z"
   },
   {
    "duration": 7,
    "start_time": "2023-07-20T03:44:19.503Z"
   },
   {
    "duration": 63,
    "start_time": "2023-07-20T03:44:19.512Z"
   },
   {
    "duration": 3,
    "start_time": "2023-07-20T03:44:19.577Z"
   },
   {
    "duration": 1139,
    "start_time": "2023-07-20T03:44:19.581Z"
   },
   {
    "duration": 13,
    "start_time": "2023-07-20T03:44:20.722Z"
   },
   {
    "duration": 332,
    "start_time": "2023-07-20T03:44:20.737Z"
   },
   {
    "duration": 849,
    "start_time": "2023-07-20T03:44:21.070Z"
   },
   {
    "duration": 13,
    "start_time": "2023-07-20T03:44:21.920Z"
   },
   {
    "duration": 70,
    "start_time": "2023-07-20T03:44:21.935Z"
   },
   {
    "duration": 20,
    "start_time": "2023-07-20T03:44:22.007Z"
   },
   {
    "duration": 1750,
    "start_time": "2023-07-20T09:48:06.552Z"
   },
   {
    "duration": 1650,
    "start_time": "2023-07-20T09:48:08.304Z"
   },
   {
    "duration": 16,
    "start_time": "2023-07-20T09:48:09.956Z"
   },
   {
    "duration": 116,
    "start_time": "2023-07-20T09:48:09.975Z"
   },
   {
    "duration": 87,
    "start_time": "2023-07-20T09:48:10.093Z"
   },
   {
    "duration": 92,
    "start_time": "2023-07-20T09:48:10.182Z"
   },
   {
    "duration": 168,
    "start_time": "2023-07-20T09:48:10.276Z"
   },
   {
    "duration": 56,
    "start_time": "2023-07-20T09:48:10.446Z"
   },
   {
    "duration": 2,
    "start_time": "2023-07-20T09:48:10.504Z"
   },
   {
    "duration": 992,
    "start_time": "2023-07-20T09:48:10.508Z"
   },
   {
    "duration": 14,
    "start_time": "2023-07-20T09:48:11.502Z"
   },
   {
    "duration": 398,
    "start_time": "2023-07-20T09:48:11.518Z"
   },
   {
    "duration": 946,
    "start_time": "2023-07-20T09:48:11.918Z"
   },
   {
    "duration": 16,
    "start_time": "2023-07-20T09:48:12.867Z"
   },
   {
    "duration": 84,
    "start_time": "2023-07-20T09:48:12.884Z"
   },
   {
    "duration": 26,
    "start_time": "2023-07-20T09:48:12.970Z"
   },
   {
    "duration": 49,
    "start_time": "2023-07-20T09:48:12.998Z"
   },
   {
    "duration": 19,
    "start_time": "2023-07-20T09:48:13.048Z"
   },
   {
    "duration": 43,
    "start_time": "2023-07-20T09:48:13.069Z"
   },
   {
    "duration": 3,
    "start_time": "2023-07-20T09:48:13.115Z"
   },
   {
    "duration": 1058,
    "start_time": "2023-07-20T09:48:13.120Z"
   },
   {
    "duration": 13,
    "start_time": "2023-07-20T09:48:14.179Z"
   },
   {
    "duration": 481,
    "start_time": "2023-07-20T09:48:14.194Z"
   },
   {
    "duration": 916,
    "start_time": "2023-07-20T09:48:14.677Z"
   },
   {
    "duration": 15,
    "start_time": "2023-07-20T09:48:15.594Z"
   },
   {
    "duration": 93,
    "start_time": "2023-07-20T09:48:15.611Z"
   },
   {
    "duration": 24,
    "start_time": "2023-07-20T09:48:15.705Z"
   },
   {
    "duration": 35,
    "start_time": "2023-07-20T09:49:03.953Z"
   },
   {
    "duration": 24,
    "start_time": "2023-07-20T09:49:10.443Z"
   },
   {
    "duration": 1019,
    "start_time": "2023-07-20T09:53:01.162Z"
   },
   {
    "duration": 3,
    "start_time": "2023-07-20T09:53:14.205Z"
   },
   {
    "duration": 430,
    "start_time": "2023-07-20T09:53:14.213Z"
   },
   {
    "duration": 22,
    "start_time": "2023-07-20T09:53:14.645Z"
   },
   {
    "duration": 123,
    "start_time": "2023-07-20T09:53:14.669Z"
   },
   {
    "duration": 84,
    "start_time": "2023-07-20T09:53:14.795Z"
   },
   {
    "duration": 29,
    "start_time": "2023-07-20T09:53:14.880Z"
   },
   {
    "duration": 6,
    "start_time": "2023-07-20T09:53:14.911Z"
   },
   {
    "duration": 63,
    "start_time": "2023-07-20T09:53:14.918Z"
   },
   {
    "duration": 3,
    "start_time": "2023-07-20T09:53:14.983Z"
   },
   {
    "duration": 1085,
    "start_time": "2023-07-20T09:53:14.987Z"
   },
   {
    "duration": 13,
    "start_time": "2023-07-20T09:53:16.076Z"
   },
   {
    "duration": 332,
    "start_time": "2023-07-20T09:53:16.091Z"
   },
   {
    "duration": 1024,
    "start_time": "2023-07-20T09:53:16.424Z"
   },
   {
    "duration": 28,
    "start_time": "2023-07-20T09:53:17.450Z"
   },
   {
    "duration": 80,
    "start_time": "2023-07-20T09:53:17.481Z"
   },
   {
    "duration": 26,
    "start_time": "2023-07-20T09:53:17.567Z"
   },
   {
    "duration": 30,
    "start_time": "2023-07-20T09:53:17.596Z"
   },
   {
    "duration": 21,
    "start_time": "2023-07-20T09:53:17.627Z"
   },
   {
    "duration": 58,
    "start_time": "2023-07-20T09:53:17.650Z"
   },
   {
    "duration": 3,
    "start_time": "2023-07-20T09:53:17.710Z"
   },
   {
    "duration": 1171,
    "start_time": "2023-07-20T09:53:17.714Z"
   },
   {
    "duration": 14,
    "start_time": "2023-07-20T09:53:18.887Z"
   },
   {
    "duration": 308,
    "start_time": "2023-07-20T09:53:18.902Z"
   },
   {
    "duration": 935,
    "start_time": "2023-07-20T09:53:19.212Z"
   },
   {
    "duration": 18,
    "start_time": "2023-07-20T09:53:20.149Z"
   },
   {
    "duration": 81,
    "start_time": "2023-07-20T09:53:20.168Z"
   },
   {
    "duration": 31,
    "start_time": "2023-07-20T09:53:20.251Z"
   },
   {
    "duration": 40,
    "start_time": "2023-07-20T09:53:20.284Z"
   },
   {
    "duration": 41,
    "start_time": "2023-07-20T09:53:20.327Z"
   },
   {
    "duration": 77,
    "start_time": "2023-07-20T09:53:20.370Z"
   },
   {
    "duration": 2,
    "start_time": "2023-07-20T09:53:20.449Z"
   },
   {
    "duration": 5,
    "start_time": "2023-07-20T10:00:30.077Z"
   },
   {
    "duration": 138,
    "start_time": "2023-07-20T10:01:02.296Z"
   },
   {
    "duration": 1864,
    "start_time": "2023-07-20T10:01:29.614Z"
   },
   {
    "duration": 424,
    "start_time": "2023-07-20T10:01:31.481Z"
   },
   {
    "duration": 17,
    "start_time": "2023-07-20T10:01:31.907Z"
   },
   {
    "duration": 96,
    "start_time": "2023-07-20T10:01:31.926Z"
   },
   {
    "duration": 84,
    "start_time": "2023-07-20T10:01:32.025Z"
   },
   {
    "duration": 28,
    "start_time": "2023-07-20T10:01:32.111Z"
   },
   {
    "duration": 48,
    "start_time": "2023-07-20T10:01:32.141Z"
   },
   {
    "duration": 105,
    "start_time": "2023-07-20T10:01:32.191Z"
   },
   {
    "duration": 3,
    "start_time": "2023-07-20T10:01:32.298Z"
   },
   {
    "duration": 1151,
    "start_time": "2023-07-20T10:01:32.306Z"
   },
   {
    "duration": 16,
    "start_time": "2023-07-20T10:01:33.459Z"
   },
   {
    "duration": 326,
    "start_time": "2023-07-20T10:01:33.477Z"
   },
   {
    "duration": 962,
    "start_time": "2023-07-20T10:01:33.805Z"
   },
   {
    "duration": 15,
    "start_time": "2023-07-20T10:01:34.768Z"
   },
   {
    "duration": 83,
    "start_time": "2023-07-20T10:01:34.784Z"
   },
   {
    "duration": 24,
    "start_time": "2023-07-20T10:01:34.869Z"
   },
   {
    "duration": 27,
    "start_time": "2023-07-20T10:01:34.894Z"
   },
   {
    "duration": 9,
    "start_time": "2023-07-20T10:01:34.922Z"
   },
   {
    "duration": 69,
    "start_time": "2023-07-20T10:01:34.932Z"
   },
   {
    "duration": 18,
    "start_time": "2023-07-20T10:01:35.003Z"
   },
   {
    "duration": 1004,
    "start_time": "2023-07-20T10:01:35.023Z"
   },
   {
    "duration": 13,
    "start_time": "2023-07-20T10:01:36.029Z"
   },
   {
    "duration": 477,
    "start_time": "2023-07-20T10:01:36.044Z"
   },
   {
    "duration": 926,
    "start_time": "2023-07-20T10:01:36.522Z"
   },
   {
    "duration": 25,
    "start_time": "2023-07-20T10:01:37.450Z"
   },
   {
    "duration": 80,
    "start_time": "2023-07-20T10:01:37.477Z"
   },
   {
    "duration": 25,
    "start_time": "2023-07-20T10:01:37.559Z"
   },
   {
    "duration": 28,
    "start_time": "2023-07-20T10:01:37.589Z"
   },
   {
    "duration": 7,
    "start_time": "2023-07-20T10:01:37.619Z"
   },
   {
    "duration": 67,
    "start_time": "2023-07-20T10:01:37.628Z"
   },
   {
    "duration": 3,
    "start_time": "2023-07-20T10:01:37.697Z"
   },
   {
    "duration": 1043,
    "start_time": "2023-07-20T10:01:37.702Z"
   },
   {
    "duration": 28,
    "start_time": "2023-07-20T10:01:38.747Z"
   },
   {
    "duration": 455,
    "start_time": "2023-07-20T10:01:38.777Z"
   },
   {
    "duration": 927,
    "start_time": "2023-07-20T10:01:39.234Z"
   },
   {
    "duration": 15,
    "start_time": "2023-07-20T10:01:40.163Z"
   },
   {
    "duration": 30,
    "start_time": "2023-07-20T10:01:40.180Z"
   },
   {
    "duration": 22,
    "start_time": "2023-07-20T10:01:40.212Z"
   },
   {
    "duration": 3,
    "start_time": "2023-07-20T10:01:40.236Z"
   },
   {
    "duration": 35,
    "start_time": "2023-07-20T10:01:40.241Z"
   },
   {
    "duration": 34,
    "start_time": "2023-07-20T10:01:40.278Z"
   },
   {
    "duration": 39,
    "start_time": "2023-07-20T10:01:40.314Z"
   },
   {
    "duration": 9,
    "start_time": "2023-07-20T10:01:40.356Z"
   },
   {
    "duration": 28,
    "start_time": "2023-07-20T10:01:40.368Z"
   },
   {
    "duration": 38,
    "start_time": "2023-07-20T10:01:40.398Z"
   },
   {
    "duration": 979,
    "start_time": "2023-07-20T10:02:11.899Z"
   },
   {
    "duration": 10,
    "start_time": "2023-07-20T10:05:35.841Z"
   },
   {
    "duration": 6,
    "start_time": "2023-07-20T10:05:38.082Z"
   },
   {
    "duration": 6,
    "start_time": "2023-07-20T10:05:40.912Z"
   },
   {
    "duration": 8,
    "start_time": "2023-07-20T10:05:46.154Z"
   },
   {
    "duration": 7,
    "start_time": "2023-07-20T10:05:52.537Z"
   },
   {
    "duration": 7,
    "start_time": "2023-07-20T10:05:55.107Z"
   },
   {
    "duration": 4,
    "start_time": "2023-07-20T10:29:08.939Z"
   },
   {
    "duration": 5,
    "start_time": "2023-07-20T10:33:15.386Z"
   },
   {
    "duration": 7,
    "start_time": "2023-07-20T10:33:27.097Z"
   },
   {
    "duration": 1584,
    "start_time": "2023-07-20T10:34:37.545Z"
   },
   {
    "duration": 400,
    "start_time": "2023-07-20T10:34:39.131Z"
   },
   {
    "duration": 16,
    "start_time": "2023-07-20T10:34:39.533Z"
   },
   {
    "duration": 109,
    "start_time": "2023-07-20T10:34:39.550Z"
   },
   {
    "duration": 69,
    "start_time": "2023-07-20T10:34:39.661Z"
   },
   {
    "duration": 37,
    "start_time": "2023-07-20T10:34:39.732Z"
   },
   {
    "duration": 41,
    "start_time": "2023-07-20T10:34:39.771Z"
   },
   {
    "duration": 57,
    "start_time": "2023-07-20T10:34:39.814Z"
   },
   {
    "duration": 3,
    "start_time": "2023-07-20T10:34:39.873Z"
   },
   {
    "duration": 976,
    "start_time": "2023-07-20T10:34:39.877Z"
   },
   {
    "duration": 21,
    "start_time": "2023-07-20T10:34:40.856Z"
   },
   {
    "duration": 321,
    "start_time": "2023-07-20T10:34:40.879Z"
   },
   {
    "duration": 947,
    "start_time": "2023-07-20T10:34:41.201Z"
   },
   {
    "duration": 23,
    "start_time": "2023-07-20T10:34:42.151Z"
   },
   {
    "duration": 124,
    "start_time": "2023-07-20T10:34:42.176Z"
   },
   {
    "duration": 21,
    "start_time": "2023-07-20T10:34:42.302Z"
   },
   {
    "duration": 76,
    "start_time": "2023-07-20T10:34:42.326Z"
   },
   {
    "duration": 9,
    "start_time": "2023-07-20T10:34:42.404Z"
   },
   {
    "duration": 70,
    "start_time": "2023-07-20T10:34:42.415Z"
   },
   {
    "duration": 3,
    "start_time": "2023-07-20T10:34:42.486Z"
   },
   {
    "duration": 1112,
    "start_time": "2023-07-20T10:34:42.491Z"
   },
   {
    "duration": 15,
    "start_time": "2023-07-20T10:34:43.606Z"
   },
   {
    "duration": 560,
    "start_time": "2023-07-20T10:34:43.624Z"
   },
   {
    "duration": 1013,
    "start_time": "2023-07-20T10:34:44.186Z"
   },
   {
    "duration": 18,
    "start_time": "2023-07-20T10:34:45.201Z"
   },
   {
    "duration": 103,
    "start_time": "2023-07-20T10:34:45.221Z"
   },
   {
    "duration": 46,
    "start_time": "2023-07-20T10:34:45.326Z"
   },
   {
    "duration": 34,
    "start_time": "2023-07-20T10:34:45.374Z"
   },
   {
    "duration": 9,
    "start_time": "2023-07-20T10:34:45.410Z"
   },
   {
    "duration": 71,
    "start_time": "2023-07-20T10:34:45.422Z"
   },
   {
    "duration": 4,
    "start_time": "2023-07-20T10:34:45.495Z"
   },
   {
    "duration": 1127,
    "start_time": "2023-07-20T10:34:45.501Z"
   },
   {
    "duration": 14,
    "start_time": "2023-07-20T10:34:46.631Z"
   },
   {
    "duration": 443,
    "start_time": "2023-07-20T10:34:46.647Z"
   },
   {
    "duration": 980,
    "start_time": "2023-07-20T10:34:47.092Z"
   },
   {
    "duration": 16,
    "start_time": "2023-07-20T10:34:48.075Z"
   },
   {
    "duration": 16,
    "start_time": "2023-07-20T10:34:48.093Z"
   },
   {
    "duration": 17,
    "start_time": "2023-07-20T10:34:48.111Z"
   },
   {
    "duration": 2,
    "start_time": "2023-07-20T10:34:48.130Z"
   },
   {
    "duration": 47,
    "start_time": "2023-07-20T10:34:48.134Z"
   },
   {
    "duration": 15,
    "start_time": "2023-07-20T10:34:48.185Z"
   },
   {
    "duration": 10,
    "start_time": "2023-07-20T10:34:48.202Z"
   },
   {
    "duration": 19,
    "start_time": "2023-07-20T10:34:48.214Z"
   },
   {
    "duration": 10,
    "start_time": "2023-07-20T10:34:48.235Z"
   },
   {
    "duration": 23,
    "start_time": "2023-07-20T10:34:48.247Z"
   },
   {
    "duration": 803,
    "start_time": "2023-07-20T10:34:48.272Z"
   },
   {
    "duration": 93,
    "start_time": "2023-07-20T10:34:49.077Z"
   },
   {
    "duration": 99,
    "start_time": "2023-07-20T10:34:49.172Z"
   },
   {
    "duration": 99,
    "start_time": "2023-07-20T10:34:49.273Z"
   },
   {
    "duration": 102,
    "start_time": "2023-07-20T10:34:49.467Z"
   },
   {
    "duration": 7,
    "start_time": "2023-07-20T10:34:49.571Z"
   },
   {
    "duration": 9,
    "start_time": "2023-07-20T10:34:49.580Z"
   },
   {
    "duration": 33,
    "start_time": "2023-07-20T10:34:49.591Z"
   },
   {
    "duration": 7,
    "start_time": "2023-07-20T10:34:49.625Z"
   },
   {
    "duration": 31,
    "start_time": "2023-07-20T10:34:49.634Z"
   },
   {
    "duration": 25,
    "start_time": "2023-07-20T10:34:49.667Z"
   },
   {
    "duration": 27,
    "start_time": "2023-07-20T10:34:49.694Z"
   },
   {
    "duration": 7,
    "start_time": "2023-07-20T10:34:49.723Z"
   },
   {
    "duration": 7,
    "start_time": "2023-07-20T10:34:49.731Z"
   },
   {
    "duration": 132,
    "start_time": "2023-07-20T10:34:49.740Z"
   },
   {
    "duration": 0,
    "start_time": "2023-07-20T10:34:49.873Z"
   },
   {
    "duration": 0,
    "start_time": "2023-07-20T10:34:49.874Z"
   },
   {
    "duration": 0,
    "start_time": "2023-07-20T10:34:49.876Z"
   },
   {
    "duration": 0,
    "start_time": "2023-07-20T10:34:49.877Z"
   },
   {
    "duration": 16,
    "start_time": "2023-07-20T10:41:23.048Z"
   },
   {
    "duration": 4,
    "start_time": "2023-07-20T10:41:25.807Z"
   },
   {
    "duration": 4,
    "start_time": "2023-07-20T10:41:35.668Z"
   },
   {
    "duration": 5,
    "start_time": "2023-07-20T10:41:44.364Z"
   },
   {
    "duration": 5,
    "start_time": "2023-07-20T10:41:49.264Z"
   },
   {
    "duration": 3,
    "start_time": "2023-07-20T10:46:45.682Z"
   },
   {
    "duration": 11,
    "start_time": "2023-07-20T10:46:57.076Z"
   },
   {
    "duration": 10,
    "start_time": "2023-07-20T10:47:13.744Z"
   },
   {
    "duration": 4,
    "start_time": "2023-07-20T10:47:32.022Z"
   },
   {
    "duration": 6,
    "start_time": "2023-07-20T10:49:36.174Z"
   },
   {
    "duration": 6,
    "start_time": "2023-07-20T10:49:39.313Z"
   },
   {
    "duration": 47,
    "start_time": "2023-07-20T11:06:26.951Z"
   },
   {
    "duration": 30,
    "start_time": "2023-07-20T11:08:31.689Z"
   },
   {
    "duration": 29,
    "start_time": "2023-07-20T11:10:11.166Z"
   },
   {
    "duration": 31,
    "start_time": "2023-07-20T11:14:54.056Z"
   },
   {
    "duration": 1748,
    "start_time": "2023-07-20T11:15:13.056Z"
   },
   {
    "duration": 441,
    "start_time": "2023-07-20T11:15:14.807Z"
   },
   {
    "duration": 31,
    "start_time": "2023-07-20T11:15:15.249Z"
   },
   {
    "duration": 126,
    "start_time": "2023-07-20T11:15:15.283Z"
   },
   {
    "duration": 90,
    "start_time": "2023-07-20T11:15:15.413Z"
   },
   {
    "duration": 34,
    "start_time": "2023-07-20T11:15:15.505Z"
   },
   {
    "duration": 33,
    "start_time": "2023-07-20T11:15:15.541Z"
   },
   {
    "duration": 59,
    "start_time": "2023-07-20T11:15:15.577Z"
   },
   {
    "duration": 3,
    "start_time": "2023-07-20T11:15:15.638Z"
   },
   {
    "duration": 1039,
    "start_time": "2023-07-20T11:15:15.643Z"
   },
   {
    "duration": 15,
    "start_time": "2023-07-20T11:15:16.684Z"
   },
   {
    "duration": 319,
    "start_time": "2023-07-20T11:15:16.701Z"
   },
   {
    "duration": 995,
    "start_time": "2023-07-20T11:15:17.022Z"
   },
   {
    "duration": 17,
    "start_time": "2023-07-20T11:15:18.021Z"
   },
   {
    "duration": 82,
    "start_time": "2023-07-20T11:15:18.039Z"
   },
   {
    "duration": 25,
    "start_time": "2023-07-20T11:15:18.123Z"
   },
   {
    "duration": 31,
    "start_time": "2023-07-20T11:15:18.167Z"
   },
   {
    "duration": 9,
    "start_time": "2023-07-20T11:15:18.200Z"
   },
   {
    "duration": 57,
    "start_time": "2023-07-20T11:15:18.211Z"
   },
   {
    "duration": 3,
    "start_time": "2023-07-20T11:15:18.270Z"
   },
   {
    "duration": 1126,
    "start_time": "2023-07-20T11:15:18.275Z"
   },
   {
    "duration": 14,
    "start_time": "2023-07-20T11:15:19.403Z"
   },
   {
    "duration": 584,
    "start_time": "2023-07-20T11:15:19.419Z"
   },
   {
    "duration": 1088,
    "start_time": "2023-07-20T11:15:20.005Z"
   },
   {
    "duration": 16,
    "start_time": "2023-07-20T11:15:21.095Z"
   },
   {
    "duration": 139,
    "start_time": "2023-07-20T11:15:21.114Z"
   },
   {
    "duration": 29,
    "start_time": "2023-07-20T11:15:21.254Z"
   },
   {
    "duration": 60,
    "start_time": "2023-07-20T11:15:21.285Z"
   },
   {
    "duration": 7,
    "start_time": "2023-07-20T11:15:21.347Z"
   },
   {
    "duration": 57,
    "start_time": "2023-07-20T11:15:21.356Z"
   },
   {
    "duration": 3,
    "start_time": "2023-07-20T11:15:21.416Z"
   },
   {
    "duration": 1046,
    "start_time": "2023-07-20T11:15:21.421Z"
   },
   {
    "duration": 17,
    "start_time": "2023-07-20T11:15:22.470Z"
   },
   {
    "duration": 497,
    "start_time": "2023-07-20T11:15:22.489Z"
   },
   {
    "duration": 1111,
    "start_time": "2023-07-20T11:15:22.988Z"
   },
   {
    "duration": 21,
    "start_time": "2023-07-20T11:15:24.101Z"
   },
   {
    "duration": 51,
    "start_time": "2023-07-20T11:15:24.125Z"
   },
   {
    "duration": 26,
    "start_time": "2023-07-20T11:15:24.178Z"
   },
   {
    "duration": 32,
    "start_time": "2023-07-20T11:15:24.205Z"
   },
   {
    "duration": 57,
    "start_time": "2023-07-20T11:15:24.240Z"
   },
   {
    "duration": 47,
    "start_time": "2023-07-20T11:15:24.302Z"
   },
   {
    "duration": 35,
    "start_time": "2023-07-20T11:15:24.351Z"
   },
   {
    "duration": 27,
    "start_time": "2023-07-20T11:15:24.388Z"
   },
   {
    "duration": 72,
    "start_time": "2023-07-20T11:15:24.417Z"
   },
   {
    "duration": 31,
    "start_time": "2023-07-20T11:15:24.492Z"
   },
   {
    "duration": 1047,
    "start_time": "2023-07-20T11:15:24.525Z"
   },
   {
    "duration": 96,
    "start_time": "2023-07-20T11:15:25.578Z"
   },
   {
    "duration": 194,
    "start_time": "2023-07-20T11:15:25.675Z"
   },
   {
    "duration": 99,
    "start_time": "2023-07-20T11:15:25.870Z"
   },
   {
    "duration": 115,
    "start_time": "2023-07-20T11:15:25.976Z"
   },
   {
    "duration": 75,
    "start_time": "2023-07-20T11:15:26.094Z"
   },
   {
    "duration": 8,
    "start_time": "2023-07-20T11:15:26.171Z"
   },
   {
    "duration": 9,
    "start_time": "2023-07-20T11:15:26.181Z"
   },
   {
    "duration": 21,
    "start_time": "2023-07-20T11:15:26.193Z"
   },
   {
    "duration": 23,
    "start_time": "2023-07-20T11:15:26.216Z"
   },
   {
    "duration": 58,
    "start_time": "2023-07-20T11:15:26.240Z"
   },
   {
    "duration": 61,
    "start_time": "2023-07-20T11:15:26.300Z"
   },
   {
    "duration": 30,
    "start_time": "2023-07-20T11:15:26.363Z"
   },
   {
    "duration": 27,
    "start_time": "2023-07-20T11:15:26.395Z"
   },
   {
    "duration": 34,
    "start_time": "2023-07-20T11:15:26.425Z"
   },
   {
    "duration": 12,
    "start_time": "2023-07-20T11:15:26.461Z"
   },
   {
    "duration": 12,
    "start_time": "2023-07-20T11:15:26.475Z"
   },
   {
    "duration": 18,
    "start_time": "2023-07-20T11:15:26.489Z"
   },
   {
    "duration": 14,
    "start_time": "2023-07-20T11:15:26.509Z"
   },
   {
    "duration": 15,
    "start_time": "2023-07-20T11:15:26.525Z"
   },
   {
    "duration": 15,
    "start_time": "2023-07-20T11:15:26.543Z"
   },
   {
    "duration": 19,
    "start_time": "2023-07-20T11:15:26.560Z"
   },
   {
    "duration": 6,
    "start_time": "2023-07-20T11:15:26.582Z"
   },
   {
    "duration": 6,
    "start_time": "2023-07-20T11:15:26.591Z"
   },
   {
    "duration": 6,
    "start_time": "2023-07-20T11:15:26.600Z"
   },
   {
    "duration": 133,
    "start_time": "2023-07-20T11:15:29.790Z"
   },
   {
    "duration": 1992,
    "start_time": "2023-07-20T11:16:46.816Z"
   },
   {
    "duration": 13,
    "start_time": "2023-07-20T11:18:33.557Z"
   },
   {
    "duration": 1648,
    "start_time": "2023-07-20T11:29:08.104Z"
   },
   {
    "duration": 436,
    "start_time": "2023-07-20T11:29:09.754Z"
   },
   {
    "duration": 16,
    "start_time": "2023-07-20T11:29:10.192Z"
   },
   {
    "duration": 101,
    "start_time": "2023-07-20T11:29:10.210Z"
   },
   {
    "duration": 86,
    "start_time": "2023-07-20T11:29:10.314Z"
   },
   {
    "duration": 32,
    "start_time": "2023-07-20T11:29:10.402Z"
   },
   {
    "duration": 8,
    "start_time": "2023-07-20T11:29:10.436Z"
   },
   {
    "duration": 79,
    "start_time": "2023-07-20T11:29:10.446Z"
   },
   {
    "duration": 3,
    "start_time": "2023-07-20T11:29:10.527Z"
   },
   {
    "duration": 1067,
    "start_time": "2023-07-20T11:29:10.532Z"
   },
   {
    "duration": 15,
    "start_time": "2023-07-20T11:29:11.601Z"
   },
   {
    "duration": 377,
    "start_time": "2023-07-20T11:29:11.618Z"
   },
   {
    "duration": 995,
    "start_time": "2023-07-20T11:29:11.998Z"
   },
   {
    "duration": 17,
    "start_time": "2023-07-20T11:29:12.996Z"
   },
   {
    "duration": 85,
    "start_time": "2023-07-20T11:29:13.015Z"
   },
   {
    "duration": 31,
    "start_time": "2023-07-20T11:29:13.102Z"
   },
   {
    "duration": 44,
    "start_time": "2023-07-20T11:29:13.135Z"
   },
   {
    "duration": 10,
    "start_time": "2023-07-20T11:29:13.181Z"
   },
   {
    "duration": 58,
    "start_time": "2023-07-20T11:29:13.193Z"
   },
   {
    "duration": 15,
    "start_time": "2023-07-20T11:29:13.253Z"
   },
   {
    "duration": 1156,
    "start_time": "2023-07-20T11:29:13.269Z"
   },
   {
    "duration": 15,
    "start_time": "2023-07-20T11:29:14.427Z"
   },
   {
    "duration": 545,
    "start_time": "2023-07-20T11:29:14.444Z"
   },
   {
    "duration": 986,
    "start_time": "2023-07-20T11:29:14.991Z"
   },
   {
    "duration": 17,
    "start_time": "2023-07-20T11:29:15.979Z"
   },
   {
    "duration": 90,
    "start_time": "2023-07-20T11:29:15.998Z"
   },
   {
    "duration": 28,
    "start_time": "2023-07-20T11:29:16.090Z"
   },
   {
    "duration": 51,
    "start_time": "2023-07-20T11:29:16.119Z"
   },
   {
    "duration": 7,
    "start_time": "2023-07-20T11:29:16.172Z"
   },
   {
    "duration": 61,
    "start_time": "2023-07-20T11:29:16.181Z"
   },
   {
    "duration": 3,
    "start_time": "2023-07-20T11:29:16.244Z"
   },
   {
    "duration": 1043,
    "start_time": "2023-07-20T11:29:16.248Z"
   },
   {
    "duration": 14,
    "start_time": "2023-07-20T11:29:17.293Z"
   },
   {
    "duration": 469,
    "start_time": "2023-07-20T11:29:17.309Z"
   },
   {
    "duration": 1013,
    "start_time": "2023-07-20T11:29:17.780Z"
   },
   {
    "duration": 15,
    "start_time": "2023-07-20T11:29:18.795Z"
   },
   {
    "duration": 34,
    "start_time": "2023-07-20T11:29:18.812Z"
   },
   {
    "duration": 27,
    "start_time": "2023-07-20T11:29:18.849Z"
   },
   {
    "duration": 11,
    "start_time": "2023-07-20T11:29:18.879Z"
   },
   {
    "duration": 21,
    "start_time": "2023-07-20T11:29:18.892Z"
   },
   {
    "duration": 27,
    "start_time": "2023-07-20T11:29:18.918Z"
   },
   {
    "duration": 8,
    "start_time": "2023-07-20T11:29:18.947Z"
   },
   {
    "duration": 9,
    "start_time": "2023-07-20T11:29:18.957Z"
   },
   {
    "duration": 15,
    "start_time": "2023-07-20T11:29:18.968Z"
   },
   {
    "duration": 22,
    "start_time": "2023-07-20T11:29:18.986Z"
   },
   {
    "duration": 758,
    "start_time": "2023-07-20T11:29:19.010Z"
   },
   {
    "duration": 6,
    "start_time": "2023-07-20T11:29:19.771Z"
   },
   {
    "duration": 189,
    "start_time": "2023-07-20T11:29:19.780Z"
   },
   {
    "duration": 106,
    "start_time": "2023-07-20T11:29:19.973Z"
   },
   {
    "duration": 201,
    "start_time": "2023-07-20T11:29:20.081Z"
   },
   {
    "duration": 41,
    "start_time": "2023-07-20T11:29:20.283Z"
   },
   {
    "duration": 29,
    "start_time": "2023-07-20T11:29:20.326Z"
   },
   {
    "duration": 50,
    "start_time": "2023-07-20T11:29:20.357Z"
   },
   {
    "duration": 59,
    "start_time": "2023-07-20T11:29:20.409Z"
   },
   {
    "duration": 30,
    "start_time": "2023-07-20T11:29:20.470Z"
   },
   {
    "duration": 11,
    "start_time": "2023-07-20T11:29:20.501Z"
   },
   {
    "duration": 55,
    "start_time": "2023-07-20T11:29:20.514Z"
   },
   {
    "duration": 23,
    "start_time": "2023-07-20T11:29:20.570Z"
   },
   {
    "duration": 11,
    "start_time": "2023-07-20T11:29:20.594Z"
   },
   {
    "duration": 43,
    "start_time": "2023-07-20T11:29:20.606Z"
   },
   {
    "duration": 26,
    "start_time": "2023-07-20T11:29:20.650Z"
   },
   {
    "duration": 44,
    "start_time": "2023-07-20T11:29:20.677Z"
   },
   {
    "duration": 45,
    "start_time": "2023-07-20T11:29:20.726Z"
   },
   {
    "duration": 55,
    "start_time": "2023-07-20T11:29:20.773Z"
   },
   {
    "duration": 15,
    "start_time": "2023-07-20T11:29:20.830Z"
   },
   {
    "duration": 35,
    "start_time": "2023-07-20T11:29:20.846Z"
   },
   {
    "duration": 46,
    "start_time": "2023-07-20T11:29:20.882Z"
   },
   {
    "duration": 23,
    "start_time": "2023-07-20T11:29:20.931Z"
   },
   {
    "duration": 17,
    "start_time": "2023-07-20T11:29:20.956Z"
   },
   {
    "duration": 13,
    "start_time": "2023-07-20T11:29:20.975Z"
   },
   {
    "duration": 2210,
    "start_time": "2023-07-20T11:29:20.990Z"
   },
   {
    "duration": 10,
    "start_time": "2023-07-20T11:29:26.694Z"
   },
   {
    "duration": 913,
    "start_time": "2023-07-20T11:42:26.058Z"
   },
   {
    "duration": 399,
    "start_time": "2023-07-20T11:51:26.877Z"
   },
   {
    "duration": 421,
    "start_time": "2023-07-20T11:51:38.450Z"
   },
   {
    "duration": 440,
    "start_time": "2023-07-20T11:51:42.335Z"
   },
   {
    "duration": 1514,
    "start_time": "2023-07-20T11:52:05.841Z"
   },
   {
    "duration": 1685,
    "start_time": "2023-07-20T11:55:24.069Z"
   },
   {
    "duration": 482,
    "start_time": "2023-07-20T11:55:25.756Z"
   },
   {
    "duration": 33,
    "start_time": "2023-07-20T11:55:26.240Z"
   },
   {
    "duration": 116,
    "start_time": "2023-07-20T11:55:26.275Z"
   },
   {
    "duration": 94,
    "start_time": "2023-07-20T11:55:26.394Z"
   },
   {
    "duration": 33,
    "start_time": "2023-07-20T11:55:26.490Z"
   },
   {
    "duration": 8,
    "start_time": "2023-07-20T11:55:26.526Z"
   },
   {
    "duration": 88,
    "start_time": "2023-07-20T11:55:26.537Z"
   },
   {
    "duration": 5,
    "start_time": "2023-07-20T11:55:26.627Z"
   },
   {
    "duration": 1197,
    "start_time": "2023-07-20T11:55:26.634Z"
   },
   {
    "duration": 35,
    "start_time": "2023-07-20T11:55:27.834Z"
   },
   {
    "duration": 398,
    "start_time": "2023-07-20T11:55:27.871Z"
   },
   {
    "duration": 1013,
    "start_time": "2023-07-20T11:55:28.271Z"
   },
   {
    "duration": 22,
    "start_time": "2023-07-20T11:55:29.289Z"
   },
   {
    "duration": 89,
    "start_time": "2023-07-20T11:55:29.313Z"
   },
   {
    "duration": 33,
    "start_time": "2023-07-20T11:55:29.403Z"
   },
   {
    "duration": 63,
    "start_time": "2023-07-20T11:55:29.438Z"
   },
   {
    "duration": 11,
    "start_time": "2023-07-20T11:55:29.504Z"
   },
   {
    "duration": 80,
    "start_time": "2023-07-20T11:55:29.517Z"
   },
   {
    "duration": 5,
    "start_time": "2023-07-20T11:55:29.599Z"
   },
   {
    "duration": 1136,
    "start_time": "2023-07-20T11:55:29.606Z"
   },
   {
    "duration": 37,
    "start_time": "2023-07-20T11:55:30.745Z"
   },
   {
    "duration": 614,
    "start_time": "2023-07-20T11:55:30.784Z"
   },
   {
    "duration": 1220,
    "start_time": "2023-07-20T11:55:31.401Z"
   },
   {
    "duration": 25,
    "start_time": "2023-07-20T11:55:32.624Z"
   },
   {
    "duration": 149,
    "start_time": "2023-07-20T11:55:32.652Z"
   },
   {
    "duration": 42,
    "start_time": "2023-07-20T11:55:32.804Z"
   },
   {
    "duration": 57,
    "start_time": "2023-07-20T11:55:32.849Z"
   },
   {
    "duration": 8,
    "start_time": "2023-07-20T11:55:32.909Z"
   },
   {
    "duration": 75,
    "start_time": "2023-07-20T11:55:32.920Z"
   },
   {
    "duration": 3,
    "start_time": "2023-07-20T11:55:32.998Z"
   },
   {
    "duration": 1319,
    "start_time": "2023-07-20T11:55:33.004Z"
   },
   {
    "duration": 21,
    "start_time": "2023-07-20T11:55:34.326Z"
   },
   {
    "duration": 551,
    "start_time": "2023-07-20T11:55:34.349Z"
   },
   {
    "duration": 1039,
    "start_time": "2023-07-20T11:55:34.903Z"
   },
   {
    "duration": 25,
    "start_time": "2023-07-20T11:55:35.944Z"
   },
   {
    "duration": 49,
    "start_time": "2023-07-20T11:55:35.971Z"
   },
   {
    "duration": 23,
    "start_time": "2023-07-20T11:55:36.023Z"
   },
   {
    "duration": 20,
    "start_time": "2023-07-20T11:55:36.049Z"
   },
   {
    "duration": 46,
    "start_time": "2023-07-20T11:55:36.071Z"
   },
   {
    "duration": 36,
    "start_time": "2023-07-20T11:55:36.123Z"
   },
   {
    "duration": 19,
    "start_time": "2023-07-20T11:55:36.164Z"
   },
   {
    "duration": 17,
    "start_time": "2023-07-20T11:55:36.185Z"
   },
   {
    "duration": 27,
    "start_time": "2023-07-20T11:55:36.205Z"
   },
   {
    "duration": 63,
    "start_time": "2023-07-20T11:55:36.235Z"
   },
   {
    "duration": 1178,
    "start_time": "2023-07-20T11:55:36.300Z"
   },
   {
    "duration": 12,
    "start_time": "2023-07-20T11:55:37.566Z"
   },
   {
    "duration": 92,
    "start_time": "2023-07-20T11:55:37.581Z"
   },
   {
    "duration": 95,
    "start_time": "2023-07-20T11:55:37.679Z"
   },
   {
    "duration": 95,
    "start_time": "2023-07-20T11:55:37.776Z"
   },
   {
    "duration": 94,
    "start_time": "2023-07-20T11:55:37.874Z"
   },
   {
    "duration": 11,
    "start_time": "2023-07-20T11:55:37.970Z"
   },
   {
    "duration": 13,
    "start_time": "2023-07-20T11:55:37.983Z"
   },
   {
    "duration": 34,
    "start_time": "2023-07-20T11:55:37.998Z"
   },
   {
    "duration": 30,
    "start_time": "2023-07-20T11:55:38.034Z"
   },
   {
    "duration": 10,
    "start_time": "2023-07-20T11:55:38.066Z"
   },
   {
    "duration": 7,
    "start_time": "2023-07-20T11:55:38.079Z"
   },
   {
    "duration": 29,
    "start_time": "2023-07-20T11:55:38.088Z"
   },
   {
    "duration": 9,
    "start_time": "2023-07-20T11:55:38.120Z"
   },
   {
    "duration": 11,
    "start_time": "2023-07-20T11:55:38.132Z"
   },
   {
    "duration": 21,
    "start_time": "2023-07-20T11:55:38.145Z"
   },
   {
    "duration": 12,
    "start_time": "2023-07-20T11:55:38.169Z"
   },
   {
    "duration": 43,
    "start_time": "2023-07-20T11:55:38.183Z"
   },
   {
    "duration": 13,
    "start_time": "2023-07-20T11:55:38.228Z"
   },
   {
    "duration": 13,
    "start_time": "2023-07-20T11:55:38.243Z"
   },
   {
    "duration": 10,
    "start_time": "2023-07-20T11:55:38.258Z"
   },
   {
    "duration": 23,
    "start_time": "2023-07-20T11:55:38.270Z"
   },
   {
    "duration": 21,
    "start_time": "2023-07-20T11:55:38.295Z"
   },
   {
    "duration": 29,
    "start_time": "2023-07-20T11:55:38.319Z"
   },
   {
    "duration": 9,
    "start_time": "2023-07-20T11:55:38.351Z"
   },
   {
    "duration": 2087,
    "start_time": "2023-07-20T11:55:38.363Z"
   },
   {
    "duration": 15,
    "start_time": "2023-07-20T11:55:40.452Z"
   },
   {
    "duration": 906,
    "start_time": "2023-07-20T11:55:40.471Z"
   },
   {
    "duration": 1500,
    "start_time": "2023-07-20T11:55:41.380Z"
   },
   {
    "duration": 1465,
    "start_time": "2023-07-20T22:18:15.489Z"
   },
   {
    "duration": 685,
    "start_time": "2023-07-20T22:18:16.956Z"
   },
   {
    "duration": 12,
    "start_time": "2023-07-20T22:18:17.642Z"
   },
   {
    "duration": 64,
    "start_time": "2023-07-20T22:18:17.656Z"
   },
   {
    "duration": 48,
    "start_time": "2023-07-20T22:18:17.721Z"
   },
   {
    "duration": 28,
    "start_time": "2023-07-20T22:18:17.771Z"
   },
   {
    "duration": 6,
    "start_time": "2023-07-20T22:18:17.801Z"
   },
   {
    "duration": 37,
    "start_time": "2023-07-20T22:18:17.808Z"
   },
   {
    "duration": 3,
    "start_time": "2023-07-20T22:18:17.846Z"
   },
   {
    "duration": 741,
    "start_time": "2023-07-20T22:18:17.851Z"
   },
   {
    "duration": 19,
    "start_time": "2023-07-20T22:18:18.593Z"
   },
   {
    "duration": 270,
    "start_time": "2023-07-20T22:18:18.613Z"
   },
   {
    "duration": 806,
    "start_time": "2023-07-20T22:18:18.884Z"
   },
   {
    "duration": 15,
    "start_time": "2023-07-20T22:18:19.691Z"
   },
   {
    "duration": 50,
    "start_time": "2023-07-20T22:18:19.707Z"
   },
   {
    "duration": 16,
    "start_time": "2023-07-20T22:18:19.758Z"
   },
   {
    "duration": 37,
    "start_time": "2023-07-20T22:18:19.775Z"
   },
   {
    "duration": 7,
    "start_time": "2023-07-20T22:18:19.814Z"
   },
   {
    "duration": 49,
    "start_time": "2023-07-20T22:18:19.822Z"
   },
   {
    "duration": 2,
    "start_time": "2023-07-20T22:18:19.872Z"
   },
   {
    "duration": 739,
    "start_time": "2023-07-20T22:18:19.875Z"
   },
   {
    "duration": 12,
    "start_time": "2023-07-20T22:18:20.615Z"
   },
   {
    "duration": 349,
    "start_time": "2023-07-20T22:18:20.628Z"
   },
   {
    "duration": 826,
    "start_time": "2023-07-20T22:18:20.978Z"
   },
   {
    "duration": 12,
    "start_time": "2023-07-20T22:18:21.806Z"
   },
   {
    "duration": 55,
    "start_time": "2023-07-20T22:18:21.819Z"
   },
   {
    "duration": 31,
    "start_time": "2023-07-20T22:18:21.875Z"
   },
   {
    "duration": 20,
    "start_time": "2023-07-20T22:18:21.910Z"
   },
   {
    "duration": 6,
    "start_time": "2023-07-20T22:18:21.932Z"
   },
   {
    "duration": 92,
    "start_time": "2023-07-20T22:18:21.940Z"
   },
   {
    "duration": 11,
    "start_time": "2023-07-20T22:18:22.033Z"
   },
   {
    "duration": 817,
    "start_time": "2023-07-20T22:18:22.045Z"
   },
   {
    "duration": 11,
    "start_time": "2023-07-20T22:18:22.864Z"
   },
   {
    "duration": 376,
    "start_time": "2023-07-20T22:18:22.877Z"
   },
   {
    "duration": 898,
    "start_time": "2023-07-20T22:18:23.255Z"
   },
   {
    "duration": 11,
    "start_time": "2023-07-20T22:18:24.155Z"
   },
   {
    "duration": 13,
    "start_time": "2023-07-20T22:18:24.167Z"
   },
   {
    "duration": 28,
    "start_time": "2023-07-20T22:18:24.182Z"
   },
   {
    "duration": 2,
    "start_time": "2023-07-20T22:18:24.211Z"
   },
   {
    "duration": 8,
    "start_time": "2023-07-20T22:18:24.214Z"
   },
   {
    "duration": 5,
    "start_time": "2023-07-20T22:18:24.223Z"
   },
   {
    "duration": 6,
    "start_time": "2023-07-20T22:18:24.229Z"
   },
   {
    "duration": 21,
    "start_time": "2023-07-20T22:18:24.236Z"
   },
   {
    "duration": 6,
    "start_time": "2023-07-20T22:18:24.258Z"
   },
   {
    "duration": 7,
    "start_time": "2023-07-20T22:18:24.265Z"
   },
   {
    "duration": 726,
    "start_time": "2023-07-20T22:18:24.273Z"
   },
   {
    "duration": 98,
    "start_time": "2023-07-20T22:18:25.003Z"
   },
   {
    "duration": 100,
    "start_time": "2023-07-20T22:18:25.103Z"
   },
   {
    "duration": 201,
    "start_time": "2023-07-20T22:18:25.206Z"
   },
   {
    "duration": 198,
    "start_time": "2023-07-20T22:18:25.409Z"
   },
   {
    "duration": 6,
    "start_time": "2023-07-20T22:18:25.608Z"
   },
   {
    "duration": 7,
    "start_time": "2023-07-20T22:18:25.615Z"
   },
   {
    "duration": 18,
    "start_time": "2023-07-20T22:18:25.624Z"
   },
   {
    "duration": 5,
    "start_time": "2023-07-20T22:18:25.643Z"
   },
   {
    "duration": 8,
    "start_time": "2023-07-20T22:18:25.649Z"
   },
   {
    "duration": 7,
    "start_time": "2023-07-20T22:18:25.658Z"
   },
   {
    "duration": 12,
    "start_time": "2023-07-20T22:18:25.666Z"
   },
   {
    "duration": 4,
    "start_time": "2023-07-20T22:18:25.679Z"
   },
   {
    "duration": 8,
    "start_time": "2023-07-20T22:18:25.685Z"
   },
   {
    "duration": 13,
    "start_time": "2023-07-20T22:18:25.694Z"
   },
   {
    "duration": 4,
    "start_time": "2023-07-20T22:18:25.708Z"
   },
   {
    "duration": 5,
    "start_time": "2023-07-20T22:18:25.713Z"
   },
   {
    "duration": 8,
    "start_time": "2023-07-20T22:18:25.719Z"
   },
   {
    "duration": 32,
    "start_time": "2023-07-20T22:18:25.728Z"
   },
   {
    "duration": 11,
    "start_time": "2023-07-20T22:18:25.761Z"
   },
   {
    "duration": 28,
    "start_time": "2023-07-20T22:18:25.773Z"
   },
   {
    "duration": 27,
    "start_time": "2023-07-20T22:18:25.802Z"
   },
   {
    "duration": 25,
    "start_time": "2023-07-20T22:18:25.830Z"
   },
   {
    "duration": 17,
    "start_time": "2023-07-20T22:18:25.857Z"
   },
   {
    "duration": 14,
    "start_time": "2023-07-20T22:18:25.876Z"
   },
   {
    "duration": 2476,
    "start_time": "2023-07-20T22:18:25.892Z"
   },
   {
    "duration": 7,
    "start_time": "2023-07-20T22:18:28.370Z"
   },
   {
    "duration": 752,
    "start_time": "2023-07-20T22:18:28.400Z"
   },
   {
    "duration": 1119,
    "start_time": "2023-07-20T22:18:29.154Z"
   },
   {
    "duration": 7,
    "start_time": "2023-07-20T22:19:06.137Z"
   },
   {
    "duration": 6,
    "start_time": "2023-07-20T22:19:26.074Z"
   },
   {
    "duration": 5,
    "start_time": "2023-07-20T22:19:45.102Z"
   },
   {
    "duration": 1587,
    "start_time": "2023-07-20T22:21:27.579Z"
   },
   {
    "duration": 349,
    "start_time": "2023-07-20T22:21:29.168Z"
   },
   {
    "duration": 13,
    "start_time": "2023-07-20T22:21:29.518Z"
   },
   {
    "duration": 78,
    "start_time": "2023-07-20T22:21:29.533Z"
   },
   {
    "duration": 52,
    "start_time": "2023-07-20T22:21:29.613Z"
   },
   {
    "duration": 32,
    "start_time": "2023-07-20T22:21:29.667Z"
   },
   {
    "duration": 7,
    "start_time": "2023-07-20T22:21:29.701Z"
   },
   {
    "duration": 42,
    "start_time": "2023-07-20T22:21:29.709Z"
   },
   {
    "duration": 2,
    "start_time": "2023-07-20T22:21:29.752Z"
   },
   {
    "duration": 756,
    "start_time": "2023-07-20T22:21:29.756Z"
   },
   {
    "duration": 12,
    "start_time": "2023-07-20T22:21:30.514Z"
   },
   {
    "duration": 348,
    "start_time": "2023-07-20T22:21:30.527Z"
   },
   {
    "duration": 928,
    "start_time": "2023-07-20T22:21:30.876Z"
   },
   {
    "duration": 12,
    "start_time": "2023-07-20T22:21:31.806Z"
   },
   {
    "duration": 103,
    "start_time": "2023-07-20T22:21:31.819Z"
   },
   {
    "duration": 42,
    "start_time": "2023-07-20T22:21:31.923Z"
   },
   {
    "duration": 45,
    "start_time": "2023-07-20T22:21:31.966Z"
   },
   {
    "duration": 23,
    "start_time": "2023-07-20T22:21:32.013Z"
   },
   {
    "duration": 52,
    "start_time": "2023-07-20T22:21:32.037Z"
   },
   {
    "duration": 1,
    "start_time": "2023-07-20T22:21:32.091Z"
   },
   {
    "duration": 777,
    "start_time": "2023-07-20T22:21:32.094Z"
   },
   {
    "duration": 12,
    "start_time": "2023-07-20T22:21:32.872Z"
   },
   {
    "duration": 374,
    "start_time": "2023-07-20T22:21:32.885Z"
   },
   {
    "duration": 807,
    "start_time": "2023-07-20T22:21:33.260Z"
   },
   {
    "duration": 12,
    "start_time": "2023-07-20T22:21:34.068Z"
   },
   {
    "duration": 63,
    "start_time": "2023-07-20T22:21:34.082Z"
   },
   {
    "duration": 15,
    "start_time": "2023-07-20T22:21:34.146Z"
   },
   {
    "duration": 23,
    "start_time": "2023-07-20T22:21:34.164Z"
   },
   {
    "duration": 11,
    "start_time": "2023-07-20T22:21:34.188Z"
   },
   {
    "duration": 41,
    "start_time": "2023-07-20T22:21:34.201Z"
   },
   {
    "duration": 2,
    "start_time": "2023-07-20T22:21:34.243Z"
   },
   {
    "duration": 771,
    "start_time": "2023-07-20T22:21:34.247Z"
   },
   {
    "duration": 11,
    "start_time": "2023-07-20T22:21:35.020Z"
   },
   {
    "duration": 347,
    "start_time": "2023-07-20T22:21:35.032Z"
   },
   {
    "duration": 860,
    "start_time": "2023-07-20T22:21:35.381Z"
   },
   {
    "duration": 11,
    "start_time": "2023-07-20T22:21:36.242Z"
   },
   {
    "duration": 16,
    "start_time": "2023-07-20T22:21:36.254Z"
   },
   {
    "duration": 28,
    "start_time": "2023-07-20T22:21:36.271Z"
   },
   {
    "duration": 15,
    "start_time": "2023-07-20T22:21:36.300Z"
   },
   {
    "duration": 15,
    "start_time": "2023-07-20T22:21:36.317Z"
   },
   {
    "duration": 22,
    "start_time": "2023-07-20T22:21:36.334Z"
   },
   {
    "duration": 14,
    "start_time": "2023-07-20T22:21:36.358Z"
   },
   {
    "duration": 9,
    "start_time": "2023-07-20T22:21:36.374Z"
   },
   {
    "duration": 16,
    "start_time": "2023-07-20T22:21:36.384Z"
   },
   {
    "duration": 34,
    "start_time": "2023-07-20T22:21:36.401Z"
   },
   {
    "duration": 663,
    "start_time": "2023-07-20T22:21:36.436Z"
   },
   {
    "duration": 98,
    "start_time": "2023-07-20T22:21:37.103Z"
   },
   {
    "duration": 101,
    "start_time": "2023-07-20T22:21:37.202Z"
   },
   {
    "duration": 98,
    "start_time": "2023-07-20T22:21:37.305Z"
   },
   {
    "duration": 197,
    "start_time": "2023-07-20T22:21:37.409Z"
   },
   {
    "duration": 14,
    "start_time": "2023-07-20T22:21:37.607Z"
   },
   {
    "duration": 7,
    "start_time": "2023-07-20T22:21:37.622Z"
   },
   {
    "duration": 11,
    "start_time": "2023-07-20T22:21:37.630Z"
   },
   {
    "duration": 9,
    "start_time": "2023-07-20T22:21:37.643Z"
   },
   {
    "duration": 7,
    "start_time": "2023-07-20T22:21:37.653Z"
   },
   {
    "duration": 6,
    "start_time": "2023-07-20T22:21:37.661Z"
   },
   {
    "duration": 11,
    "start_time": "2023-07-20T22:21:37.669Z"
   },
   {
    "duration": 6,
    "start_time": "2023-07-20T22:21:37.681Z"
   },
   {
    "duration": 22,
    "start_time": "2023-07-20T22:21:37.688Z"
   },
   {
    "duration": 19,
    "start_time": "2023-07-20T22:21:37.711Z"
   },
   {
    "duration": 9,
    "start_time": "2023-07-20T22:21:37.731Z"
   },
   {
    "duration": 10,
    "start_time": "2023-07-20T22:21:37.741Z"
   },
   {
    "duration": 22,
    "start_time": "2023-07-20T22:21:37.752Z"
   },
   {
    "duration": 11,
    "start_time": "2023-07-20T22:21:37.775Z"
   },
   {
    "duration": 14,
    "start_time": "2023-07-20T22:21:37.787Z"
   },
   {
    "duration": 5,
    "start_time": "2023-07-20T22:21:37.802Z"
   },
   {
    "duration": 8,
    "start_time": "2023-07-20T22:21:37.809Z"
   },
   {
    "duration": 22,
    "start_time": "2023-07-20T22:21:37.819Z"
   },
   {
    "duration": 10,
    "start_time": "2023-07-20T22:21:37.842Z"
   },
   {
    "duration": 5,
    "start_time": "2023-07-20T22:21:37.854Z"
   },
   {
    "duration": 1292,
    "start_time": "2023-07-20T22:21:37.860Z"
   },
   {
    "duration": 8,
    "start_time": "2023-07-20T22:21:39.154Z"
   },
   {
    "duration": 758,
    "start_time": "2023-07-20T22:21:39.164Z"
   },
   {
    "duration": 1108,
    "start_time": "2023-07-20T22:21:39.923Z"
   },
   {
    "duration": 1775,
    "start_time": "2023-07-21T13:35:14.059Z"
   },
   {
    "duration": 1810,
    "start_time": "2023-07-21T13:35:15.837Z"
   },
   {
    "duration": 19,
    "start_time": "2023-07-21T13:35:17.649Z"
   },
   {
    "duration": 102,
    "start_time": "2023-07-21T13:35:17.671Z"
   },
   {
    "duration": 99,
    "start_time": "2023-07-21T13:35:17.776Z"
   },
   {
    "duration": 28,
    "start_time": "2023-07-21T13:35:17.877Z"
   },
   {
    "duration": 8,
    "start_time": "2023-07-21T13:35:17.908Z"
   },
   {
    "duration": 73,
    "start_time": "2023-07-21T13:35:17.918Z"
   },
   {
    "duration": 2,
    "start_time": "2023-07-21T13:35:17.993Z"
   },
   {
    "duration": 1042,
    "start_time": "2023-07-21T13:35:17.997Z"
   },
   {
    "duration": 26,
    "start_time": "2023-07-21T13:35:19.041Z"
   },
   {
    "duration": 391,
    "start_time": "2023-07-21T13:35:19.069Z"
   },
   {
    "duration": 938,
    "start_time": "2023-07-21T13:35:19.462Z"
   },
   {
    "duration": 17,
    "start_time": "2023-07-21T13:35:20.403Z"
   },
   {
    "duration": 87,
    "start_time": "2023-07-21T13:35:20.422Z"
   },
   {
    "duration": 26,
    "start_time": "2023-07-21T13:35:20.511Z"
   },
   {
    "duration": 46,
    "start_time": "2023-07-21T13:35:20.539Z"
   },
   {
    "duration": 9,
    "start_time": "2023-07-21T13:35:20.588Z"
   },
   {
    "duration": 50,
    "start_time": "2023-07-21T13:35:20.599Z"
   },
   {
    "duration": 16,
    "start_time": "2023-07-21T13:35:20.651Z"
   },
   {
    "duration": 1202,
    "start_time": "2023-07-21T13:35:20.669Z"
   },
   {
    "duration": 13,
    "start_time": "2023-07-21T13:35:21.873Z"
   },
   {
    "duration": 304,
    "start_time": "2023-07-21T13:35:21.888Z"
   },
   {
    "duration": 959,
    "start_time": "2023-07-21T13:35:22.194Z"
   },
   {
    "duration": 27,
    "start_time": "2023-07-21T13:35:23.156Z"
   },
   {
    "duration": 87,
    "start_time": "2023-07-21T13:35:23.185Z"
   },
   {
    "duration": 25,
    "start_time": "2023-07-21T13:35:23.274Z"
   },
   {
    "duration": 34,
    "start_time": "2023-07-21T13:35:23.301Z"
   },
   {
    "duration": 37,
    "start_time": "2023-07-21T13:35:23.337Z"
   },
   {
    "duration": 69,
    "start_time": "2023-07-21T13:35:23.376Z"
   },
   {
    "duration": 3,
    "start_time": "2023-07-21T13:35:23.447Z"
   },
   {
    "duration": 1161,
    "start_time": "2023-07-21T13:35:23.453Z"
   },
   {
    "duration": 14,
    "start_time": "2023-07-21T13:35:24.617Z"
   },
   {
    "duration": 563,
    "start_time": "2023-07-21T13:35:24.633Z"
   },
   {
    "duration": 972,
    "start_time": "2023-07-21T13:35:25.199Z"
   },
   {
    "duration": 17,
    "start_time": "2023-07-21T13:35:26.173Z"
   },
   {
    "duration": 41,
    "start_time": "2023-07-21T13:35:26.192Z"
   },
   {
    "duration": 51,
    "start_time": "2023-07-21T13:35:26.235Z"
   },
   {
    "duration": 35,
    "start_time": "2023-07-21T13:35:26.289Z"
   },
   {
    "duration": 27,
    "start_time": "2023-07-21T13:35:26.326Z"
   },
   {
    "duration": 16,
    "start_time": "2023-07-21T13:35:26.359Z"
   },
   {
    "duration": 48,
    "start_time": "2023-07-21T13:35:26.377Z"
   },
   {
    "duration": 34,
    "start_time": "2023-07-21T13:35:26.426Z"
   },
   {
    "duration": 20,
    "start_time": "2023-07-21T13:35:26.461Z"
   },
   {
    "duration": 23,
    "start_time": "2023-07-21T13:35:26.483Z"
   },
   {
    "duration": 664,
    "start_time": "2023-07-21T13:35:26.508Z"
   },
   {
    "duration": 96,
    "start_time": "2023-07-21T13:35:27.175Z"
   },
   {
    "duration": 99,
    "start_time": "2023-07-21T13:35:27.273Z"
   },
   {
    "duration": 205,
    "start_time": "2023-07-21T13:35:27.374Z"
   },
   {
    "duration": 86,
    "start_time": "2023-07-21T13:35:27.586Z"
   },
   {
    "duration": 7,
    "start_time": "2023-07-21T13:35:27.766Z"
   },
   {
    "duration": 23,
    "start_time": "2023-07-21T13:35:27.776Z"
   },
   {
    "duration": 37,
    "start_time": "2023-07-21T13:35:27.801Z"
   },
   {
    "duration": 23,
    "start_time": "2023-07-21T13:35:27.840Z"
   },
   {
    "duration": 28,
    "start_time": "2023-07-21T13:35:27.865Z"
   },
   {
    "duration": 31,
    "start_time": "2023-07-21T13:35:27.895Z"
   },
   {
    "duration": 39,
    "start_time": "2023-07-21T13:35:27.928Z"
   },
   {
    "duration": 17,
    "start_time": "2023-07-21T13:35:27.969Z"
   },
   {
    "duration": 34,
    "start_time": "2023-07-21T13:35:27.988Z"
   },
   {
    "duration": 29,
    "start_time": "2023-07-21T13:35:28.023Z"
   },
   {
    "duration": 19,
    "start_time": "2023-07-21T13:35:28.054Z"
   },
   {
    "duration": 28,
    "start_time": "2023-07-21T13:35:28.076Z"
   },
   {
    "duration": 21,
    "start_time": "2023-07-21T13:35:28.106Z"
   },
   {
    "duration": 7,
    "start_time": "2023-07-21T13:35:28.130Z"
   },
   {
    "duration": 6,
    "start_time": "2023-07-21T13:35:28.139Z"
   },
   {
    "duration": 15,
    "start_time": "2023-07-21T13:35:28.146Z"
   },
   {
    "duration": 9,
    "start_time": "2023-07-21T13:35:28.164Z"
   },
   {
    "duration": 8,
    "start_time": "2023-07-21T13:35:28.175Z"
   },
   {
    "duration": 11,
    "start_time": "2023-07-21T13:35:28.185Z"
   },
   {
    "duration": 16,
    "start_time": "2023-07-21T13:35:28.197Z"
   },
   {
    "duration": 49,
    "start_time": "2023-07-21T13:35:28.214Z"
   },
   {
    "duration": 1614,
    "start_time": "2023-07-21T13:53:55.795Z"
   },
   {
    "duration": 446,
    "start_time": "2023-07-21T13:53:57.411Z"
   },
   {
    "duration": 20,
    "start_time": "2023-07-21T13:53:57.860Z"
   },
   {
    "duration": 114,
    "start_time": "2023-07-21T13:53:57.883Z"
   },
   {
    "duration": 90,
    "start_time": "2023-07-21T13:53:57.999Z"
   },
   {
    "duration": 32,
    "start_time": "2023-07-21T13:53:58.091Z"
   },
   {
    "duration": 11,
    "start_time": "2023-07-21T13:53:58.126Z"
   },
   {
    "duration": 66,
    "start_time": "2023-07-21T13:53:58.140Z"
   },
   {
    "duration": 3,
    "start_time": "2023-07-21T13:53:58.208Z"
   },
   {
    "duration": 1082,
    "start_time": "2023-07-21T13:53:58.213Z"
   },
   {
    "duration": 15,
    "start_time": "2023-07-21T13:53:59.298Z"
   },
   {
    "duration": 406,
    "start_time": "2023-07-21T13:53:59.315Z"
   },
   {
    "duration": 1018,
    "start_time": "2023-07-21T13:53:59.723Z"
   },
   {
    "duration": 23,
    "start_time": "2023-07-21T13:54:00.743Z"
   },
   {
    "duration": 97,
    "start_time": "2023-07-21T13:54:00.769Z"
   },
   {
    "duration": 29,
    "start_time": "2023-07-21T13:54:00.869Z"
   },
   {
    "duration": 53,
    "start_time": "2023-07-21T13:54:00.900Z"
   },
   {
    "duration": 29,
    "start_time": "2023-07-21T13:54:00.955Z"
   },
   {
    "duration": 74,
    "start_time": "2023-07-21T13:54:00.986Z"
   },
   {
    "duration": 3,
    "start_time": "2023-07-21T13:54:01.062Z"
   },
   {
    "duration": 1095,
    "start_time": "2023-07-21T13:54:01.066Z"
   },
   {
    "duration": 17,
    "start_time": "2023-07-21T13:54:02.163Z"
   },
   {
    "duration": 618,
    "start_time": "2023-07-21T13:54:02.182Z"
   },
   {
    "duration": 967,
    "start_time": "2023-07-21T13:54:02.802Z"
   },
   {
    "duration": 17,
    "start_time": "2023-07-21T13:54:03.771Z"
   },
   {
    "duration": 89,
    "start_time": "2023-07-21T13:54:03.789Z"
   },
   {
    "duration": 32,
    "start_time": "2023-07-21T13:54:03.880Z"
   },
   {
    "duration": 65,
    "start_time": "2023-07-21T13:54:03.920Z"
   },
   {
    "duration": 9,
    "start_time": "2023-07-21T13:54:03.988Z"
   },
   {
    "duration": 106,
    "start_time": "2023-07-21T13:54:04.000Z"
   },
   {
    "duration": 3,
    "start_time": "2023-07-21T13:54:04.109Z"
   },
   {
    "duration": 1119,
    "start_time": "2023-07-21T13:54:04.115Z"
   },
   {
    "duration": 14,
    "start_time": "2023-07-21T13:54:05.236Z"
   },
   {
    "duration": 545,
    "start_time": "2023-07-21T13:54:05.252Z"
   },
   {
    "duration": 969,
    "start_time": "2023-07-21T13:54:05.800Z"
   },
   {
    "duration": 19,
    "start_time": "2023-07-21T13:54:06.771Z"
   },
   {
    "duration": 40,
    "start_time": "2023-07-21T13:54:06.792Z"
   },
   {
    "duration": 30,
    "start_time": "2023-07-21T13:54:06.834Z"
   },
   {
    "duration": 4,
    "start_time": "2023-07-21T13:54:06.866Z"
   },
   {
    "duration": 10,
    "start_time": "2023-07-21T13:54:06.871Z"
   },
   {
    "duration": 15,
    "start_time": "2023-07-21T13:54:06.884Z"
   },
   {
    "duration": 9,
    "start_time": "2023-07-21T13:54:06.901Z"
   },
   {
    "duration": 21,
    "start_time": "2023-07-21T13:54:06.912Z"
   },
   {
    "duration": 5,
    "start_time": "2023-07-21T13:54:06.937Z"
   },
   {
    "duration": 18,
    "start_time": "2023-07-21T13:54:06.943Z"
   },
   {
    "duration": 1104,
    "start_time": "2023-07-21T13:54:06.963Z"
   },
   {
    "duration": 10,
    "start_time": "2023-07-21T13:54:08.069Z"
   },
   {
    "duration": 195,
    "start_time": "2023-07-21T13:54:08.081Z"
   },
   {
    "duration": 93,
    "start_time": "2023-07-21T13:54:08.281Z"
   },
   {
    "duration": 189,
    "start_time": "2023-07-21T13:54:08.379Z"
   },
   {
    "duration": 42,
    "start_time": "2023-07-21T13:54:08.570Z"
   },
   {
    "duration": 43,
    "start_time": "2023-07-21T13:54:08.614Z"
   },
   {
    "duration": 29,
    "start_time": "2023-07-21T13:54:08.659Z"
   },
   {
    "duration": 42,
    "start_time": "2023-07-21T13:54:08.690Z"
   },
   {
    "duration": 44,
    "start_time": "2023-07-21T13:54:08.733Z"
   },
   {
    "duration": 40,
    "start_time": "2023-07-21T13:54:08.780Z"
   },
   {
    "duration": 45,
    "start_time": "2023-07-21T13:54:08.823Z"
   },
   {
    "duration": 34,
    "start_time": "2023-07-21T13:54:08.871Z"
   },
   {
    "duration": 31,
    "start_time": "2023-07-21T13:54:08.906Z"
   },
   {
    "duration": 33,
    "start_time": "2023-07-21T13:54:08.939Z"
   },
   {
    "duration": 28,
    "start_time": "2023-07-21T13:54:08.974Z"
   },
   {
    "duration": 56,
    "start_time": "2023-07-21T13:54:09.004Z"
   },
   {
    "duration": 103,
    "start_time": "2023-07-21T13:54:09.062Z"
   },
   {
    "duration": 28,
    "start_time": "2023-07-21T13:54:09.167Z"
   },
   {
    "duration": 79,
    "start_time": "2023-07-21T13:54:09.197Z"
   },
   {
    "duration": 32,
    "start_time": "2023-07-21T13:54:09.278Z"
   },
   {
    "duration": 25,
    "start_time": "2023-07-21T13:54:09.312Z"
   },
   {
    "duration": 23,
    "start_time": "2023-07-21T13:54:09.338Z"
   },
   {
    "duration": 24,
    "start_time": "2023-07-21T13:54:09.363Z"
   },
   {
    "duration": 34,
    "start_time": "2023-07-21T13:54:09.389Z"
   },
   {
    "duration": 50,
    "start_time": "2023-07-21T13:54:09.424Z"
   },
   {
    "duration": 116,
    "start_time": "2023-07-21T13:54:14.216Z"
   },
   {
    "duration": 14,
    "start_time": "2023-07-21T14:00:01.697Z"
   },
   {
    "duration": 1751,
    "start_time": "2023-07-21T14:03:05.380Z"
   },
   {
    "duration": 418,
    "start_time": "2023-07-21T14:03:07.134Z"
   },
   {
    "duration": 24,
    "start_time": "2023-07-21T14:03:07.554Z"
   },
   {
    "duration": 100,
    "start_time": "2023-07-21T14:03:07.579Z"
   },
   {
    "duration": 91,
    "start_time": "2023-07-21T14:03:07.682Z"
   },
   {
    "duration": 30,
    "start_time": "2023-07-21T14:03:07.775Z"
   },
   {
    "duration": 8,
    "start_time": "2023-07-21T14:03:07.807Z"
   },
   {
    "duration": 73,
    "start_time": "2023-07-21T14:03:07.817Z"
   },
   {
    "duration": 3,
    "start_time": "2023-07-21T14:03:07.891Z"
   },
   {
    "duration": 1040,
    "start_time": "2023-07-21T14:03:07.895Z"
   },
   {
    "duration": 14,
    "start_time": "2023-07-21T14:03:08.937Z"
   },
   {
    "duration": 346,
    "start_time": "2023-07-21T14:03:08.953Z"
   },
   {
    "duration": 1012,
    "start_time": "2023-07-21T14:03:09.301Z"
   },
   {
    "duration": 22,
    "start_time": "2023-07-21T14:03:10.317Z"
   },
   {
    "duration": 99,
    "start_time": "2023-07-21T14:03:10.342Z"
   },
   {
    "duration": 41,
    "start_time": "2023-07-21T14:03:10.444Z"
   },
   {
    "duration": 32,
    "start_time": "2023-07-21T14:03:10.487Z"
   },
   {
    "duration": 11,
    "start_time": "2023-07-21T14:03:10.521Z"
   },
   {
    "duration": 63,
    "start_time": "2023-07-21T14:03:10.534Z"
   },
   {
    "duration": 2,
    "start_time": "2023-07-21T14:03:10.600Z"
   },
   {
    "duration": 1104,
    "start_time": "2023-07-21T14:03:10.605Z"
   },
   {
    "duration": 15,
    "start_time": "2023-07-21T14:03:11.711Z"
   },
   {
    "duration": 564,
    "start_time": "2023-07-21T14:03:11.728Z"
   },
   {
    "duration": 1016,
    "start_time": "2023-07-21T14:03:12.295Z"
   },
   {
    "duration": 17,
    "start_time": "2023-07-21T14:03:13.313Z"
   },
   {
    "duration": 91,
    "start_time": "2023-07-21T14:03:13.331Z"
   },
   {
    "duration": 27,
    "start_time": "2023-07-21T14:03:13.424Z"
   },
   {
    "duration": 30,
    "start_time": "2023-07-21T14:03:13.468Z"
   },
   {
    "duration": 8,
    "start_time": "2023-07-21T14:03:13.500Z"
   },
   {
    "duration": 65,
    "start_time": "2023-07-21T14:03:13.510Z"
   },
   {
    "duration": 2,
    "start_time": "2023-07-21T14:03:13.577Z"
   },
   {
    "duration": 1214,
    "start_time": "2023-07-21T14:03:13.581Z"
   },
   {
    "duration": 14,
    "start_time": "2023-07-21T14:03:14.797Z"
   },
   {
    "duration": 476,
    "start_time": "2023-07-21T14:03:14.812Z"
   },
   {
    "duration": 998,
    "start_time": "2023-07-21T14:03:15.289Z"
   },
   {
    "duration": 18,
    "start_time": "2023-07-21T14:03:16.289Z"
   },
   {
    "duration": 26,
    "start_time": "2023-07-21T14:03:16.309Z"
   },
   {
    "duration": 39,
    "start_time": "2023-07-21T14:03:16.337Z"
   },
   {
    "duration": 3,
    "start_time": "2023-07-21T14:03:16.378Z"
   },
   {
    "duration": 17,
    "start_time": "2023-07-21T14:03:16.383Z"
   },
   {
    "duration": 6,
    "start_time": "2023-07-21T14:03:16.405Z"
   },
   {
    "duration": 15,
    "start_time": "2023-07-21T14:03:16.413Z"
   },
   {
    "duration": 11,
    "start_time": "2023-07-21T14:03:16.430Z"
   },
   {
    "duration": 19,
    "start_time": "2023-07-21T14:03:16.443Z"
   },
   {
    "duration": 11,
    "start_time": "2023-07-21T14:03:16.464Z"
   },
   {
    "duration": 890,
    "start_time": "2023-07-21T14:03:16.478Z"
   },
   {
    "duration": 6,
    "start_time": "2023-07-21T14:03:17.371Z"
   },
   {
    "duration": 90,
    "start_time": "2023-07-21T14:03:17.379Z"
   },
   {
    "duration": 99,
    "start_time": "2023-07-21T14:03:17.472Z"
   },
   {
    "duration": 100,
    "start_time": "2023-07-21T14:03:17.573Z"
   },
   {
    "duration": 97,
    "start_time": "2023-07-21T14:03:17.676Z"
   },
   {
    "duration": 9,
    "start_time": "2023-07-21T14:03:17.775Z"
   },
   {
    "duration": 4,
    "start_time": "2023-07-21T14:03:17.786Z"
   },
   {
    "duration": 23,
    "start_time": "2023-07-21T14:03:17.791Z"
   },
   {
    "duration": 21,
    "start_time": "2023-07-21T14:03:17.818Z"
   },
   {
    "duration": 13,
    "start_time": "2023-07-21T14:03:17.841Z"
   },
   {
    "duration": 25,
    "start_time": "2023-07-21T14:03:17.856Z"
   },
   {
    "duration": 21,
    "start_time": "2023-07-21T14:03:17.884Z"
   },
   {
    "duration": 56,
    "start_time": "2023-07-21T14:03:17.908Z"
   },
   {
    "duration": 39,
    "start_time": "2023-07-21T14:03:17.966Z"
   },
   {
    "duration": 31,
    "start_time": "2023-07-21T14:03:18.007Z"
   },
   {
    "duration": 41,
    "start_time": "2023-07-21T14:03:18.040Z"
   },
   {
    "duration": 72,
    "start_time": "2023-07-21T14:03:18.083Z"
   },
   {
    "duration": 46,
    "start_time": "2023-07-21T14:03:18.157Z"
   },
   {
    "duration": 56,
    "start_time": "2023-07-21T14:03:18.205Z"
   },
   {
    "duration": 28,
    "start_time": "2023-07-21T14:03:18.263Z"
   },
   {
    "duration": 33,
    "start_time": "2023-07-21T14:03:18.293Z"
   },
   {
    "duration": 41,
    "start_time": "2023-07-21T14:03:18.328Z"
   },
   {
    "duration": 12,
    "start_time": "2023-07-21T14:03:18.371Z"
   },
   {
    "duration": 47,
    "start_time": "2023-07-21T14:03:18.385Z"
   },
   {
    "duration": 28,
    "start_time": "2023-07-21T14:03:18.434Z"
   },
   {
    "duration": 123,
    "start_time": "2023-07-21T14:05:36.716Z"
   },
   {
    "duration": 20,
    "start_time": "2023-07-21T14:08:01.147Z"
   },
   {
    "duration": 15,
    "start_time": "2023-07-21T14:12:20.142Z"
   },
   {
    "duration": 17,
    "start_time": "2023-07-21T14:20:31.323Z"
   },
   {
    "duration": 19,
    "start_time": "2023-07-21T14:22:29.566Z"
   },
   {
    "duration": 16,
    "start_time": "2023-07-21T14:23:13.716Z"
   },
   {
    "duration": 1338,
    "start_time": "2023-07-21T14:23:50.726Z"
   },
   {
    "duration": 1592,
    "start_time": "2023-07-21T14:24:24.295Z"
   },
   {
    "duration": 445,
    "start_time": "2023-07-21T14:24:25.890Z"
   },
   {
    "duration": 17,
    "start_time": "2023-07-21T14:24:26.337Z"
   },
   {
    "duration": 103,
    "start_time": "2023-07-21T14:24:26.356Z"
   },
   {
    "duration": 82,
    "start_time": "2023-07-21T14:24:26.471Z"
   },
   {
    "duration": 47,
    "start_time": "2023-07-21T14:24:26.555Z"
   },
   {
    "duration": 8,
    "start_time": "2023-07-21T14:24:26.605Z"
   },
   {
    "duration": 59,
    "start_time": "2023-07-21T14:24:26.615Z"
   },
   {
    "duration": 3,
    "start_time": "2023-07-21T14:24:26.675Z"
   },
   {
    "duration": 1053,
    "start_time": "2023-07-21T14:24:26.687Z"
   },
   {
    "duration": 14,
    "start_time": "2023-07-21T14:24:27.742Z"
   },
   {
    "duration": 343,
    "start_time": "2023-07-21T14:24:27.767Z"
   },
   {
    "duration": 1052,
    "start_time": "2023-07-21T14:24:28.111Z"
   },
   {
    "duration": 21,
    "start_time": "2023-07-21T14:24:29.166Z"
   },
   {
    "duration": 98,
    "start_time": "2023-07-21T14:24:29.189Z"
   },
   {
    "duration": 27,
    "start_time": "2023-07-21T14:24:29.289Z"
   },
   {
    "duration": 29,
    "start_time": "2023-07-21T14:24:29.319Z"
   },
   {
    "duration": 14,
    "start_time": "2023-07-21T14:24:29.371Z"
   },
   {
    "duration": 61,
    "start_time": "2023-07-21T14:24:29.387Z"
   },
   {
    "duration": 3,
    "start_time": "2023-07-21T14:24:29.450Z"
   },
   {
    "duration": 1088,
    "start_time": "2023-07-21T14:24:29.454Z"
   },
   {
    "duration": 30,
    "start_time": "2023-07-21T14:24:30.545Z"
   },
   {
    "duration": 640,
    "start_time": "2023-07-21T14:24:30.580Z"
   },
   {
    "duration": 999,
    "start_time": "2023-07-21T14:24:31.222Z"
   },
   {
    "duration": 22,
    "start_time": "2023-07-21T14:24:32.224Z"
   },
   {
    "duration": 105,
    "start_time": "2023-07-21T14:24:32.249Z"
   },
   {
    "duration": 45,
    "start_time": "2023-07-21T14:24:32.358Z"
   },
   {
    "duration": 30,
    "start_time": "2023-07-21T14:24:32.408Z"
   },
   {
    "duration": 29,
    "start_time": "2023-07-21T14:24:32.441Z"
   },
   {
    "duration": 49,
    "start_time": "2023-07-21T14:24:32.472Z"
   },
   {
    "duration": 6,
    "start_time": "2023-07-21T14:24:32.523Z"
   },
   {
    "duration": 1199,
    "start_time": "2023-07-21T14:24:32.531Z"
   },
   {
    "duration": 14,
    "start_time": "2023-07-21T14:24:33.732Z"
   },
   {
    "duration": 581,
    "start_time": "2023-07-21T14:24:33.748Z"
   },
   {
    "duration": 1005,
    "start_time": "2023-07-21T14:24:34.331Z"
   },
   {
    "duration": 15,
    "start_time": "2023-07-21T14:24:35.338Z"
   },
   {
    "duration": 40,
    "start_time": "2023-07-21T14:24:35.355Z"
   },
   {
    "duration": 19,
    "start_time": "2023-07-21T14:24:35.397Z"
   },
   {
    "duration": 10,
    "start_time": "2023-07-21T14:24:35.418Z"
   },
   {
    "duration": 5,
    "start_time": "2023-07-21T14:24:35.430Z"
   },
   {
    "duration": 19,
    "start_time": "2023-07-21T14:24:35.437Z"
   },
   {
    "duration": 26,
    "start_time": "2023-07-21T14:24:35.458Z"
   },
   {
    "duration": 26,
    "start_time": "2023-07-21T14:24:35.486Z"
   },
   {
    "duration": 12,
    "start_time": "2023-07-21T14:24:35.514Z"
   },
   {
    "duration": 21,
    "start_time": "2023-07-21T14:24:35.528Z"
   },
   {
    "duration": 642,
    "start_time": "2023-07-21T14:24:35.550Z"
   },
   {
    "duration": 92,
    "start_time": "2023-07-21T14:24:36.195Z"
   },
   {
    "duration": 96,
    "start_time": "2023-07-21T14:24:36.291Z"
   },
   {
    "duration": 10,
    "start_time": "2023-07-21T14:24:36.469Z"
   },
   {
    "duration": 105,
    "start_time": "2023-07-21T14:24:36.482Z"
   },
   {
    "duration": 83,
    "start_time": "2023-07-21T14:24:36.591Z"
   },
   {
    "duration": 14,
    "start_time": "2023-07-21T14:24:36.675Z"
   },
   {
    "duration": 10,
    "start_time": "2023-07-21T14:24:36.691Z"
   },
   {
    "duration": 12,
    "start_time": "2023-07-21T14:24:36.702Z"
   },
   {
    "duration": 22,
    "start_time": "2023-07-21T14:24:36.716Z"
   },
   {
    "duration": 14,
    "start_time": "2023-07-21T14:24:36.740Z"
   },
   {
    "duration": 6,
    "start_time": "2023-07-21T14:24:36.756Z"
   },
   {
    "duration": 13,
    "start_time": "2023-07-21T14:24:36.763Z"
   },
   {
    "duration": 15,
    "start_time": "2023-07-21T14:24:36.778Z"
   },
   {
    "duration": 8,
    "start_time": "2023-07-21T14:24:36.795Z"
   },
   {
    "duration": 14,
    "start_time": "2023-07-21T14:24:36.805Z"
   },
   {
    "duration": 5,
    "start_time": "2023-07-21T14:24:36.821Z"
   },
   {
    "duration": 23,
    "start_time": "2023-07-21T14:24:36.828Z"
   },
   {
    "duration": 15,
    "start_time": "2023-07-21T14:24:36.853Z"
   },
   {
    "duration": 22,
    "start_time": "2023-07-21T14:24:36.870Z"
   },
   {
    "duration": 8,
    "start_time": "2023-07-21T14:24:36.894Z"
   },
   {
    "duration": 17,
    "start_time": "2023-07-21T14:24:36.905Z"
   },
   {
    "duration": 7,
    "start_time": "2023-07-21T14:24:36.924Z"
   },
   {
    "duration": 12,
    "start_time": "2023-07-21T14:24:36.932Z"
   },
   {
    "duration": 14,
    "start_time": "2023-07-21T14:24:36.946Z"
   },
   {
    "duration": 31,
    "start_time": "2023-07-21T14:24:36.962Z"
   },
   {
    "duration": 1296,
    "start_time": "2023-07-21T14:24:56.395Z"
   },
   {
    "duration": 11,
    "start_time": "2023-07-21T14:25:04.592Z"
   },
   {
    "duration": 20,
    "start_time": "2023-07-21T14:25:27.016Z"
   },
   {
    "duration": 1450,
    "start_time": "2023-07-21T14:27:00.552Z"
   },
   {
    "duration": 9,
    "start_time": "2023-07-21T14:28:11.910Z"
   },
   {
    "duration": 1807,
    "start_time": "2023-07-21T14:28:29.557Z"
   },
   {
    "duration": 490,
    "start_time": "2023-07-21T14:28:31.367Z"
   },
   {
    "duration": 32,
    "start_time": "2023-07-21T14:28:31.859Z"
   },
   {
    "duration": 128,
    "start_time": "2023-07-21T14:28:31.893Z"
   },
   {
    "duration": 93,
    "start_time": "2023-07-21T14:28:32.024Z"
   },
   {
    "duration": 32,
    "start_time": "2023-07-21T14:28:32.119Z"
   },
   {
    "duration": 75,
    "start_time": "2023-07-21T14:28:32.172Z"
   },
   {
    "duration": 83,
    "start_time": "2023-07-21T14:28:32.249Z"
   },
   {
    "duration": 3,
    "start_time": "2023-07-21T14:28:32.335Z"
   },
   {
    "duration": 1177,
    "start_time": "2023-07-21T14:28:32.339Z"
   },
   {
    "duration": 16,
    "start_time": "2023-07-21T14:28:33.518Z"
   },
   {
    "duration": 386,
    "start_time": "2023-07-21T14:28:33.535Z"
   },
   {
    "duration": 1061,
    "start_time": "2023-07-21T14:28:33.923Z"
   },
   {
    "duration": 16,
    "start_time": "2023-07-21T14:28:34.988Z"
   },
   {
    "duration": 89,
    "start_time": "2023-07-21T14:28:35.006Z"
   },
   {
    "duration": 27,
    "start_time": "2023-07-21T14:28:35.097Z"
   },
   {
    "duration": 49,
    "start_time": "2023-07-21T14:28:35.125Z"
   },
   {
    "duration": 10,
    "start_time": "2023-07-21T14:28:35.176Z"
   },
   {
    "duration": 49,
    "start_time": "2023-07-21T14:28:35.188Z"
   },
   {
    "duration": 3,
    "start_time": "2023-07-21T14:28:35.238Z"
   },
   {
    "duration": 1161,
    "start_time": "2023-07-21T14:28:35.243Z"
   },
   {
    "duration": 15,
    "start_time": "2023-07-21T14:28:36.406Z"
   },
   {
    "duration": 564,
    "start_time": "2023-07-21T14:28:36.422Z"
   },
   {
    "duration": 964,
    "start_time": "2023-07-21T14:28:36.988Z"
   },
   {
    "duration": 25,
    "start_time": "2023-07-21T14:28:37.953Z"
   },
   {
    "duration": 69,
    "start_time": "2023-07-21T14:28:37.985Z"
   },
   {
    "duration": 28,
    "start_time": "2023-07-21T14:28:38.069Z"
   },
   {
    "duration": 42,
    "start_time": "2023-07-21T14:28:38.100Z"
   },
   {
    "duration": 30,
    "start_time": "2023-07-21T14:28:38.145Z"
   },
   {
    "duration": 47,
    "start_time": "2023-07-21T14:28:38.177Z"
   },
   {
    "duration": 2,
    "start_time": "2023-07-21T14:28:38.226Z"
   },
   {
    "duration": 1130,
    "start_time": "2023-07-21T14:28:38.230Z"
   },
   {
    "duration": 21,
    "start_time": "2023-07-21T14:28:39.362Z"
   },
   {
    "duration": 509,
    "start_time": "2023-07-21T14:28:39.385Z"
   },
   {
    "duration": 1033,
    "start_time": "2023-07-21T14:28:39.896Z"
   },
   {
    "duration": 16,
    "start_time": "2023-07-21T14:28:40.931Z"
   },
   {
    "duration": 36,
    "start_time": "2023-07-21T14:28:40.948Z"
   },
   {
    "duration": 31,
    "start_time": "2023-07-21T14:28:40.987Z"
   },
   {
    "duration": 17,
    "start_time": "2023-07-21T14:28:41.021Z"
   },
   {
    "duration": 37,
    "start_time": "2023-07-21T14:28:41.040Z"
   },
   {
    "duration": 20,
    "start_time": "2023-07-21T14:28:41.086Z"
   },
   {
    "duration": 28,
    "start_time": "2023-07-21T14:28:41.108Z"
   },
   {
    "duration": 30,
    "start_time": "2023-07-21T14:28:41.138Z"
   },
   {
    "duration": 18,
    "start_time": "2023-07-21T14:28:41.181Z"
   },
   {
    "duration": 10,
    "start_time": "2023-07-21T14:28:41.202Z"
   },
   {
    "duration": 1061,
    "start_time": "2023-07-21T14:28:41.214Z"
   },
   {
    "duration": 84,
    "start_time": "2023-07-21T14:28:42.283Z"
   },
   {
    "duration": 25,
    "start_time": "2023-07-21T14:28:42.369Z"
   },
   {
    "duration": 92,
    "start_time": "2023-07-21T14:28:42.397Z"
   },
   {
    "duration": 15,
    "start_time": "2023-07-21T14:28:42.569Z"
   },
   {
    "duration": 82,
    "start_time": "2023-07-21T14:28:42.589Z"
   },
   {
    "duration": 19,
    "start_time": "2023-07-21T14:28:42.673Z"
   },
   {
    "duration": 3,
    "start_time": "2023-07-21T14:28:42.694Z"
   },
   {
    "duration": 22,
    "start_time": "2023-07-21T14:28:42.698Z"
   },
   {
    "duration": 7,
    "start_time": "2023-07-21T14:28:42.722Z"
   },
   {
    "duration": 10,
    "start_time": "2023-07-21T14:28:42.731Z"
   },
   {
    "duration": 12,
    "start_time": "2023-07-21T14:28:42.742Z"
   },
   {
    "duration": 15,
    "start_time": "2023-07-21T14:28:42.755Z"
   },
   {
    "duration": 6,
    "start_time": "2023-07-21T14:28:42.773Z"
   },
   {
    "duration": 15,
    "start_time": "2023-07-21T14:28:42.781Z"
   },
   {
    "duration": 7,
    "start_time": "2023-07-21T14:28:42.799Z"
   },
   {
    "duration": 16,
    "start_time": "2023-07-21T14:28:42.808Z"
   },
   {
    "duration": 14,
    "start_time": "2023-07-21T14:28:42.827Z"
   },
   {
    "duration": 37,
    "start_time": "2023-07-21T14:28:42.845Z"
   },
   {
    "duration": 3,
    "start_time": "2023-07-21T14:28:42.885Z"
   },
   {
    "duration": 6,
    "start_time": "2023-07-21T14:28:42.890Z"
   },
   {
    "duration": 7,
    "start_time": "2023-07-21T14:28:42.899Z"
   },
   {
    "duration": 29,
    "start_time": "2023-07-21T14:28:42.908Z"
   },
   {
    "duration": 7,
    "start_time": "2023-07-21T14:28:42.939Z"
   },
   {
    "duration": 7,
    "start_time": "2023-07-21T14:28:42.948Z"
   },
   {
    "duration": 17,
    "start_time": "2023-07-21T14:28:42.956Z"
   },
   {
    "duration": 1431,
    "start_time": "2023-07-21T14:28:42.978Z"
   },
   {
    "duration": 11,
    "start_time": "2023-07-21T14:28:44.410Z"
   },
   {
    "duration": 980,
    "start_time": "2023-07-21T14:28:44.424Z"
   },
   {
    "duration": 1564,
    "start_time": "2023-07-21T14:28:45.407Z"
   },
   {
    "duration": 1756,
    "start_time": "2023-07-21T14:33:02.293Z"
   },
   {
    "duration": 473,
    "start_time": "2023-07-21T14:33:04.051Z"
   },
   {
    "duration": 17,
    "start_time": "2023-07-21T14:33:04.526Z"
   },
   {
    "duration": 95,
    "start_time": "2023-07-21T14:33:04.544Z"
   },
   {
    "duration": 94,
    "start_time": "2023-07-21T14:33:04.642Z"
   },
   {
    "duration": 51,
    "start_time": "2023-07-21T14:33:04.738Z"
   },
   {
    "duration": 10,
    "start_time": "2023-07-21T14:33:04.791Z"
   },
   {
    "duration": 72,
    "start_time": "2023-07-21T14:33:04.803Z"
   },
   {
    "duration": 6,
    "start_time": "2023-07-21T14:33:04.877Z"
   },
   {
    "duration": 1094,
    "start_time": "2023-07-21T14:33:04.886Z"
   },
   {
    "duration": 15,
    "start_time": "2023-07-21T14:33:05.982Z"
   },
   {
    "duration": 353,
    "start_time": "2023-07-21T14:33:05.999Z"
   },
   {
    "duration": 995,
    "start_time": "2023-07-21T14:33:06.353Z"
   },
   {
    "duration": 25,
    "start_time": "2023-07-21T14:33:07.351Z"
   },
   {
    "duration": 72,
    "start_time": "2023-07-21T14:33:07.378Z"
   },
   {
    "duration": 44,
    "start_time": "2023-07-21T14:33:07.452Z"
   },
   {
    "duration": 30,
    "start_time": "2023-07-21T14:33:07.498Z"
   },
   {
    "duration": 10,
    "start_time": "2023-07-21T14:33:07.530Z"
   },
   {
    "duration": 84,
    "start_time": "2023-07-21T14:33:07.542Z"
   },
   {
    "duration": 3,
    "start_time": "2023-07-21T14:33:07.628Z"
   },
   {
    "duration": 1122,
    "start_time": "2023-07-21T14:33:07.632Z"
   },
   {
    "duration": 31,
    "start_time": "2023-07-21T14:33:08.756Z"
   },
   {
    "duration": 506,
    "start_time": "2023-07-21T14:33:08.789Z"
   },
   {
    "duration": 999,
    "start_time": "2023-07-21T14:33:09.297Z"
   },
   {
    "duration": 14,
    "start_time": "2023-07-21T14:33:10.298Z"
   },
   {
    "duration": 94,
    "start_time": "2023-07-21T14:33:10.314Z"
   },
   {
    "duration": 25,
    "start_time": "2023-07-21T14:33:10.410Z"
   },
   {
    "duration": 48,
    "start_time": "2023-07-21T14:33:10.437Z"
   },
   {
    "duration": 7,
    "start_time": "2023-07-21T14:33:10.487Z"
   },
   {
    "duration": 43,
    "start_time": "2023-07-21T14:33:10.496Z"
   },
   {
    "duration": 3,
    "start_time": "2023-07-21T14:33:10.540Z"
   },
   {
    "duration": 1102,
    "start_time": "2023-07-21T14:33:10.545Z"
   },
   {
    "duration": 34,
    "start_time": "2023-07-21T14:33:11.649Z"
   },
   {
    "duration": 502,
    "start_time": "2023-07-21T14:33:11.686Z"
   },
   {
    "duration": 1016,
    "start_time": "2023-07-21T14:33:12.191Z"
   },
   {
    "duration": 18,
    "start_time": "2023-07-21T14:33:13.209Z"
   },
   {
    "duration": 36,
    "start_time": "2023-07-21T14:33:13.228Z"
   },
   {
    "duration": 25,
    "start_time": "2023-07-21T14:33:13.266Z"
   },
   {
    "duration": 3,
    "start_time": "2023-07-21T14:33:13.294Z"
   },
   {
    "duration": 6,
    "start_time": "2023-07-21T14:33:13.298Z"
   },
   {
    "duration": 4,
    "start_time": "2023-07-21T14:33:13.309Z"
   },
   {
    "duration": 8,
    "start_time": "2023-07-21T14:33:13.315Z"
   },
   {
    "duration": 8,
    "start_time": "2023-07-21T14:33:13.325Z"
   },
   {
    "duration": 6,
    "start_time": "2023-07-21T14:33:13.335Z"
   },
   {
    "duration": 13,
    "start_time": "2023-07-21T14:33:13.342Z"
   },
   {
    "duration": 913,
    "start_time": "2023-07-21T14:33:13.373Z"
   },
   {
    "duration": 99,
    "start_time": "2023-07-21T14:33:14.375Z"
   },
   {
    "duration": 98,
    "start_time": "2023-07-21T14:33:14.476Z"
   },
   {
    "duration": 13,
    "start_time": "2023-07-21T14:33:14.580Z"
   },
   {
    "duration": 11,
    "start_time": "2023-07-21T14:33:14.673Z"
   },
   {
    "duration": 86,
    "start_time": "2023-07-21T14:33:14.693Z"
   },
   {
    "duration": 12,
    "start_time": "2023-07-21T14:33:14.781Z"
   },
   {
    "duration": 6,
    "start_time": "2023-07-21T14:33:14.795Z"
   },
   {
    "duration": 14,
    "start_time": "2023-07-21T14:33:14.803Z"
   },
   {
    "duration": 7,
    "start_time": "2023-07-21T14:33:14.819Z"
   },
   {
    "duration": 9,
    "start_time": "2023-07-21T14:33:14.827Z"
   },
   {
    "duration": 5,
    "start_time": "2023-07-21T14:33:14.837Z"
   },
   {
    "duration": 28,
    "start_time": "2023-07-21T14:33:14.844Z"
   },
   {
    "duration": 12,
    "start_time": "2023-07-21T14:33:14.875Z"
   },
   {
    "duration": 10,
    "start_time": "2023-07-21T14:33:14.889Z"
   },
   {
    "duration": 13,
    "start_time": "2023-07-21T14:33:14.901Z"
   },
   {
    "duration": 5,
    "start_time": "2023-07-21T14:33:14.916Z"
   },
   {
    "duration": 8,
    "start_time": "2023-07-21T14:33:14.923Z"
   },
   {
    "duration": 7,
    "start_time": "2023-07-21T14:33:14.933Z"
   },
   {
    "duration": 27,
    "start_time": "2023-07-21T14:33:14.941Z"
   },
   {
    "duration": 15,
    "start_time": "2023-07-21T14:33:14.969Z"
   },
   {
    "duration": 6,
    "start_time": "2023-07-21T14:33:14.986Z"
   },
   {
    "duration": 6,
    "start_time": "2023-07-21T14:33:14.994Z"
   },
   {
    "duration": 47,
    "start_time": "2023-07-21T14:33:15.002Z"
   },
   {
    "duration": 33,
    "start_time": "2023-07-21T14:33:15.051Z"
   },
   {
    "duration": 21,
    "start_time": "2023-07-21T14:33:15.086Z"
   },
   {
    "duration": 1432,
    "start_time": "2023-07-21T14:33:15.109Z"
   },
   {
    "duration": 10,
    "start_time": "2023-07-21T14:33:16.543Z"
   },
   {
    "duration": 918,
    "start_time": "2023-07-21T14:33:16.555Z"
   },
   {
    "duration": 1466,
    "start_time": "2023-07-21T14:33:17.475Z"
   },
   {
    "duration": 2001,
    "start_time": "2023-07-22T09:59:15.302Z"
   },
   {
    "duration": 2398,
    "start_time": "2023-07-22T09:59:17.306Z"
   },
   {
    "duration": 16,
    "start_time": "2023-07-22T09:59:19.706Z"
   },
   {
    "duration": 94,
    "start_time": "2023-07-22T09:59:19.723Z"
   },
   {
    "duration": 81,
    "start_time": "2023-07-22T09:59:19.819Z"
   },
   {
    "duration": 30,
    "start_time": "2023-07-22T09:59:19.902Z"
   },
   {
    "duration": 8,
    "start_time": "2023-07-22T09:59:19.934Z"
   },
   {
    "duration": 69,
    "start_time": "2023-07-22T09:59:19.944Z"
   },
   {
    "duration": 3,
    "start_time": "2023-07-22T09:59:20.014Z"
   },
   {
    "duration": 1115,
    "start_time": "2023-07-22T09:59:20.019Z"
   },
   {
    "duration": 13,
    "start_time": "2023-07-22T09:59:21.136Z"
   },
   {
    "duration": 374,
    "start_time": "2023-07-22T09:59:21.151Z"
   },
   {
    "duration": 1059,
    "start_time": "2023-07-22T09:59:21.527Z"
   },
   {
    "duration": 17,
    "start_time": "2023-07-22T09:59:22.596Z"
   },
   {
    "duration": 95,
    "start_time": "2023-07-22T09:59:22.615Z"
   },
   {
    "duration": 35,
    "start_time": "2023-07-22T09:59:22.713Z"
   },
   {
    "duration": 61,
    "start_time": "2023-07-22T09:59:22.750Z"
   },
   {
    "duration": 11,
    "start_time": "2023-07-22T09:59:22.816Z"
   },
   {
    "duration": 68,
    "start_time": "2023-07-22T09:59:22.829Z"
   },
   {
    "duration": 15,
    "start_time": "2023-07-22T09:59:22.899Z"
   },
   {
    "duration": 1239,
    "start_time": "2023-07-22T09:59:22.918Z"
   },
   {
    "duration": 34,
    "start_time": "2023-07-22T09:59:24.159Z"
   },
   {
    "duration": 539,
    "start_time": "2023-07-22T09:59:24.199Z"
   },
   {
    "duration": 1011,
    "start_time": "2023-07-22T09:59:24.740Z"
   },
   {
    "duration": 34,
    "start_time": "2023-07-22T09:59:25.753Z"
   },
   {
    "duration": 78,
    "start_time": "2023-07-22T09:59:25.789Z"
   },
   {
    "duration": 32,
    "start_time": "2023-07-22T09:59:25.868Z"
   },
   {
    "duration": 30,
    "start_time": "2023-07-22T09:59:25.903Z"
   },
   {
    "duration": 9,
    "start_time": "2023-07-22T09:59:25.935Z"
   },
   {
    "duration": 57,
    "start_time": "2023-07-22T09:59:25.971Z"
   },
   {
    "duration": 3,
    "start_time": "2023-07-22T09:59:26.030Z"
   },
   {
    "duration": 1200,
    "start_time": "2023-07-22T09:59:26.035Z"
   },
   {
    "duration": 33,
    "start_time": "2023-07-22T09:59:27.238Z"
   },
   {
    "duration": 495,
    "start_time": "2023-07-22T09:59:27.276Z"
   },
   {
    "duration": 1055,
    "start_time": "2023-07-22T09:59:27.773Z"
   },
   {
    "duration": 16,
    "start_time": "2023-07-22T09:59:28.830Z"
   },
   {
    "duration": 38,
    "start_time": "2023-07-22T09:59:28.848Z"
   },
   {
    "duration": 24,
    "start_time": "2023-07-22T09:59:28.890Z"
   },
   {
    "duration": 4,
    "start_time": "2023-07-22T09:59:28.917Z"
   },
   {
    "duration": 4,
    "start_time": "2023-07-22T09:59:28.923Z"
   },
   {
    "duration": 2,
    "start_time": "2023-07-22T09:59:28.933Z"
   },
   {
    "duration": 5,
    "start_time": "2023-07-22T09:59:28.937Z"
   },
   {
    "duration": 8,
    "start_time": "2023-07-22T09:59:28.967Z"
   },
   {
    "duration": 13,
    "start_time": "2023-07-22T09:59:28.977Z"
   },
   {
    "duration": 6,
    "start_time": "2023-07-22T09:59:28.992Z"
   },
   {
    "duration": 1194,
    "start_time": "2023-07-22T09:59:29.000Z"
   },
   {
    "duration": 80,
    "start_time": "2023-07-22T09:59:30.197Z"
   },
   {
    "duration": 122,
    "start_time": "2023-07-22T09:59:30.281Z"
   },
   {
    "duration": 170,
    "start_time": "2023-07-22T09:59:30.406Z"
   },
   {
    "duration": 10,
    "start_time": "2023-07-22T09:59:30.578Z"
   },
   {
    "duration": 116,
    "start_time": "2023-07-22T09:59:30.590Z"
   },
   {
    "duration": 13,
    "start_time": "2023-07-22T09:59:30.709Z"
   },
   {
    "duration": 57,
    "start_time": "2023-07-22T09:59:30.724Z"
   },
   {
    "duration": 42,
    "start_time": "2023-07-22T09:59:30.785Z"
   },
   {
    "duration": 68,
    "start_time": "2023-07-22T09:59:30.828Z"
   },
   {
    "duration": 56,
    "start_time": "2023-07-22T09:59:30.898Z"
   },
   {
    "duration": 107,
    "start_time": "2023-07-22T09:59:30.956Z"
   },
   {
    "duration": 41,
    "start_time": "2023-07-22T09:59:31.065Z"
   },
   {
    "duration": 80,
    "start_time": "2023-07-22T09:59:31.111Z"
   },
   {
    "duration": 51,
    "start_time": "2023-07-22T09:59:31.198Z"
   },
   {
    "duration": 47,
    "start_time": "2023-07-22T09:59:31.251Z"
   },
   {
    "duration": 32,
    "start_time": "2023-07-22T09:59:31.300Z"
   },
   {
    "duration": 50,
    "start_time": "2023-07-22T09:59:31.334Z"
   },
   {
    "duration": 37,
    "start_time": "2023-07-22T09:59:31.391Z"
   },
   {
    "duration": 45,
    "start_time": "2023-07-22T09:59:31.431Z"
   },
   {
    "duration": 25,
    "start_time": "2023-07-22T09:59:31.478Z"
   },
   {
    "duration": 53,
    "start_time": "2023-07-22T09:59:31.506Z"
   },
   {
    "duration": 35,
    "start_time": "2023-07-22T09:59:31.561Z"
   },
   {
    "duration": 13,
    "start_time": "2023-07-22T09:59:31.602Z"
   },
   {
    "duration": 26,
    "start_time": "2023-07-22T09:59:31.617Z"
   },
   {
    "duration": 47,
    "start_time": "2023-07-22T09:59:31.645Z"
   },
   {
    "duration": 1634,
    "start_time": "2023-07-22T09:59:31.695Z"
   },
   {
    "duration": 10,
    "start_time": "2023-07-22T09:59:33.332Z"
   },
   {
    "duration": 962,
    "start_time": "2023-07-22T09:59:33.344Z"
   },
   {
    "duration": 1498,
    "start_time": "2023-07-22T09:59:34.308Z"
   },
   {
    "duration": 13,
    "start_time": "2023-07-22T10:00:28.110Z"
   },
   {
    "duration": 7,
    "start_time": "2023-07-22T10:00:31.402Z"
   },
   {
    "duration": 7,
    "start_time": "2023-07-22T10:00:49.540Z"
   },
   {
    "duration": 5,
    "start_time": "2023-07-22T10:02:19.043Z"
   },
   {
    "duration": 7,
    "start_time": "2023-07-22T10:02:32.514Z"
   },
   {
    "duration": 49,
    "start_time": "2023-07-22T11:57:55.444Z"
   },
   {
    "duration": 1678,
    "start_time": "2023-07-22T11:58:05.596Z"
   },
   {
    "duration": 759,
    "start_time": "2023-07-22T11:58:07.276Z"
   },
   {
    "duration": 13,
    "start_time": "2023-07-22T11:58:08.037Z"
   },
   {
    "duration": 76,
    "start_time": "2023-07-22T11:58:08.052Z"
   },
   {
    "duration": 59,
    "start_time": "2023-07-22T11:58:08.129Z"
   },
   {
    "duration": 40,
    "start_time": "2023-07-22T11:58:08.190Z"
   },
   {
    "duration": 6,
    "start_time": "2023-07-22T11:58:08.231Z"
   },
   {
    "duration": 43,
    "start_time": "2023-07-22T11:58:08.239Z"
   },
   {
    "duration": 2,
    "start_time": "2023-07-22T11:58:08.284Z"
   },
   {
    "duration": 871,
    "start_time": "2023-07-22T11:58:08.288Z"
   },
   {
    "duration": 12,
    "start_time": "2023-07-22T11:58:09.160Z"
   },
   {
    "duration": 377,
    "start_time": "2023-07-22T11:58:09.174Z"
   },
   {
    "duration": 857,
    "start_time": "2023-07-22T11:58:09.552Z"
   },
   {
    "duration": 21,
    "start_time": "2023-07-22T11:58:10.411Z"
   },
   {
    "duration": 59,
    "start_time": "2023-07-22T11:58:10.434Z"
   },
   {
    "duration": 32,
    "start_time": "2023-07-22T11:58:10.495Z"
   },
   {
    "duration": 22,
    "start_time": "2023-07-22T11:58:10.529Z"
   },
   {
    "duration": 8,
    "start_time": "2023-07-22T11:58:10.553Z"
   },
   {
    "duration": 38,
    "start_time": "2023-07-22T11:58:10.562Z"
   },
   {
    "duration": 20,
    "start_time": "2023-07-22T11:58:10.601Z"
   },
   {
    "duration": 853,
    "start_time": "2023-07-22T11:58:10.622Z"
   },
   {
    "duration": 12,
    "start_time": "2023-07-22T11:58:11.477Z"
   },
   {
    "duration": 439,
    "start_time": "2023-07-22T11:58:11.491Z"
   },
   {
    "duration": 885,
    "start_time": "2023-07-22T11:58:11.932Z"
   },
   {
    "duration": 15,
    "start_time": "2023-07-22T11:58:12.818Z"
   },
   {
    "duration": 68,
    "start_time": "2023-07-22T11:58:12.835Z"
   },
   {
    "duration": 19,
    "start_time": "2023-07-22T11:58:12.920Z"
   },
   {
    "duration": 20,
    "start_time": "2023-07-22T11:58:12.944Z"
   },
   {
    "duration": 6,
    "start_time": "2023-07-22T11:58:12.966Z"
   },
   {
    "duration": 61,
    "start_time": "2023-07-22T11:58:12.974Z"
   },
   {
    "duration": 2,
    "start_time": "2023-07-22T11:58:13.037Z"
   },
   {
    "duration": 929,
    "start_time": "2023-07-22T11:58:13.041Z"
   },
   {
    "duration": 13,
    "start_time": "2023-07-22T11:58:13.972Z"
   },
   {
    "duration": 436,
    "start_time": "2023-07-22T11:58:13.987Z"
   },
   {
    "duration": 903,
    "start_time": "2023-07-22T11:58:14.425Z"
   },
   {
    "duration": 12,
    "start_time": "2023-07-22T11:58:15.330Z"
   },
   {
    "duration": 15,
    "start_time": "2023-07-22T11:58:15.344Z"
   },
   {
    "duration": 17,
    "start_time": "2023-07-22T11:58:15.361Z"
   },
   {
    "duration": 4,
    "start_time": "2023-07-22T11:58:15.380Z"
   },
   {
    "duration": 6,
    "start_time": "2023-07-22T11:58:15.386Z"
   },
   {
    "duration": 32,
    "start_time": "2023-07-22T11:58:15.394Z"
   },
   {
    "duration": 9,
    "start_time": "2023-07-22T11:58:15.428Z"
   },
   {
    "duration": 24,
    "start_time": "2023-07-22T11:58:15.438Z"
   },
   {
    "duration": 5,
    "start_time": "2023-07-22T11:58:15.465Z"
   },
   {
    "duration": 13,
    "start_time": "2023-07-22T11:58:15.471Z"
   },
   {
    "duration": 736,
    "start_time": "2023-07-22T11:58:15.486Z"
   },
   {
    "duration": 97,
    "start_time": "2023-07-22T11:58:16.226Z"
   },
   {
    "duration": 97,
    "start_time": "2023-07-22T11:58:16.325Z"
   },
   {
    "duration": 105,
    "start_time": "2023-07-22T11:58:16.425Z"
   },
   {
    "duration": 92,
    "start_time": "2023-07-22T11:58:16.533Z"
   },
   {
    "duration": 93,
    "start_time": "2023-07-22T11:58:16.627Z"
   },
   {
    "duration": 13,
    "start_time": "2023-07-22T11:58:16.722Z"
   },
   {
    "duration": 9,
    "start_time": "2023-07-22T11:58:16.737Z"
   },
   {
    "duration": 6,
    "start_time": "2023-07-22T11:58:16.747Z"
   },
   {
    "duration": 10,
    "start_time": "2023-07-22T11:58:16.754Z"
   },
   {
    "duration": 19,
    "start_time": "2023-07-22T11:58:16.765Z"
   },
   {
    "duration": 10,
    "start_time": "2023-07-22T11:58:16.787Z"
   },
   {
    "duration": 19,
    "start_time": "2023-07-22T11:58:16.800Z"
   },
   {
    "duration": 15,
    "start_time": "2023-07-22T11:58:16.821Z"
   },
   {
    "duration": 21,
    "start_time": "2023-07-22T11:58:16.837Z"
   },
   {
    "duration": 7,
    "start_time": "2023-07-22T11:58:16.859Z"
   },
   {
    "duration": 15,
    "start_time": "2023-07-22T11:58:16.867Z"
   },
   {
    "duration": 11,
    "start_time": "2023-07-22T11:58:16.884Z"
   },
   {
    "duration": 13,
    "start_time": "2023-07-22T11:58:16.896Z"
   },
   {
    "duration": 15,
    "start_time": "2023-07-22T11:58:16.911Z"
   },
   {
    "duration": 5,
    "start_time": "2023-07-22T11:58:16.928Z"
   },
   {
    "duration": 14,
    "start_time": "2023-07-22T11:58:16.935Z"
   },
   {
    "duration": 22,
    "start_time": "2023-07-22T11:58:16.951Z"
   },
   {
    "duration": 11,
    "start_time": "2023-07-22T11:58:16.975Z"
   },
   {
    "duration": 16,
    "start_time": "2023-07-22T11:58:16.987Z"
   },
   {
    "duration": 12,
    "start_time": "2023-07-22T11:58:17.004Z"
   },
   {
    "duration": 15,
    "start_time": "2023-07-22T11:58:17.018Z"
   },
   {
    "duration": 128,
    "start_time": "2023-07-22T11:58:17.035Z"
   },
   {
    "duration": 0,
    "start_time": "2023-07-22T11:58:17.165Z"
   },
   {
    "duration": 0,
    "start_time": "2023-07-22T11:58:17.166Z"
   },
   {
    "duration": 0,
    "start_time": "2023-07-22T11:58:17.168Z"
   },
   {
    "duration": 1413,
    "start_time": "2023-07-22T11:59:27.542Z"
   },
   {
    "duration": 368,
    "start_time": "2023-07-22T11:59:28.957Z"
   },
   {
    "duration": 14,
    "start_time": "2023-07-22T11:59:29.327Z"
   },
   {
    "duration": 81,
    "start_time": "2023-07-22T11:59:29.343Z"
   },
   {
    "duration": 71,
    "start_time": "2023-07-22T11:59:29.426Z"
   },
   {
    "duration": 34,
    "start_time": "2023-07-22T11:59:29.499Z"
   },
   {
    "duration": 7,
    "start_time": "2023-07-22T11:59:29.535Z"
   },
   {
    "duration": 47,
    "start_time": "2023-07-22T11:59:29.543Z"
   },
   {
    "duration": 3,
    "start_time": "2023-07-22T11:59:29.591Z"
   },
   {
    "duration": 906,
    "start_time": "2023-07-22T11:59:29.597Z"
   },
   {
    "duration": 25,
    "start_time": "2023-07-22T11:59:30.505Z"
   },
   {
    "duration": 307,
    "start_time": "2023-07-22T11:59:30.531Z"
   },
   {
    "duration": 861,
    "start_time": "2023-07-22T11:59:30.840Z"
   },
   {
    "duration": 25,
    "start_time": "2023-07-22T11:59:31.702Z"
   },
   {
    "duration": 56,
    "start_time": "2023-07-22T11:59:31.729Z"
   },
   {
    "duration": 18,
    "start_time": "2023-07-22T11:59:31.786Z"
   },
   {
    "duration": 46,
    "start_time": "2023-07-22T11:59:31.820Z"
   },
   {
    "duration": 18,
    "start_time": "2023-07-22T11:59:31.867Z"
   },
   {
    "duration": 55,
    "start_time": "2023-07-22T11:59:31.887Z"
   },
   {
    "duration": 4,
    "start_time": "2023-07-22T11:59:31.943Z"
   },
   {
    "duration": 895,
    "start_time": "2023-07-22T11:59:31.948Z"
   },
   {
    "duration": 17,
    "start_time": "2023-07-22T11:59:32.846Z"
   },
   {
    "duration": 459,
    "start_time": "2023-07-22T11:59:32.865Z"
   },
   {
    "duration": 817,
    "start_time": "2023-07-22T11:59:33.325Z"
   },
   {
    "duration": 13,
    "start_time": "2023-07-22T11:59:34.144Z"
   },
   {
    "duration": 64,
    "start_time": "2023-07-22T11:59:34.158Z"
   },
   {
    "duration": 18,
    "start_time": "2023-07-22T11:59:34.223Z"
   },
   {
    "duration": 20,
    "start_time": "2023-07-22T11:59:34.245Z"
   },
   {
    "duration": 7,
    "start_time": "2023-07-22T11:59:34.266Z"
   },
   {
    "duration": 56,
    "start_time": "2023-07-22T11:59:34.275Z"
   },
   {
    "duration": 2,
    "start_time": "2023-07-22T11:59:34.333Z"
   },
   {
    "duration": 951,
    "start_time": "2023-07-22T11:59:34.336Z"
   },
   {
    "duration": 12,
    "start_time": "2023-07-22T11:59:35.289Z"
   },
   {
    "duration": 425,
    "start_time": "2023-07-22T11:59:35.303Z"
   },
   {
    "duration": 807,
    "start_time": "2023-07-22T11:59:35.730Z"
   },
   {
    "duration": 17,
    "start_time": "2023-07-22T11:59:36.539Z"
   },
   {
    "duration": 32,
    "start_time": "2023-07-22T11:59:36.558Z"
   },
   {
    "duration": 15,
    "start_time": "2023-07-22T11:59:36.592Z"
   },
   {
    "duration": 2,
    "start_time": "2023-07-22T11:59:36.609Z"
   },
   {
    "duration": 16,
    "start_time": "2023-07-22T11:59:36.612Z"
   },
   {
    "duration": 19,
    "start_time": "2023-07-22T11:59:36.630Z"
   },
   {
    "duration": 11,
    "start_time": "2023-07-22T11:59:36.651Z"
   },
   {
    "duration": 13,
    "start_time": "2023-07-22T11:59:36.663Z"
   },
   {
    "duration": 6,
    "start_time": "2023-07-22T11:59:36.677Z"
   },
   {
    "duration": 13,
    "start_time": "2023-07-22T11:59:36.685Z"
   },
   {
    "duration": 1221,
    "start_time": "2023-07-22T11:59:36.700Z"
   },
   {
    "duration": 9,
    "start_time": "2023-07-22T11:59:37.926Z"
   },
   {
    "duration": 114,
    "start_time": "2023-07-22T11:59:38.022Z"
   },
   {
    "duration": 85,
    "start_time": "2023-07-22T11:59:38.138Z"
   },
   {
    "duration": 201,
    "start_time": "2023-07-22T11:59:38.226Z"
   },
   {
    "duration": 10,
    "start_time": "2023-07-22T11:59:38.429Z"
   },
   {
    "duration": 6,
    "start_time": "2023-07-22T11:59:38.441Z"
   },
   {
    "duration": 10,
    "start_time": "2023-07-22T11:59:38.449Z"
   },
   {
    "duration": 6,
    "start_time": "2023-07-22T11:59:38.461Z"
   },
   {
    "duration": 7,
    "start_time": "2023-07-22T11:59:38.469Z"
   },
   {
    "duration": 9,
    "start_time": "2023-07-22T11:59:38.477Z"
   },
   {
    "duration": 15,
    "start_time": "2023-07-22T11:59:38.488Z"
   },
   {
    "duration": 16,
    "start_time": "2023-07-22T11:59:38.505Z"
   },
   {
    "duration": 15,
    "start_time": "2023-07-22T11:59:38.523Z"
   },
   {
    "duration": 32,
    "start_time": "2023-07-22T11:59:38.539Z"
   },
   {
    "duration": 13,
    "start_time": "2023-07-22T11:59:38.573Z"
   },
   {
    "duration": 19,
    "start_time": "2023-07-22T11:59:38.588Z"
   },
   {
    "duration": 17,
    "start_time": "2023-07-22T11:59:38.609Z"
   },
   {
    "duration": 8,
    "start_time": "2023-07-22T11:59:38.628Z"
   },
   {
    "duration": 6,
    "start_time": "2023-07-22T11:59:38.637Z"
   },
   {
    "duration": 9,
    "start_time": "2023-07-22T11:59:38.644Z"
   },
   {
    "duration": 9,
    "start_time": "2023-07-22T11:59:38.654Z"
   },
   {
    "duration": 5,
    "start_time": "2023-07-22T11:59:38.665Z"
   },
   {
    "duration": 11,
    "start_time": "2023-07-22T11:59:38.671Z"
   },
   {
    "duration": 11,
    "start_time": "2023-07-22T11:59:38.684Z"
   },
   {
    "duration": 13,
    "start_time": "2023-07-22T11:59:38.696Z"
   },
   {
    "duration": 6,
    "start_time": "2023-07-22T11:59:38.711Z"
   },
   {
    "duration": 1504,
    "start_time": "2023-07-22T11:59:38.718Z"
   },
   {
    "duration": 8,
    "start_time": "2023-07-22T11:59:40.224Z"
   },
   {
    "duration": 908,
    "start_time": "2023-07-22T11:59:40.234Z"
   },
   {
    "duration": 1337,
    "start_time": "2023-07-22T11:59:41.144Z"
   },
   {
    "duration": 121,
    "start_time": "2023-07-22T12:03:17.193Z"
   },
   {
    "duration": 15,
    "start_time": "2023-07-22T12:04:36.513Z"
   },
   {
    "duration": 2474,
    "start_time": "2023-07-22T12:09:06.110Z"
   },
   {
    "duration": 2,
    "start_time": "2023-07-22T12:25:58.067Z"
   },
   {
    "duration": 12,
    "start_time": "2023-07-22T12:27:16.359Z"
   },
   {
    "duration": 12,
    "start_time": "2023-07-22T12:27:50.098Z"
   },
   {
    "duration": 17,
    "start_time": "2023-07-22T12:30:19.758Z"
   },
   {
    "duration": 20,
    "start_time": "2023-07-22T12:31:17.209Z"
   },
   {
    "duration": 1832,
    "start_time": "2023-07-22T12:32:45.465Z"
   },
   {
    "duration": 1416,
    "start_time": "2023-07-22T12:33:10.518Z"
   },
   {
    "duration": 369,
    "start_time": "2023-07-22T12:33:11.936Z"
   },
   {
    "duration": 20,
    "start_time": "2023-07-22T12:33:12.306Z"
   },
   {
    "duration": 69,
    "start_time": "2023-07-22T12:33:12.328Z"
   },
   {
    "duration": 69,
    "start_time": "2023-07-22T12:33:12.399Z"
   },
   {
    "duration": 21,
    "start_time": "2023-07-22T12:33:12.470Z"
   },
   {
    "duration": 11,
    "start_time": "2023-07-22T12:33:12.493Z"
   },
   {
    "duration": 47,
    "start_time": "2023-07-22T12:33:12.506Z"
   },
   {
    "duration": 2,
    "start_time": "2023-07-22T12:33:12.555Z"
   },
   {
    "duration": 863,
    "start_time": "2023-07-22T12:33:12.558Z"
   },
   {
    "duration": 12,
    "start_time": "2023-07-22T12:33:13.422Z"
   },
   {
    "duration": 315,
    "start_time": "2023-07-22T12:33:13.436Z"
   },
   {
    "duration": 869,
    "start_time": "2023-07-22T12:33:13.753Z"
   },
   {
    "duration": 14,
    "start_time": "2023-07-22T12:33:14.626Z"
   },
   {
    "duration": 147,
    "start_time": "2023-07-22T12:33:14.642Z"
   },
   {
    "duration": 17,
    "start_time": "2023-07-22T12:33:14.790Z"
   },
   {
    "duration": 42,
    "start_time": "2023-07-22T12:33:14.808Z"
   },
   {
    "duration": 12,
    "start_time": "2023-07-22T12:33:14.852Z"
   },
   {
    "duration": 43,
    "start_time": "2023-07-22T12:33:14.866Z"
   },
   {
    "duration": 2,
    "start_time": "2023-07-22T12:33:14.911Z"
   },
   {
    "duration": 993,
    "start_time": "2023-07-22T12:33:14.915Z"
   },
   {
    "duration": 18,
    "start_time": "2023-07-22T12:33:15.910Z"
   },
   {
    "duration": 432,
    "start_time": "2023-07-22T12:33:15.930Z"
   },
   {
    "duration": 868,
    "start_time": "2023-07-22T12:33:16.364Z"
   },
   {
    "duration": 15,
    "start_time": "2023-07-22T12:33:17.234Z"
   },
   {
    "duration": 71,
    "start_time": "2023-07-22T12:33:17.250Z"
   },
   {
    "duration": 19,
    "start_time": "2023-07-22T12:33:17.323Z"
   },
   {
    "duration": 21,
    "start_time": "2023-07-22T12:33:17.344Z"
   },
   {
    "duration": 29,
    "start_time": "2023-07-22T12:33:17.367Z"
   },
   {
    "duration": 51,
    "start_time": "2023-07-22T12:33:17.398Z"
   },
   {
    "duration": 3,
    "start_time": "2023-07-22T12:33:17.451Z"
   },
   {
    "duration": 858,
    "start_time": "2023-07-22T12:33:17.455Z"
   },
   {
    "duration": 17,
    "start_time": "2023-07-22T12:33:18.315Z"
   },
   {
    "duration": 392,
    "start_time": "2023-07-22T12:33:18.334Z"
   },
   {
    "duration": 863,
    "start_time": "2023-07-22T12:33:18.728Z"
   },
   {
    "duration": 12,
    "start_time": "2023-07-22T12:33:19.593Z"
   },
   {
    "duration": 24,
    "start_time": "2023-07-22T12:33:19.607Z"
   },
   {
    "duration": 19,
    "start_time": "2023-07-22T12:33:19.633Z"
   },
   {
    "duration": 2,
    "start_time": "2023-07-22T12:33:19.654Z"
   },
   {
    "duration": 28,
    "start_time": "2023-07-22T12:33:19.658Z"
   },
   {
    "duration": 6,
    "start_time": "2023-07-22T12:33:19.691Z"
   },
   {
    "duration": 5,
    "start_time": "2023-07-22T12:33:19.699Z"
   },
   {
    "duration": 8,
    "start_time": "2023-07-22T12:33:19.705Z"
   },
   {
    "duration": 15,
    "start_time": "2023-07-22T12:33:19.715Z"
   },
   {
    "duration": 27,
    "start_time": "2023-07-22T12:33:19.731Z"
   },
   {
    "duration": 862,
    "start_time": "2023-07-22T12:33:19.760Z"
   },
   {
    "duration": 97,
    "start_time": "2023-07-22T12:33:20.625Z"
   },
   {
    "duration": 100,
    "start_time": "2023-07-22T12:33:20.725Z"
   },
   {
    "duration": 196,
    "start_time": "2023-07-22T12:33:20.828Z"
   },
   {
    "duration": 194,
    "start_time": "2023-07-22T12:33:21.027Z"
   },
   {
    "duration": 8,
    "start_time": "2023-07-22T12:33:21.223Z"
   },
   {
    "duration": 7,
    "start_time": "2023-07-22T12:33:21.232Z"
   },
   {
    "duration": 10,
    "start_time": "2023-07-22T12:33:21.240Z"
   },
   {
    "duration": 6,
    "start_time": "2023-07-22T12:33:21.251Z"
   },
   {
    "duration": 7,
    "start_time": "2023-07-22T12:33:21.259Z"
   },
   {
    "duration": 7,
    "start_time": "2023-07-22T12:33:21.267Z"
   },
   {
    "duration": 9,
    "start_time": "2023-07-22T12:33:21.276Z"
   },
   {
    "duration": 34,
    "start_time": "2023-07-22T12:33:21.287Z"
   },
   {
    "duration": 4,
    "start_time": "2023-07-22T12:33:21.322Z"
   },
   {
    "duration": 10,
    "start_time": "2023-07-22T12:33:21.328Z"
   },
   {
    "duration": 3,
    "start_time": "2023-07-22T12:33:21.339Z"
   },
   {
    "duration": 7,
    "start_time": "2023-07-22T12:33:21.344Z"
   },
   {
    "duration": 8,
    "start_time": "2023-07-22T12:33:21.352Z"
   },
   {
    "duration": 10,
    "start_time": "2023-07-22T12:33:21.362Z"
   },
   {
    "duration": 9,
    "start_time": "2023-07-22T12:33:21.374Z"
   },
   {
    "duration": 6,
    "start_time": "2023-07-22T12:33:21.384Z"
   },
   {
    "duration": 6,
    "start_time": "2023-07-22T12:33:21.392Z"
   },
   {
    "duration": 21,
    "start_time": "2023-07-22T12:33:21.399Z"
   },
   {
    "duration": 4,
    "start_time": "2023-07-22T12:33:21.422Z"
   },
   {
    "duration": 5,
    "start_time": "2023-07-22T12:33:21.427Z"
   },
   {
    "duration": 7,
    "start_time": "2023-07-22T12:33:21.433Z"
   },
   {
    "duration": 7,
    "start_time": "2023-07-22T12:33:21.441Z"
   },
   {
    "duration": 1944,
    "start_time": "2023-07-22T12:33:21.450Z"
   },
   {
    "duration": 3,
    "start_time": "2023-07-22T12:33:23.395Z"
   },
   {
    "duration": 22,
    "start_time": "2023-07-22T12:33:23.400Z"
   },
   {
    "duration": 866,
    "start_time": "2023-07-22T12:33:23.423Z"
   },
   {
    "duration": 1296,
    "start_time": "2023-07-22T12:33:24.291Z"
   },
   {
    "duration": 1648,
    "start_time": "2023-07-23T09:33:53.728Z"
   },
   {
    "duration": 1947,
    "start_time": "2023-07-23T09:33:55.378Z"
   },
   {
    "duration": 14,
    "start_time": "2023-07-23T09:33:57.327Z"
   },
   {
    "duration": 66,
    "start_time": "2023-07-23T09:33:57.343Z"
   },
   {
    "duration": 68,
    "start_time": "2023-07-23T09:33:57.411Z"
   },
   {
    "duration": 21,
    "start_time": "2023-07-23T09:33:57.480Z"
   },
   {
    "duration": 27,
    "start_time": "2023-07-23T09:33:57.502Z"
   },
   {
    "duration": 101,
    "start_time": "2023-07-23T09:33:57.531Z"
   },
   {
    "duration": 3,
    "start_time": "2023-07-23T09:33:57.634Z"
   },
   {
    "duration": 1069,
    "start_time": "2023-07-23T09:33:57.641Z"
   },
   {
    "duration": 14,
    "start_time": "2023-07-23T09:33:58.711Z"
   },
   {
    "duration": 383,
    "start_time": "2023-07-23T09:33:58.727Z"
   },
   {
    "duration": 926,
    "start_time": "2023-07-23T09:33:59.112Z"
   },
   {
    "duration": 15,
    "start_time": "2023-07-23T09:34:00.040Z"
   },
   {
    "duration": 106,
    "start_time": "2023-07-23T09:34:00.056Z"
   },
   {
    "duration": 31,
    "start_time": "2023-07-23T09:34:00.165Z"
   },
   {
    "duration": 40,
    "start_time": "2023-07-23T09:34:00.198Z"
   },
   {
    "duration": 33,
    "start_time": "2023-07-23T09:34:00.240Z"
   },
   {
    "duration": 79,
    "start_time": "2023-07-23T09:34:00.275Z"
   },
   {
    "duration": 20,
    "start_time": "2023-07-23T09:34:00.356Z"
   },
   {
    "duration": 912,
    "start_time": "2023-07-23T09:34:00.377Z"
   },
   {
    "duration": 17,
    "start_time": "2023-07-23T09:34:01.291Z"
   },
   {
    "duration": 464,
    "start_time": "2023-07-23T09:34:01.310Z"
   },
   {
    "duration": 832,
    "start_time": "2023-07-23T09:34:01.780Z"
   },
   {
    "duration": 15,
    "start_time": "2023-07-23T09:34:02.614Z"
   },
   {
    "duration": 71,
    "start_time": "2023-07-23T09:34:02.631Z"
   },
   {
    "duration": 19,
    "start_time": "2023-07-23T09:34:02.704Z"
   },
   {
    "duration": 42,
    "start_time": "2023-07-23T09:34:02.726Z"
   },
   {
    "duration": 9,
    "start_time": "2023-07-23T09:34:02.770Z"
   },
   {
    "duration": 62,
    "start_time": "2023-07-23T09:34:02.781Z"
   },
   {
    "duration": 3,
    "start_time": "2023-07-23T09:34:02.845Z"
   },
   {
    "duration": 928,
    "start_time": "2023-07-23T09:34:02.849Z"
   },
   {
    "duration": 12,
    "start_time": "2023-07-23T09:34:03.778Z"
   },
   {
    "duration": 418,
    "start_time": "2023-07-23T09:34:03.792Z"
   },
   {
    "duration": 871,
    "start_time": "2023-07-23T09:34:04.213Z"
   },
   {
    "duration": 15,
    "start_time": "2023-07-23T09:34:05.086Z"
   },
   {
    "duration": 17,
    "start_time": "2023-07-23T09:34:05.103Z"
   },
   {
    "duration": 19,
    "start_time": "2023-07-23T09:34:05.122Z"
   },
   {
    "duration": 26,
    "start_time": "2023-07-23T09:34:05.143Z"
   },
   {
    "duration": 2,
    "start_time": "2023-07-23T09:34:05.171Z"
   },
   {
    "duration": 9,
    "start_time": "2023-07-23T09:34:05.177Z"
   },
   {
    "duration": 8,
    "start_time": "2023-07-23T09:34:05.188Z"
   },
   {
    "duration": 11,
    "start_time": "2023-07-23T09:34:05.197Z"
   },
   {
    "duration": 9,
    "start_time": "2023-07-23T09:34:05.209Z"
   },
   {
    "duration": 16,
    "start_time": "2023-07-23T09:34:05.219Z"
   },
   {
    "duration": 638,
    "start_time": "2023-07-23T09:34:05.236Z"
   },
   {
    "duration": 91,
    "start_time": "2023-07-23T09:34:05.877Z"
   },
   {
    "duration": 9,
    "start_time": "2023-07-23T09:34:05.971Z"
   },
   {
    "duration": 87,
    "start_time": "2023-07-23T09:34:05.982Z"
   },
   {
    "duration": 7,
    "start_time": "2023-07-23T09:34:06.072Z"
   },
   {
    "duration": 92,
    "start_time": "2023-07-23T09:34:06.081Z"
   },
   {
    "duration": 96,
    "start_time": "2023-07-23T09:34:06.175Z"
   },
   {
    "duration": 50,
    "start_time": "2023-07-23T09:34:06.272Z"
   },
   {
    "duration": 19,
    "start_time": "2023-07-23T09:34:06.325Z"
   },
   {
    "duration": 10,
    "start_time": "2023-07-23T09:34:06.346Z"
   },
   {
    "duration": 36,
    "start_time": "2023-07-23T09:34:06.357Z"
   },
   {
    "duration": 23,
    "start_time": "2023-07-23T09:34:06.395Z"
   },
   {
    "duration": 6,
    "start_time": "2023-07-23T09:34:06.420Z"
   },
   {
    "duration": 15,
    "start_time": "2023-07-23T09:34:06.428Z"
   },
   {
    "duration": 21,
    "start_time": "2023-07-23T09:34:06.445Z"
   },
   {
    "duration": 9,
    "start_time": "2023-07-23T09:34:06.468Z"
   },
   {
    "duration": 12,
    "start_time": "2023-07-23T09:34:06.479Z"
   },
   {
    "duration": 20,
    "start_time": "2023-07-23T09:34:06.493Z"
   },
   {
    "duration": 6,
    "start_time": "2023-07-23T09:34:06.514Z"
   },
   {
    "duration": 3,
    "start_time": "2023-07-23T09:34:06.522Z"
   },
   {
    "duration": 4,
    "start_time": "2023-07-23T09:34:06.527Z"
   },
   {
    "duration": 6,
    "start_time": "2023-07-23T09:34:06.533Z"
   },
   {
    "duration": 5,
    "start_time": "2023-07-23T09:34:06.540Z"
   },
   {
    "duration": 9,
    "start_time": "2023-07-23T09:34:06.547Z"
   },
   {
    "duration": 7,
    "start_time": "2023-07-23T09:34:06.569Z"
   },
   {
    "duration": 14,
    "start_time": "2023-07-23T09:34:06.578Z"
   },
   {
    "duration": 28,
    "start_time": "2023-07-23T09:34:06.593Z"
   },
   {
    "duration": 1853,
    "start_time": "2023-07-23T09:34:06.624Z"
   },
   {
    "duration": 4,
    "start_time": "2023-07-23T09:34:08.478Z"
   },
   {
    "duration": 20,
    "start_time": "2023-07-23T09:34:08.484Z"
   },
   {
    "duration": 845,
    "start_time": "2023-07-23T09:34:08.507Z"
   },
   {
    "duration": 1251,
    "start_time": "2023-07-23T09:34:09.353Z"
   },
   {
    "duration": 30,
    "start_time": "2023-07-23T09:42:43.169Z"
   }
  ],
  "kernelspec": {
   "display_name": "Python 3 (ipykernel)",
   "language": "python",
   "name": "python3"
  },
  "language_info": {
   "codemirror_mode": {
    "name": "ipython",
    "version": 3
   },
   "file_extension": ".py",
   "mimetype": "text/x-python",
   "name": "python",
   "nbconvert_exporter": "python",
   "pygments_lexer": "ipython3",
   "version": "3.9.5"
  },
  "toc": {
   "base_numbering": 1,
   "nav_menu": {},
   "number_sections": true,
   "sideBar": true,
   "skip_h1_title": true,
   "title_cell": "Table of Contents",
   "title_sidebar": "Contents",
   "toc_cell": false,
   "toc_position": {},
   "toc_section_display": true,
   "toc_window_display": false
  }
 },
 "nbformat": 4,
 "nbformat_minor": 2
}
